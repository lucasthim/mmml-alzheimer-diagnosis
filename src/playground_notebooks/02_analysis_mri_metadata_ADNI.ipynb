{
 "cells": [
  {
   "cell_type": "code",
   "execution_count": 2,
   "metadata": {},
   "outputs": [],
   "source": [
    "import pandas as pd\n",
    "import os\n",
    "pd.set_option('display.max_columns', 100)\n",
    "pd.set_option('display.max_rows', 100)"
   ]
  },
  {
   "cell_type": "code",
   "execution_count": 1,
   "metadata": {},
   "outputs": [
    {
     "output_type": "execute_result",
     "data": {
      "text/plain": [
       "['MPRAGEMETA.csv', 'ADNI1_Complete_1Yr_1.5T_1_23_2021.csv', 'MRIMETA.csv']"
      ]
     },
     "metadata": {},
     "execution_count": 1
    }
   ],
   "source": [
    "os.listdir(\"./data\")"
   ]
  },
  {
   "source": [
    "# MRI Metadata Analysis - MP-RAGE\n",
    "\n",
    "MP-RAGE are pre-processed MRI images"
   ],
   "cell_type": "markdown",
   "metadata": {}
  },
  {
   "cell_type": "code",
   "execution_count": 3,
   "metadata": {},
   "outputs": [
    {
     "output_type": "execute_result",
     "data": {
      "text/plain": [
       "(37315, 9)"
      ]
     },
     "metadata": {},
     "execution_count": 3
    }
   ],
   "source": [
    "df_mri = pd.read_csv(\"./data/MPRAGEMETA.csv\")\n",
    "df_mri.shape"
   ]
  },
  {
   "cell_type": "code",
   "execution_count": 4,
   "metadata": {},
   "outputs": [
    {
     "output_type": "execute_result",
     "data": {
      "text/plain": [
       "       Orig/Proc   SubjectID              Visit  MagStrength        Sequence  \\\n",
       "0       Original  037_S_1421     ADNI Screening          1.5  MP-RAGE REPEAT   \n",
       "1       Original  037_S_1421     ADNI Screening          1.5         MP-RAGE   \n",
       "2       Original  037_S_1421   ADNI1/GO Month 6          1.5  MP-RAGE-Repeat   \n",
       "3       Original  037_S_1421   ADNI1/GO Month 6          1.5         MP-RAGE   \n",
       "4       Original  037_S_1421  ADNI1/GO Month 12          1.5  MP-RAGE-Repeat   \n",
       "...          ...         ...                ...          ...             ...   \n",
       "37310  Processed  037_S_6046     ADNI Screening          3.0        MT1; N3m   \n",
       "37311  Processed  067_S_6045     ADNI Screening          3.0        MT1; N3m   \n",
       "37312  Processed  941_S_6052     ADNI Screening          3.0        MT1; N3m   \n",
       "37313  Processed  168_S_6051     ADNI Screening          3.0        MT1; N3m   \n",
       "37314  Processed  002_S_6053     ADNI Screening          3.0        MT1; N3m   \n",
       "\n",
       "         ScanDate  StudyID  SeriesID  ImageUID  \n",
       "0      2007-08-27    11613     38601     70854  \n",
       "1      2007-08-27    11613     38602     70855  \n",
       "2      2008-02-20    14713     45955     91145  \n",
       "3      2008-02-20    14713     45956     91146  \n",
       "4      2008-09-17    17750     56559    118124  \n",
       "...           ...      ...       ...       ...  \n",
       "37310  2017-07-17   113078    583899    882757  \n",
       "37311  2017-07-13   113046    583463    882761  \n",
       "37312  2017-07-20   113211    585807    882756  \n",
       "37313  2017-07-13   113082    583955    882727  \n",
       "37314  2017-07-18   113332    586900    882769  \n",
       "\n",
       "[37315 rows x 9 columns]"
      ],
      "text/html": "<div>\n<style scoped>\n    .dataframe tbody tr th:only-of-type {\n        vertical-align: middle;\n    }\n\n    .dataframe tbody tr th {\n        vertical-align: top;\n    }\n\n    .dataframe thead th {\n        text-align: right;\n    }\n</style>\n<table border=\"1\" class=\"dataframe\">\n  <thead>\n    <tr style=\"text-align: right;\">\n      <th></th>\n      <th>Orig/Proc</th>\n      <th>SubjectID</th>\n      <th>Visit</th>\n      <th>MagStrength</th>\n      <th>Sequence</th>\n      <th>ScanDate</th>\n      <th>StudyID</th>\n      <th>SeriesID</th>\n      <th>ImageUID</th>\n    </tr>\n  </thead>\n  <tbody>\n    <tr>\n      <th>0</th>\n      <td>Original</td>\n      <td>037_S_1421</td>\n      <td>ADNI Screening</td>\n      <td>1.5</td>\n      <td>MP-RAGE REPEAT</td>\n      <td>2007-08-27</td>\n      <td>11613</td>\n      <td>38601</td>\n      <td>70854</td>\n    </tr>\n    <tr>\n      <th>1</th>\n      <td>Original</td>\n      <td>037_S_1421</td>\n      <td>ADNI Screening</td>\n      <td>1.5</td>\n      <td>MP-RAGE</td>\n      <td>2007-08-27</td>\n      <td>11613</td>\n      <td>38602</td>\n      <td>70855</td>\n    </tr>\n    <tr>\n      <th>2</th>\n      <td>Original</td>\n      <td>037_S_1421</td>\n      <td>ADNI1/GO Month 6</td>\n      <td>1.5</td>\n      <td>MP-RAGE-Repeat</td>\n      <td>2008-02-20</td>\n      <td>14713</td>\n      <td>45955</td>\n      <td>91145</td>\n    </tr>\n    <tr>\n      <th>3</th>\n      <td>Original</td>\n      <td>037_S_1421</td>\n      <td>ADNI1/GO Month 6</td>\n      <td>1.5</td>\n      <td>MP-RAGE</td>\n      <td>2008-02-20</td>\n      <td>14713</td>\n      <td>45956</td>\n      <td>91146</td>\n    </tr>\n    <tr>\n      <th>4</th>\n      <td>Original</td>\n      <td>037_S_1421</td>\n      <td>ADNI1/GO Month 12</td>\n      <td>1.5</td>\n      <td>MP-RAGE-Repeat</td>\n      <td>2008-09-17</td>\n      <td>17750</td>\n      <td>56559</td>\n      <td>118124</td>\n    </tr>\n    <tr>\n      <th>...</th>\n      <td>...</td>\n      <td>...</td>\n      <td>...</td>\n      <td>...</td>\n      <td>...</td>\n      <td>...</td>\n      <td>...</td>\n      <td>...</td>\n      <td>...</td>\n    </tr>\n    <tr>\n      <th>37310</th>\n      <td>Processed</td>\n      <td>037_S_6046</td>\n      <td>ADNI Screening</td>\n      <td>3.0</td>\n      <td>MT1; N3m</td>\n      <td>2017-07-17</td>\n      <td>113078</td>\n      <td>583899</td>\n      <td>882757</td>\n    </tr>\n    <tr>\n      <th>37311</th>\n      <td>Processed</td>\n      <td>067_S_6045</td>\n      <td>ADNI Screening</td>\n      <td>3.0</td>\n      <td>MT1; N3m</td>\n      <td>2017-07-13</td>\n      <td>113046</td>\n      <td>583463</td>\n      <td>882761</td>\n    </tr>\n    <tr>\n      <th>37312</th>\n      <td>Processed</td>\n      <td>941_S_6052</td>\n      <td>ADNI Screening</td>\n      <td>3.0</td>\n      <td>MT1; N3m</td>\n      <td>2017-07-20</td>\n      <td>113211</td>\n      <td>585807</td>\n      <td>882756</td>\n    </tr>\n    <tr>\n      <th>37313</th>\n      <td>Processed</td>\n      <td>168_S_6051</td>\n      <td>ADNI Screening</td>\n      <td>3.0</td>\n      <td>MT1; N3m</td>\n      <td>2017-07-13</td>\n      <td>113082</td>\n      <td>583955</td>\n      <td>882727</td>\n    </tr>\n    <tr>\n      <th>37314</th>\n      <td>Processed</td>\n      <td>002_S_6053</td>\n      <td>ADNI Screening</td>\n      <td>3.0</td>\n      <td>MT1; N3m</td>\n      <td>2017-07-18</td>\n      <td>113332</td>\n      <td>586900</td>\n      <td>882769</td>\n    </tr>\n  </tbody>\n</table>\n<p>37315 rows × 9 columns</p>\n</div>"
     },
     "metadata": {},
     "execution_count": 4
    }
   ],
   "source": [
    "df_mri"
   ]
  },
  {
   "cell_type": "code",
   "execution_count": 5,
   "metadata": {},
   "outputs": [
    {
     "output_type": "execute_result",
     "data": {
      "text/plain": [
       "array(['ADNI Screening', 'ADNI1/GO Month 6', 'ADNI1/GO Month 12',\n",
       "       'ADNI1/GO Month 18', 'ADNI1/GO Month 36', 'ADNI1/GO Month 24',\n",
       "       'ADNI2 Initial Visit-Cont Pt', 'ADNI2 Year 1 Visit',\n",
       "       'ADNI2 Year 2 Visit', 'ADNI2 Year 3 Visit', 'ADNI2 Year 5 Visit',\n",
       "       'ADNI3 Initial Visit-Cont Pt', 'ADNI3 Year 1 Visit',\n",
       "       'ADNI3 Year 2 Visit', 'ADNI1/GO Month 48', 'ADNI Baseline',\n",
       "       'ADNI2 Year 4 Visit', 'ADNIGO Month 60', 'ADNIGO Month 72',\n",
       "       'Unscheduled', 'ADNI3 Year 3 Visit', 'No Visit Defined',\n",
       "       'ADNIGO Screening MRI', 'ADNIGO Month 3 MRI',\n",
       "       'ADNI2 Screening MRI-New Pt', 'ADNI2 Month 3 MRI-New Pt',\n",
       "       'ADNI2 Month 6-New Pt', 'ADNI3 Year 4 Visit',\n",
       "       'ADNI2 Tau-only visit', 'ADNI2 Screening-New Pt'], dtype=object)"
      ]
     },
     "metadata": {},
     "execution_count": 5
    }
   ],
   "source": [
    "df_mri['Visit'].unique()"
   ]
  },
  {
   "cell_type": "code",
   "execution_count": 9,
   "metadata": {},
   "outputs": [
    {
     "output_type": "execute_result",
     "data": {
      "text/plain": [
       "       Orig/Proc   SubjectID           Visit  MagStrength        Sequence  \\\n",
       "0       Original  037_S_1421  ADNI Screening          1.5  MP-RAGE REPEAT   \n",
       "1       Original  037_S_1421  ADNI Screening          1.5         MP-RAGE   \n",
       "10      Original  127_S_1427  ADNI Screening          1.5         MP-RAGE   \n",
       "11      Original  127_S_1427  ADNI Screening          1.5  MP-RAGE REPEAT   \n",
       "35      Original  027_S_1213  ADNI Screening          1.5  MP-RAGE REPEAT   \n",
       "...          ...         ...             ...          ...             ...   \n",
       "37310  Processed  037_S_6046  ADNI Screening          3.0        MT1; N3m   \n",
       "37311  Processed  067_S_6045  ADNI Screening          3.0        MT1; N3m   \n",
       "37312  Processed  941_S_6052  ADNI Screening          3.0        MT1; N3m   \n",
       "37313  Processed  168_S_6051  ADNI Screening          3.0        MT1; N3m   \n",
       "37314  Processed  002_S_6053  ADNI Screening          3.0        MT1; N3m   \n",
       "\n",
       "         ScanDate  StudyID  SeriesID  ImageUID  \n",
       "0      2007-08-27    11613     38601     70854  \n",
       "1      2007-08-27    11613     38602     70855  \n",
       "10     2007-08-20    11182     37933     69355  \n",
       "11     2007-08-20    11182     37934     69356  \n",
       "35     2007-01-19     6823     25492     37392  \n",
       "...           ...      ...       ...       ...  \n",
       "37310  2017-07-17   113078    583899    882757  \n",
       "37311  2017-07-13   113046    583463    882761  \n",
       "37312  2017-07-20   113211    585807    882756  \n",
       "37313  2017-07-13   113082    583955    882727  \n",
       "37314  2017-07-18   113332    586900    882769  \n",
       "\n",
       "[4856 rows x 9 columns]"
      ],
      "text/html": "<div>\n<style scoped>\n    .dataframe tbody tr th:only-of-type {\n        vertical-align: middle;\n    }\n\n    .dataframe tbody tr th {\n        vertical-align: top;\n    }\n\n    .dataframe thead th {\n        text-align: right;\n    }\n</style>\n<table border=\"1\" class=\"dataframe\">\n  <thead>\n    <tr style=\"text-align: right;\">\n      <th></th>\n      <th>Orig/Proc</th>\n      <th>SubjectID</th>\n      <th>Visit</th>\n      <th>MagStrength</th>\n      <th>Sequence</th>\n      <th>ScanDate</th>\n      <th>StudyID</th>\n      <th>SeriesID</th>\n      <th>ImageUID</th>\n    </tr>\n  </thead>\n  <tbody>\n    <tr>\n      <th>0</th>\n      <td>Original</td>\n      <td>037_S_1421</td>\n      <td>ADNI Screening</td>\n      <td>1.5</td>\n      <td>MP-RAGE REPEAT</td>\n      <td>2007-08-27</td>\n      <td>11613</td>\n      <td>38601</td>\n      <td>70854</td>\n    </tr>\n    <tr>\n      <th>1</th>\n      <td>Original</td>\n      <td>037_S_1421</td>\n      <td>ADNI Screening</td>\n      <td>1.5</td>\n      <td>MP-RAGE</td>\n      <td>2007-08-27</td>\n      <td>11613</td>\n      <td>38602</td>\n      <td>70855</td>\n    </tr>\n    <tr>\n      <th>10</th>\n      <td>Original</td>\n      <td>127_S_1427</td>\n      <td>ADNI Screening</td>\n      <td>1.5</td>\n      <td>MP-RAGE</td>\n      <td>2007-08-20</td>\n      <td>11182</td>\n      <td>37933</td>\n      <td>69355</td>\n    </tr>\n    <tr>\n      <th>11</th>\n      <td>Original</td>\n      <td>127_S_1427</td>\n      <td>ADNI Screening</td>\n      <td>1.5</td>\n      <td>MP-RAGE REPEAT</td>\n      <td>2007-08-20</td>\n      <td>11182</td>\n      <td>37934</td>\n      <td>69356</td>\n    </tr>\n    <tr>\n      <th>35</th>\n      <td>Original</td>\n      <td>027_S_1213</td>\n      <td>ADNI Screening</td>\n      <td>1.5</td>\n      <td>MP-RAGE REPEAT</td>\n      <td>2007-01-19</td>\n      <td>6823</td>\n      <td>25492</td>\n      <td>37392</td>\n    </tr>\n    <tr>\n      <th>...</th>\n      <td>...</td>\n      <td>...</td>\n      <td>...</td>\n      <td>...</td>\n      <td>...</td>\n      <td>...</td>\n      <td>...</td>\n      <td>...</td>\n      <td>...</td>\n    </tr>\n    <tr>\n      <th>37310</th>\n      <td>Processed</td>\n      <td>037_S_6046</td>\n      <td>ADNI Screening</td>\n      <td>3.0</td>\n      <td>MT1; N3m</td>\n      <td>2017-07-17</td>\n      <td>113078</td>\n      <td>583899</td>\n      <td>882757</td>\n    </tr>\n    <tr>\n      <th>37311</th>\n      <td>Processed</td>\n      <td>067_S_6045</td>\n      <td>ADNI Screening</td>\n      <td>3.0</td>\n      <td>MT1; N3m</td>\n      <td>2017-07-13</td>\n      <td>113046</td>\n      <td>583463</td>\n      <td>882761</td>\n    </tr>\n    <tr>\n      <th>37312</th>\n      <td>Processed</td>\n      <td>941_S_6052</td>\n      <td>ADNI Screening</td>\n      <td>3.0</td>\n      <td>MT1; N3m</td>\n      <td>2017-07-20</td>\n      <td>113211</td>\n      <td>585807</td>\n      <td>882756</td>\n    </tr>\n    <tr>\n      <th>37313</th>\n      <td>Processed</td>\n      <td>168_S_6051</td>\n      <td>ADNI Screening</td>\n      <td>3.0</td>\n      <td>MT1; N3m</td>\n      <td>2017-07-13</td>\n      <td>113082</td>\n      <td>583955</td>\n      <td>882727</td>\n    </tr>\n    <tr>\n      <th>37314</th>\n      <td>Processed</td>\n      <td>002_S_6053</td>\n      <td>ADNI Screening</td>\n      <td>3.0</td>\n      <td>MT1; N3m</td>\n      <td>2017-07-18</td>\n      <td>113332</td>\n      <td>586900</td>\n      <td>882769</td>\n    </tr>\n  </tbody>\n</table>\n<p>4856 rows × 9 columns</p>\n</div>"
     },
     "metadata": {},
     "execution_count": 9
    }
   ],
   "source": [
    "adnis = ['ADNI Screening','ADNIGO Screening MRI','ADNI2 Screening-New Pt','ADNI Baseline']\n",
    "df_mri.query(\"Visit in @adnis\")"
   ]
  },
  {
   "cell_type": "code",
   "execution_count": 23,
   "metadata": {},
   "outputs": [
    {
     "output_type": "execute_result",
     "data": {
      "text/plain": [
       "array(['MPR; GradWarp; N3; Scaled', 'MPR-R; GradWarp; N3; Scaled',\n",
       "       'MPR; GradWarp; B1 Correction; N3; Scaled', 'MT1; N3m',\n",
       "       'MT1; GradWarp; N3m', 'MPR-R; GradWarp; B1 Correction; N3; Scaled',\n",
       "       'MPR; ; N3; Scaled', 'MPR; ; N3; Scaled_2',\n",
       "       'MPR-R; GradWarp; B1 Correction; N3; Scaled_2',\n",
       "       'MPR; GradWarp; B1 Correction; N3; Scaled_2',\n",
       "       'MPR-R; ; N3; Scaled', 'MPR-R; ; N3; Scaled_2',\n",
       "       'MPR; GradWarp; N3; Scaled_2', 'MPR-R; GradWarp; N3; Scaled_2',\n",
       "       'MPR; ; N3; Scaled; No phantom for scaling'], dtype=object)"
      ]
     },
     "metadata": {},
     "execution_count": 23
    }
   ],
   "source": [
    "df_mri.query(\"`Orig/Proc` == 'Processed'\")[\"Sequence\"].unique()"
   ]
  },
  {
   "cell_type": "code",
   "execution_count": 24,
   "metadata": {},
   "outputs": [
    {
     "output_type": "execute_result",
     "data": {
      "text/plain": [
       "       Orig/Proc   SubjectID              Visit  MagStrength  \\\n",
       "0       Original  037_S_1421     ADNI Screening          1.5   \n",
       "1       Original  037_S_1421     ADNI Screening          1.5   \n",
       "2       Original  037_S_1421   ADNI1/GO Month 6          1.5   \n",
       "3       Original  037_S_1421   ADNI1/GO Month 6          1.5   \n",
       "4       Original  037_S_1421  ADNI1/GO Month 12          1.5   \n",
       "5       Original  037_S_1421  ADNI1/GO Month 12          1.5   \n",
       "6       Original  037_S_1421  ADNI1/GO Month 18          1.5   \n",
       "7       Original  037_S_1421  ADNI1/GO Month 18          1.5   \n",
       "8       Original  037_S_1421  ADNI1/GO Month 36          1.5   \n",
       "9       Original  037_S_1421  ADNI1/GO Month 36          1.5   \n",
       "21707  Processed  037_S_1421     ADNI Screening          1.5   \n",
       "21708  Processed  037_S_1421   ADNI1/GO Month 6          1.5   \n",
       "21709  Processed  037_S_1421  ADNI1/GO Month 12          1.5   \n",
       "21710  Processed  037_S_1421  ADNI1/GO Month 18          1.5   \n",
       "21711  Processed  037_S_1421  ADNI1/GO Month 36          1.5   \n",
       "\n",
       "                          Sequence    ScanDate  StudyID  SeriesID  ImageUID  \n",
       "0                   MP-RAGE REPEAT  2007-08-27    11613     38601     70854  \n",
       "1                          MP-RAGE  2007-08-27    11613     38602     70855  \n",
       "2                   MP-RAGE-Repeat  2008-02-20    14713     45955     91145  \n",
       "3                          MP-RAGE  2008-02-20    14713     45956     91146  \n",
       "4                   MP-RAGE-Repeat  2008-09-17    17750     56559    118124  \n",
       "5                          MP-RAGE  2008-09-17    17750     56560    118125  \n",
       "6                          MP-RAGE  2009-05-13    21352     67237    143718  \n",
       "7                   MP-RAGE-Repeat  2009-05-13    21352     67238    143719  \n",
       "8                   MP-RAGE-Repeat  2010-09-24    29085     92604    193596  \n",
       "9                          MP-RAGE  2010-09-24    29085     92610    193604  \n",
       "21707    MPR; GradWarp; N3; Scaled  2007-08-27    11613     38602     79948  \n",
       "21708    MPR; GradWarp; N3; Scaled  2008-02-20    14713     45956     94525  \n",
       "21709    MPR; GradWarp; N3; Scaled  2008-09-17    17750     56560    121637  \n",
       "21710    MPR; GradWarp; N3; Scaled  2009-05-13    21352     67237    149807  \n",
       "21711  MPR-R; GradWarp; N3; Scaled  2010-09-24    29085     92604    203713  "
      ],
      "text/html": "<div>\n<style scoped>\n    .dataframe tbody tr th:only-of-type {\n        vertical-align: middle;\n    }\n\n    .dataframe tbody tr th {\n        vertical-align: top;\n    }\n\n    .dataframe thead th {\n        text-align: right;\n    }\n</style>\n<table border=\"1\" class=\"dataframe\">\n  <thead>\n    <tr style=\"text-align: right;\">\n      <th></th>\n      <th>Orig/Proc</th>\n      <th>SubjectID</th>\n      <th>Visit</th>\n      <th>MagStrength</th>\n      <th>Sequence</th>\n      <th>ScanDate</th>\n      <th>StudyID</th>\n      <th>SeriesID</th>\n      <th>ImageUID</th>\n    </tr>\n  </thead>\n  <tbody>\n    <tr>\n      <th>0</th>\n      <td>Original</td>\n      <td>037_S_1421</td>\n      <td>ADNI Screening</td>\n      <td>1.5</td>\n      <td>MP-RAGE REPEAT</td>\n      <td>2007-08-27</td>\n      <td>11613</td>\n      <td>38601</td>\n      <td>70854</td>\n    </tr>\n    <tr>\n      <th>1</th>\n      <td>Original</td>\n      <td>037_S_1421</td>\n      <td>ADNI Screening</td>\n      <td>1.5</td>\n      <td>MP-RAGE</td>\n      <td>2007-08-27</td>\n      <td>11613</td>\n      <td>38602</td>\n      <td>70855</td>\n    </tr>\n    <tr>\n      <th>2</th>\n      <td>Original</td>\n      <td>037_S_1421</td>\n      <td>ADNI1/GO Month 6</td>\n      <td>1.5</td>\n      <td>MP-RAGE-Repeat</td>\n      <td>2008-02-20</td>\n      <td>14713</td>\n      <td>45955</td>\n      <td>91145</td>\n    </tr>\n    <tr>\n      <th>3</th>\n      <td>Original</td>\n      <td>037_S_1421</td>\n      <td>ADNI1/GO Month 6</td>\n      <td>1.5</td>\n      <td>MP-RAGE</td>\n      <td>2008-02-20</td>\n      <td>14713</td>\n      <td>45956</td>\n      <td>91146</td>\n    </tr>\n    <tr>\n      <th>4</th>\n      <td>Original</td>\n      <td>037_S_1421</td>\n      <td>ADNI1/GO Month 12</td>\n      <td>1.5</td>\n      <td>MP-RAGE-Repeat</td>\n      <td>2008-09-17</td>\n      <td>17750</td>\n      <td>56559</td>\n      <td>118124</td>\n    </tr>\n    <tr>\n      <th>5</th>\n      <td>Original</td>\n      <td>037_S_1421</td>\n      <td>ADNI1/GO Month 12</td>\n      <td>1.5</td>\n      <td>MP-RAGE</td>\n      <td>2008-09-17</td>\n      <td>17750</td>\n      <td>56560</td>\n      <td>118125</td>\n    </tr>\n    <tr>\n      <th>6</th>\n      <td>Original</td>\n      <td>037_S_1421</td>\n      <td>ADNI1/GO Month 18</td>\n      <td>1.5</td>\n      <td>MP-RAGE</td>\n      <td>2009-05-13</td>\n      <td>21352</td>\n      <td>67237</td>\n      <td>143718</td>\n    </tr>\n    <tr>\n      <th>7</th>\n      <td>Original</td>\n      <td>037_S_1421</td>\n      <td>ADNI1/GO Month 18</td>\n      <td>1.5</td>\n      <td>MP-RAGE-Repeat</td>\n      <td>2009-05-13</td>\n      <td>21352</td>\n      <td>67238</td>\n      <td>143719</td>\n    </tr>\n    <tr>\n      <th>8</th>\n      <td>Original</td>\n      <td>037_S_1421</td>\n      <td>ADNI1/GO Month 36</td>\n      <td>1.5</td>\n      <td>MP-RAGE-Repeat</td>\n      <td>2010-09-24</td>\n      <td>29085</td>\n      <td>92604</td>\n      <td>193596</td>\n    </tr>\n    <tr>\n      <th>9</th>\n      <td>Original</td>\n      <td>037_S_1421</td>\n      <td>ADNI1/GO Month 36</td>\n      <td>1.5</td>\n      <td>MP-RAGE</td>\n      <td>2010-09-24</td>\n      <td>29085</td>\n      <td>92610</td>\n      <td>193604</td>\n    </tr>\n    <tr>\n      <th>21707</th>\n      <td>Processed</td>\n      <td>037_S_1421</td>\n      <td>ADNI Screening</td>\n      <td>1.5</td>\n      <td>MPR; GradWarp; N3; Scaled</td>\n      <td>2007-08-27</td>\n      <td>11613</td>\n      <td>38602</td>\n      <td>79948</td>\n    </tr>\n    <tr>\n      <th>21708</th>\n      <td>Processed</td>\n      <td>037_S_1421</td>\n      <td>ADNI1/GO Month 6</td>\n      <td>1.5</td>\n      <td>MPR; GradWarp; N3; Scaled</td>\n      <td>2008-02-20</td>\n      <td>14713</td>\n      <td>45956</td>\n      <td>94525</td>\n    </tr>\n    <tr>\n      <th>21709</th>\n      <td>Processed</td>\n      <td>037_S_1421</td>\n      <td>ADNI1/GO Month 12</td>\n      <td>1.5</td>\n      <td>MPR; GradWarp; N3; Scaled</td>\n      <td>2008-09-17</td>\n      <td>17750</td>\n      <td>56560</td>\n      <td>121637</td>\n    </tr>\n    <tr>\n      <th>21710</th>\n      <td>Processed</td>\n      <td>037_S_1421</td>\n      <td>ADNI1/GO Month 18</td>\n      <td>1.5</td>\n      <td>MPR; GradWarp; N3; Scaled</td>\n      <td>2009-05-13</td>\n      <td>21352</td>\n      <td>67237</td>\n      <td>149807</td>\n    </tr>\n    <tr>\n      <th>21711</th>\n      <td>Processed</td>\n      <td>037_S_1421</td>\n      <td>ADNI1/GO Month 36</td>\n      <td>1.5</td>\n      <td>MPR-R; GradWarp; N3; Scaled</td>\n      <td>2010-09-24</td>\n      <td>29085</td>\n      <td>92604</td>\n      <td>203713</td>\n    </tr>\n  </tbody>\n</table>\n</div>"
     },
     "metadata": {},
     "execution_count": 24
    }
   ],
   "source": [
    "df_mri.query(\"SubjectID == '037_S_1421'\")"
   ]
  },
  {
   "cell_type": "code",
   "execution_count": 27,
   "metadata": {},
   "outputs": [
    {
     "output_type": "execute_result",
     "data": {
      "text/plain": [
       "       Orig/Proc   SubjectID              Visit  MagStrength  \\\n",
       "35      Original  027_S_1213     ADNI Screening          1.5   \n",
       "36      Original  027_S_1213     ADNI Screening          1.5   \n",
       "37      Original  027_S_1213   ADNI1/GO Month 6          1.5   \n",
       "38      Original  027_S_1213   ADNI1/GO Month 6          1.5   \n",
       "39      Original  027_S_1213  ADNI1/GO Month 12          1.5   \n",
       "40      Original  027_S_1213  ADNI1/GO Month 12          1.5   \n",
       "41      Original  027_S_1213  ADNI1/GO Month 18          1.5   \n",
       "42      Original  027_S_1213  ADNI1/GO Month 18          1.5   \n",
       "43      Original  027_S_1213  ADNI1/GO Month 18          1.5   \n",
       "44      Original  027_S_1213  ADNI1/GO Month 24          1.5   \n",
       "45      Original  027_S_1213  ADNI1/GO Month 24          1.5   \n",
       "21731  Processed  027_S_1213     ADNI Screening          1.5   \n",
       "21732  Processed  027_S_1213   ADNI1/GO Month 6          1.5   \n",
       "21733  Processed  027_S_1213  ADNI1/GO Month 12          1.5   \n",
       "21734  Processed  027_S_1213  ADNI1/GO Month 18          1.5   \n",
       "21735  Processed  027_S_1213  ADNI1/GO Month 24          1.5   \n",
       "\n",
       "                                         Sequence    ScanDate  StudyID  \\\n",
       "35                                 MP-RAGE REPEAT  2007-01-19     6823   \n",
       "36                                        MP-RAGE  2007-01-19     6823   \n",
       "37                                        MP-RAGE  2007-07-20     9883   \n",
       "38                                 MP-RAGE REPEAT  2007-07-20     9883   \n",
       "39                                        MP-RAGE  2008-01-16    14330   \n",
       "40                                 MP-RAGE REPEAT  2008-01-16    14330   \n",
       "41                                        MP-RAGE  2008-07-28    17122   \n",
       "42                                        MP-RAGE  2008-07-28    17122   \n",
       "43                                 MP-RAGE REPEAT  2008-07-28    17122   \n",
       "44                                        MP-RAGE  2009-01-26    19531   \n",
       "45                                 MP-RAGE REPEAT  2009-01-26    19531   \n",
       "21731  MPR-R; GradWarp; B1 Correction; N3; Scaled  2007-01-19     6823   \n",
       "21732    MPR; GradWarp; B1 Correction; N3; Scaled  2007-07-20     9883   \n",
       "21733  MPR-R; GradWarp; B1 Correction; N3; Scaled  2008-01-16    14330   \n",
       "21734    MPR; GradWarp; B1 Correction; N3; Scaled  2008-07-28    17122   \n",
       "21735  MPR-R; GradWarp; B1 Correction; N3; Scaled  2009-01-26    19531   \n",
       "\n",
       "       SeriesID  ImageUID  \n",
       "35        25492     37392  \n",
       "36        25493     37393  \n",
       "37        35523     61166  \n",
       "38        35525     61168  \n",
       "39        44649     87709  \n",
       "40        44650     87710  \n",
       "41        54404    114739  \n",
       "42        54405    114740  \n",
       "43        54406    114741  \n",
       "44        62260    134499  \n",
       "45        62261    134500  \n",
       "21731     25492     47223  \n",
       "21732     35523     73101  \n",
       "21733     44650     94453  \n",
       "21734     54405    121776  \n",
       "21735     62261    135240  "
      ],
      "text/html": "<div>\n<style scoped>\n    .dataframe tbody tr th:only-of-type {\n        vertical-align: middle;\n    }\n\n    .dataframe tbody tr th {\n        vertical-align: top;\n    }\n\n    .dataframe thead th {\n        text-align: right;\n    }\n</style>\n<table border=\"1\" class=\"dataframe\">\n  <thead>\n    <tr style=\"text-align: right;\">\n      <th></th>\n      <th>Orig/Proc</th>\n      <th>SubjectID</th>\n      <th>Visit</th>\n      <th>MagStrength</th>\n      <th>Sequence</th>\n      <th>ScanDate</th>\n      <th>StudyID</th>\n      <th>SeriesID</th>\n      <th>ImageUID</th>\n    </tr>\n  </thead>\n  <tbody>\n    <tr>\n      <th>35</th>\n      <td>Original</td>\n      <td>027_S_1213</td>\n      <td>ADNI Screening</td>\n      <td>1.5</td>\n      <td>MP-RAGE REPEAT</td>\n      <td>2007-01-19</td>\n      <td>6823</td>\n      <td>25492</td>\n      <td>37392</td>\n    </tr>\n    <tr>\n      <th>36</th>\n      <td>Original</td>\n      <td>027_S_1213</td>\n      <td>ADNI Screening</td>\n      <td>1.5</td>\n      <td>MP-RAGE</td>\n      <td>2007-01-19</td>\n      <td>6823</td>\n      <td>25493</td>\n      <td>37393</td>\n    </tr>\n    <tr>\n      <th>37</th>\n      <td>Original</td>\n      <td>027_S_1213</td>\n      <td>ADNI1/GO Month 6</td>\n      <td>1.5</td>\n      <td>MP-RAGE</td>\n      <td>2007-07-20</td>\n      <td>9883</td>\n      <td>35523</td>\n      <td>61166</td>\n    </tr>\n    <tr>\n      <th>38</th>\n      <td>Original</td>\n      <td>027_S_1213</td>\n      <td>ADNI1/GO Month 6</td>\n      <td>1.5</td>\n      <td>MP-RAGE REPEAT</td>\n      <td>2007-07-20</td>\n      <td>9883</td>\n      <td>35525</td>\n      <td>61168</td>\n    </tr>\n    <tr>\n      <th>39</th>\n      <td>Original</td>\n      <td>027_S_1213</td>\n      <td>ADNI1/GO Month 12</td>\n      <td>1.5</td>\n      <td>MP-RAGE</td>\n      <td>2008-01-16</td>\n      <td>14330</td>\n      <td>44649</td>\n      <td>87709</td>\n    </tr>\n    <tr>\n      <th>40</th>\n      <td>Original</td>\n      <td>027_S_1213</td>\n      <td>ADNI1/GO Month 12</td>\n      <td>1.5</td>\n      <td>MP-RAGE REPEAT</td>\n      <td>2008-01-16</td>\n      <td>14330</td>\n      <td>44650</td>\n      <td>87710</td>\n    </tr>\n    <tr>\n      <th>41</th>\n      <td>Original</td>\n      <td>027_S_1213</td>\n      <td>ADNI1/GO Month 18</td>\n      <td>1.5</td>\n      <td>MP-RAGE</td>\n      <td>2008-07-28</td>\n      <td>17122</td>\n      <td>54404</td>\n      <td>114739</td>\n    </tr>\n    <tr>\n      <th>42</th>\n      <td>Original</td>\n      <td>027_S_1213</td>\n      <td>ADNI1/GO Month 18</td>\n      <td>1.5</td>\n      <td>MP-RAGE</td>\n      <td>2008-07-28</td>\n      <td>17122</td>\n      <td>54405</td>\n      <td>114740</td>\n    </tr>\n    <tr>\n      <th>43</th>\n      <td>Original</td>\n      <td>027_S_1213</td>\n      <td>ADNI1/GO Month 18</td>\n      <td>1.5</td>\n      <td>MP-RAGE REPEAT</td>\n      <td>2008-07-28</td>\n      <td>17122</td>\n      <td>54406</td>\n      <td>114741</td>\n    </tr>\n    <tr>\n      <th>44</th>\n      <td>Original</td>\n      <td>027_S_1213</td>\n      <td>ADNI1/GO Month 24</td>\n      <td>1.5</td>\n      <td>MP-RAGE</td>\n      <td>2009-01-26</td>\n      <td>19531</td>\n      <td>62260</td>\n      <td>134499</td>\n    </tr>\n    <tr>\n      <th>45</th>\n      <td>Original</td>\n      <td>027_S_1213</td>\n      <td>ADNI1/GO Month 24</td>\n      <td>1.5</td>\n      <td>MP-RAGE REPEAT</td>\n      <td>2009-01-26</td>\n      <td>19531</td>\n      <td>62261</td>\n      <td>134500</td>\n    </tr>\n    <tr>\n      <th>21731</th>\n      <td>Processed</td>\n      <td>027_S_1213</td>\n      <td>ADNI Screening</td>\n      <td>1.5</td>\n      <td>MPR-R; GradWarp; B1 Correction; N3; Scaled</td>\n      <td>2007-01-19</td>\n      <td>6823</td>\n      <td>25492</td>\n      <td>47223</td>\n    </tr>\n    <tr>\n      <th>21732</th>\n      <td>Processed</td>\n      <td>027_S_1213</td>\n      <td>ADNI1/GO Month 6</td>\n      <td>1.5</td>\n      <td>MPR; GradWarp; B1 Correction; N3; Scaled</td>\n      <td>2007-07-20</td>\n      <td>9883</td>\n      <td>35523</td>\n      <td>73101</td>\n    </tr>\n    <tr>\n      <th>21733</th>\n      <td>Processed</td>\n      <td>027_S_1213</td>\n      <td>ADNI1/GO Month 12</td>\n      <td>1.5</td>\n      <td>MPR-R; GradWarp; B1 Correction; N3; Scaled</td>\n      <td>2008-01-16</td>\n      <td>14330</td>\n      <td>44650</td>\n      <td>94453</td>\n    </tr>\n    <tr>\n      <th>21734</th>\n      <td>Processed</td>\n      <td>027_S_1213</td>\n      <td>ADNI1/GO Month 18</td>\n      <td>1.5</td>\n      <td>MPR; GradWarp; B1 Correction; N3; Scaled</td>\n      <td>2008-07-28</td>\n      <td>17122</td>\n      <td>54405</td>\n      <td>121776</td>\n    </tr>\n    <tr>\n      <th>21735</th>\n      <td>Processed</td>\n      <td>027_S_1213</td>\n      <td>ADNI1/GO Month 24</td>\n      <td>1.5</td>\n      <td>MPR-R; GradWarp; B1 Correction; N3; Scaled</td>\n      <td>2009-01-26</td>\n      <td>19531</td>\n      <td>62261</td>\n      <td>135240</td>\n    </tr>\n  </tbody>\n</table>\n</div>"
     },
     "metadata": {},
     "execution_count": 27
    }
   ],
   "source": [
    "df_mri.query(\"SubjectID == '027_S_1213'\")"
   ]
  },
  {
   "cell_type": "code",
   "execution_count": 26,
   "metadata": {},
   "outputs": [
    {
     "output_type": "execute_result",
     "data": {
      "text/plain": [
       "       Orig/Proc   SubjectID              Visit  MagStrength  \\\n",
       "21731  Processed  027_S_1213     ADNI Screening          1.5   \n",
       "21733  Processed  027_S_1213  ADNI1/GO Month 12          1.5   \n",
       "21735  Processed  027_S_1213  ADNI1/GO Month 24          1.5   \n",
       "21744  Processed  037_S_1225      ADNI Baseline          2.9   \n",
       "21746  Processed  037_S_1225   ADNI1/GO Month 6          3.0   \n",
       "...          ...         ...                ...          ...   \n",
       "28680  Processed  022_S_1394     ADNI Screening          1.5   \n",
       "28681  Processed  022_S_1394   ADNI1/GO Month 6          1.5   \n",
       "28696  Processed  041_S_1418     ADNI Screening          1.5   \n",
       "28712  Processed  127_S_1419  ADNI1/GO Month 12          1.5   \n",
       "28721  Processed  041_S_1420     ADNI Screening          1.5   \n",
       "\n",
       "                                         Sequence    ScanDate  StudyID  \\\n",
       "21731  MPR-R; GradWarp; B1 Correction; N3; Scaled  2007-01-19     6823   \n",
       "21733  MPR-R; GradWarp; B1 Correction; N3; Scaled  2008-01-16    14330   \n",
       "21735  MPR-R; GradWarp; B1 Correction; N3; Scaled  2009-01-26    19531   \n",
       "21744  MPR-R; GradWarp; B1 Correction; N3; Scaled  2007-02-09     7034   \n",
       "21746  MPR-R; GradWarp; B1 Correction; N3; Scaled  2007-08-20    11158   \n",
       "...                                           ...         ...      ...   \n",
       "28680  MPR-R; GradWarp; B1 Correction; N3; Scaled  2007-05-29     9505   \n",
       "28681  MPR-R; GradWarp; B1 Correction; N3; Scaled  2007-12-14    14113   \n",
       "28696  MPR-R; GradWarp; B1 Correction; N3; Scaled  2007-07-27    10385   \n",
       "28712  MPR-R; GradWarp; B1 Correction; N3; Scaled  2008-08-22    17491   \n",
       "28721  MPR-R; GradWarp; B1 Correction; N3; Scaled  2007-09-24    12279   \n",
       "\n",
       "       SeriesID  ImageUID  \n",
       "21731     25492     47223  \n",
       "21733     44650     94453  \n",
       "21735     62261    135240  \n",
       "21744     26187     79943  \n",
       "21746     37876     74315  \n",
       "...         ...       ...  \n",
       "28680     34317     68082  \n",
       "28681     44027     87027  \n",
       "28696     36524     73642  \n",
       "28712     55777    121684  \n",
       "28721     39953     79627  \n",
       "\n",
       "[616 rows x 9 columns]"
      ],
      "text/html": "<div>\n<style scoped>\n    .dataframe tbody tr th:only-of-type {\n        vertical-align: middle;\n    }\n\n    .dataframe tbody tr th {\n        vertical-align: top;\n    }\n\n    .dataframe thead th {\n        text-align: right;\n    }\n</style>\n<table border=\"1\" class=\"dataframe\">\n  <thead>\n    <tr style=\"text-align: right;\">\n      <th></th>\n      <th>Orig/Proc</th>\n      <th>SubjectID</th>\n      <th>Visit</th>\n      <th>MagStrength</th>\n      <th>Sequence</th>\n      <th>ScanDate</th>\n      <th>StudyID</th>\n      <th>SeriesID</th>\n      <th>ImageUID</th>\n    </tr>\n  </thead>\n  <tbody>\n    <tr>\n      <th>21731</th>\n      <td>Processed</td>\n      <td>027_S_1213</td>\n      <td>ADNI Screening</td>\n      <td>1.5</td>\n      <td>MPR-R; GradWarp; B1 Correction; N3; Scaled</td>\n      <td>2007-01-19</td>\n      <td>6823</td>\n      <td>25492</td>\n      <td>47223</td>\n    </tr>\n    <tr>\n      <th>21733</th>\n      <td>Processed</td>\n      <td>027_S_1213</td>\n      <td>ADNI1/GO Month 12</td>\n      <td>1.5</td>\n      <td>MPR-R; GradWarp; B1 Correction; N3; Scaled</td>\n      <td>2008-01-16</td>\n      <td>14330</td>\n      <td>44650</td>\n      <td>94453</td>\n    </tr>\n    <tr>\n      <th>21735</th>\n      <td>Processed</td>\n      <td>027_S_1213</td>\n      <td>ADNI1/GO Month 24</td>\n      <td>1.5</td>\n      <td>MPR-R; GradWarp; B1 Correction; N3; Scaled</td>\n      <td>2009-01-26</td>\n      <td>19531</td>\n      <td>62261</td>\n      <td>135240</td>\n    </tr>\n    <tr>\n      <th>21744</th>\n      <td>Processed</td>\n      <td>037_S_1225</td>\n      <td>ADNI Baseline</td>\n      <td>2.9</td>\n      <td>MPR-R; GradWarp; B1 Correction; N3; Scaled</td>\n      <td>2007-02-09</td>\n      <td>7034</td>\n      <td>26187</td>\n      <td>79943</td>\n    </tr>\n    <tr>\n      <th>21746</th>\n      <td>Processed</td>\n      <td>037_S_1225</td>\n      <td>ADNI1/GO Month 6</td>\n      <td>3.0</td>\n      <td>MPR-R; GradWarp; B1 Correction; N3; Scaled</td>\n      <td>2007-08-20</td>\n      <td>11158</td>\n      <td>37876</td>\n      <td>74315</td>\n    </tr>\n    <tr>\n      <th>...</th>\n      <td>...</td>\n      <td>...</td>\n      <td>...</td>\n      <td>...</td>\n      <td>...</td>\n      <td>...</td>\n      <td>...</td>\n      <td>...</td>\n      <td>...</td>\n    </tr>\n    <tr>\n      <th>28680</th>\n      <td>Processed</td>\n      <td>022_S_1394</td>\n      <td>ADNI Screening</td>\n      <td>1.5</td>\n      <td>MPR-R; GradWarp; B1 Correction; N3; Scaled</td>\n      <td>2007-05-29</td>\n      <td>9505</td>\n      <td>34317</td>\n      <td>68082</td>\n    </tr>\n    <tr>\n      <th>28681</th>\n      <td>Processed</td>\n      <td>022_S_1394</td>\n      <td>ADNI1/GO Month 6</td>\n      <td>1.5</td>\n      <td>MPR-R; GradWarp; B1 Correction; N3; Scaled</td>\n      <td>2007-12-14</td>\n      <td>14113</td>\n      <td>44027</td>\n      <td>87027</td>\n    </tr>\n    <tr>\n      <th>28696</th>\n      <td>Processed</td>\n      <td>041_S_1418</td>\n      <td>ADNI Screening</td>\n      <td>1.5</td>\n      <td>MPR-R; GradWarp; B1 Correction; N3; Scaled</td>\n      <td>2007-07-27</td>\n      <td>10385</td>\n      <td>36524</td>\n      <td>73642</td>\n    </tr>\n    <tr>\n      <th>28712</th>\n      <td>Processed</td>\n      <td>127_S_1419</td>\n      <td>ADNI1/GO Month 12</td>\n      <td>1.5</td>\n      <td>MPR-R; GradWarp; B1 Correction; N3; Scaled</td>\n      <td>2008-08-22</td>\n      <td>17491</td>\n      <td>55777</td>\n      <td>121684</td>\n    </tr>\n    <tr>\n      <th>28721</th>\n      <td>Processed</td>\n      <td>041_S_1420</td>\n      <td>ADNI Screening</td>\n      <td>1.5</td>\n      <td>MPR-R; GradWarp; B1 Correction; N3; Scaled</td>\n      <td>2007-09-24</td>\n      <td>12279</td>\n      <td>39953</td>\n      <td>79627</td>\n    </tr>\n  </tbody>\n</table>\n<p>616 rows × 9 columns</p>\n</div>"
     },
     "metadata": {},
     "execution_count": 26
    }
   ],
   "source": [
    "df_mri.query(\"Sequence == 'MPR-R; GradWarp; B1 Correction; N3; Scaled'\")"
   ]
  },
  {
   "cell_type": "code",
   "execution_count": 29,
   "metadata": {},
   "outputs": [
    {
     "output_type": "execute_result",
     "data": {
      "text/plain": [
       "       Orig/Proc   SubjectID              Visit  MagStrength  \\\n",
       "21707  Processed  037_S_1421     ADNI Screening          1.5   \n",
       "21708  Processed  037_S_1421   ADNI1/GO Month 6          1.5   \n",
       "21709  Processed  037_S_1421  ADNI1/GO Month 12          1.5   \n",
       "21710  Processed  037_S_1421  ADNI1/GO Month 18          1.5   \n",
       "21711  Processed  037_S_1421  ADNI1/GO Month 36          1.5   \n",
       "...          ...         ...                ...          ...   \n",
       "37310  Processed  037_S_6046     ADNI Screening          3.0   \n",
       "37311  Processed  067_S_6045     ADNI Screening          3.0   \n",
       "37312  Processed  941_S_6052     ADNI Screening          3.0   \n",
       "37313  Processed  168_S_6051     ADNI Screening          3.0   \n",
       "37314  Processed  002_S_6053     ADNI Screening          3.0   \n",
       "\n",
       "                          Sequence    ScanDate  StudyID  SeriesID  ImageUID  \n",
       "21707    MPR; GradWarp; N3; Scaled  2007-08-27    11613     38602     79948  \n",
       "21708    MPR; GradWarp; N3; Scaled  2008-02-20    14713     45956     94525  \n",
       "21709    MPR; GradWarp; N3; Scaled  2008-09-17    17750     56560    121637  \n",
       "21710    MPR; GradWarp; N3; Scaled  2009-05-13    21352     67237    149807  \n",
       "21711  MPR-R; GradWarp; N3; Scaled  2010-09-24    29085     92604    203713  \n",
       "...                            ...         ...      ...       ...       ...  \n",
       "37310                     MT1; N3m  2017-07-17   113078    583899    882757  \n",
       "37311                     MT1; N3m  2017-07-13   113046    583463    882761  \n",
       "37312                     MT1; N3m  2017-07-20   113211    585807    882756  \n",
       "37313                     MT1; N3m  2017-07-13   113082    583955    882727  \n",
       "37314                     MT1; N3m  2017-07-18   113332    586900    882769  \n",
       "\n",
       "[15608 rows x 9 columns]"
      ],
      "text/html": "<div>\n<style scoped>\n    .dataframe tbody tr th:only-of-type {\n        vertical-align: middle;\n    }\n\n    .dataframe tbody tr th {\n        vertical-align: top;\n    }\n\n    .dataframe thead th {\n        text-align: right;\n    }\n</style>\n<table border=\"1\" class=\"dataframe\">\n  <thead>\n    <tr style=\"text-align: right;\">\n      <th></th>\n      <th>Orig/Proc</th>\n      <th>SubjectID</th>\n      <th>Visit</th>\n      <th>MagStrength</th>\n      <th>Sequence</th>\n      <th>ScanDate</th>\n      <th>StudyID</th>\n      <th>SeriesID</th>\n      <th>ImageUID</th>\n    </tr>\n  </thead>\n  <tbody>\n    <tr>\n      <th>21707</th>\n      <td>Processed</td>\n      <td>037_S_1421</td>\n      <td>ADNI Screening</td>\n      <td>1.5</td>\n      <td>MPR; GradWarp; N3; Scaled</td>\n      <td>2007-08-27</td>\n      <td>11613</td>\n      <td>38602</td>\n      <td>79948</td>\n    </tr>\n    <tr>\n      <th>21708</th>\n      <td>Processed</td>\n      <td>037_S_1421</td>\n      <td>ADNI1/GO Month 6</td>\n      <td>1.5</td>\n      <td>MPR; GradWarp; N3; Scaled</td>\n      <td>2008-02-20</td>\n      <td>14713</td>\n      <td>45956</td>\n      <td>94525</td>\n    </tr>\n    <tr>\n      <th>21709</th>\n      <td>Processed</td>\n      <td>037_S_1421</td>\n      <td>ADNI1/GO Month 12</td>\n      <td>1.5</td>\n      <td>MPR; GradWarp; N3; Scaled</td>\n      <td>2008-09-17</td>\n      <td>17750</td>\n      <td>56560</td>\n      <td>121637</td>\n    </tr>\n    <tr>\n      <th>21710</th>\n      <td>Processed</td>\n      <td>037_S_1421</td>\n      <td>ADNI1/GO Month 18</td>\n      <td>1.5</td>\n      <td>MPR; GradWarp; N3; Scaled</td>\n      <td>2009-05-13</td>\n      <td>21352</td>\n      <td>67237</td>\n      <td>149807</td>\n    </tr>\n    <tr>\n      <th>21711</th>\n      <td>Processed</td>\n      <td>037_S_1421</td>\n      <td>ADNI1/GO Month 36</td>\n      <td>1.5</td>\n      <td>MPR-R; GradWarp; N3; Scaled</td>\n      <td>2010-09-24</td>\n      <td>29085</td>\n      <td>92604</td>\n      <td>203713</td>\n    </tr>\n    <tr>\n      <th>...</th>\n      <td>...</td>\n      <td>...</td>\n      <td>...</td>\n      <td>...</td>\n      <td>...</td>\n      <td>...</td>\n      <td>...</td>\n      <td>...</td>\n      <td>...</td>\n    </tr>\n    <tr>\n      <th>37310</th>\n      <td>Processed</td>\n      <td>037_S_6046</td>\n      <td>ADNI Screening</td>\n      <td>3.0</td>\n      <td>MT1; N3m</td>\n      <td>2017-07-17</td>\n      <td>113078</td>\n      <td>583899</td>\n      <td>882757</td>\n    </tr>\n    <tr>\n      <th>37311</th>\n      <td>Processed</td>\n      <td>067_S_6045</td>\n      <td>ADNI Screening</td>\n      <td>3.0</td>\n      <td>MT1; N3m</td>\n      <td>2017-07-13</td>\n      <td>113046</td>\n      <td>583463</td>\n      <td>882761</td>\n    </tr>\n    <tr>\n      <th>37312</th>\n      <td>Processed</td>\n      <td>941_S_6052</td>\n      <td>ADNI Screening</td>\n      <td>3.0</td>\n      <td>MT1; N3m</td>\n      <td>2017-07-20</td>\n      <td>113211</td>\n      <td>585807</td>\n      <td>882756</td>\n    </tr>\n    <tr>\n      <th>37313</th>\n      <td>Processed</td>\n      <td>168_S_6051</td>\n      <td>ADNI Screening</td>\n      <td>3.0</td>\n      <td>MT1; N3m</td>\n      <td>2017-07-13</td>\n      <td>113082</td>\n      <td>583955</td>\n      <td>882727</td>\n    </tr>\n    <tr>\n      <th>37314</th>\n      <td>Processed</td>\n      <td>002_S_6053</td>\n      <td>ADNI Screening</td>\n      <td>3.0</td>\n      <td>MT1; N3m</td>\n      <td>2017-07-18</td>\n      <td>113332</td>\n      <td>586900</td>\n      <td>882769</td>\n    </tr>\n  </tbody>\n</table>\n<p>15608 rows × 9 columns</p>\n</div>"
     },
     "metadata": {},
     "execution_count": 29
    }
   ],
   "source": [
    "df_mri_processed = df_mri.query(\"`Orig/Proc` == 'Processed'\")\n",
    "df_mri_processed"
   ]
  },
  {
   "cell_type": "code",
   "execution_count": 36,
   "metadata": {},
   "outputs": [
    {
     "output_type": "execute_result",
     "data": {
      "text/plain": [
       "       SubjectID  Orig/Proc                       Visit  MagStrength  \\\n",
       "0     002_S_0295  Processed              ADNI Screening          1.5   \n",
       "1     002_S_0413  Processed              ADNI Screening          1.5   \n",
       "2     002_S_0559  Processed              ADNI Screening          1.5   \n",
       "3     002_S_0619  Processed              ADNI Screening          1.5   \n",
       "4     002_S_0685  Processed              ADNI Screening          1.5   \n",
       "...          ...        ...                         ...          ...   \n",
       "1837  941_S_4764  Processed  ADNI2 Screening MRI-New Pt          3.0   \n",
       "1838  941_S_5124  Processed  ADNI2 Screening MRI-New Pt          3.0   \n",
       "1839  941_S_5193  Processed  ADNI2 Screening MRI-New Pt          3.0   \n",
       "1840  941_S_6017  Processed              ADNI Screening          3.0   \n",
       "1841  941_S_6052  Processed              ADNI Screening          3.0   \n",
       "\n",
       "                                      Sequence    ScanDate  StudyID  SeriesID  \\\n",
       "0     MPR; GradWarp; B1 Correction; N3; Scaled  2006-04-18     3566     13408   \n",
       "1     MPR; GradWarp; B1 Correction; N3; Scaled  2006-05-02     3697     13893   \n",
       "2     MPR; GradWarp; B1 Correction; N3; Scaled  2006-05-23     3978     14875   \n",
       "3                  MPR-R; GradWarp; N3; Scaled  2006-06-01     4059     15145   \n",
       "4     MPR; GradWarp; B1 Correction; N3; Scaled  2006-07-06     4374     16309   \n",
       "...                                        ...         ...      ...       ...   \n",
       "1837                        MT1; GradWarp; N3m  2012-06-01    46262    152506   \n",
       "1838                        MT1; GradWarp; N3m  2013-04-09    57765    186455   \n",
       "1839                        MT1; GradWarp; N3m  2013-05-29    58947    190909   \n",
       "1840                                  MT1; N3m  2017-05-17   111355    565427   \n",
       "1841                                  MT1; N3m  2017-07-20   113211    585807   \n",
       "\n",
       "      ImageUID  \n",
       "0        45108  \n",
       "1        45117  \n",
       "2        40674  \n",
       "3        48617  \n",
       "4        40683  \n",
       "...        ...  \n",
       "1837    312638  \n",
       "1838    368981  \n",
       "1839    375627  \n",
       "1840    882726  \n",
       "1841    882756  \n",
       "\n",
       "[1842 rows x 9 columns]"
      ],
      "text/html": "<div>\n<style scoped>\n    .dataframe tbody tr th:only-of-type {\n        vertical-align: middle;\n    }\n\n    .dataframe tbody tr th {\n        vertical-align: top;\n    }\n\n    .dataframe thead th {\n        text-align: right;\n    }\n</style>\n<table border=\"1\" class=\"dataframe\">\n  <thead>\n    <tr style=\"text-align: right;\">\n      <th></th>\n      <th>SubjectID</th>\n      <th>Orig/Proc</th>\n      <th>Visit</th>\n      <th>MagStrength</th>\n      <th>Sequence</th>\n      <th>ScanDate</th>\n      <th>StudyID</th>\n      <th>SeriesID</th>\n      <th>ImageUID</th>\n    </tr>\n  </thead>\n  <tbody>\n    <tr>\n      <th>0</th>\n      <td>002_S_0295</td>\n      <td>Processed</td>\n      <td>ADNI Screening</td>\n      <td>1.5</td>\n      <td>MPR; GradWarp; B1 Correction; N3; Scaled</td>\n      <td>2006-04-18</td>\n      <td>3566</td>\n      <td>13408</td>\n      <td>45108</td>\n    </tr>\n    <tr>\n      <th>1</th>\n      <td>002_S_0413</td>\n      <td>Processed</td>\n      <td>ADNI Screening</td>\n      <td>1.5</td>\n      <td>MPR; GradWarp; B1 Correction; N3; Scaled</td>\n      <td>2006-05-02</td>\n      <td>3697</td>\n      <td>13893</td>\n      <td>45117</td>\n    </tr>\n    <tr>\n      <th>2</th>\n      <td>002_S_0559</td>\n      <td>Processed</td>\n      <td>ADNI Screening</td>\n      <td>1.5</td>\n      <td>MPR; GradWarp; B1 Correction; N3; Scaled</td>\n      <td>2006-05-23</td>\n      <td>3978</td>\n      <td>14875</td>\n      <td>40674</td>\n    </tr>\n    <tr>\n      <th>3</th>\n      <td>002_S_0619</td>\n      <td>Processed</td>\n      <td>ADNI Screening</td>\n      <td>1.5</td>\n      <td>MPR-R; GradWarp; N3; Scaled</td>\n      <td>2006-06-01</td>\n      <td>4059</td>\n      <td>15145</td>\n      <td>48617</td>\n    </tr>\n    <tr>\n      <th>4</th>\n      <td>002_S_0685</td>\n      <td>Processed</td>\n      <td>ADNI Screening</td>\n      <td>1.5</td>\n      <td>MPR; GradWarp; B1 Correction; N3; Scaled</td>\n      <td>2006-07-06</td>\n      <td>4374</td>\n      <td>16309</td>\n      <td>40683</td>\n    </tr>\n    <tr>\n      <th>...</th>\n      <td>...</td>\n      <td>...</td>\n      <td>...</td>\n      <td>...</td>\n      <td>...</td>\n      <td>...</td>\n      <td>...</td>\n      <td>...</td>\n      <td>...</td>\n    </tr>\n    <tr>\n      <th>1837</th>\n      <td>941_S_4764</td>\n      <td>Processed</td>\n      <td>ADNI2 Screening MRI-New Pt</td>\n      <td>3.0</td>\n      <td>MT1; GradWarp; N3m</td>\n      <td>2012-06-01</td>\n      <td>46262</td>\n      <td>152506</td>\n      <td>312638</td>\n    </tr>\n    <tr>\n      <th>1838</th>\n      <td>941_S_5124</td>\n      <td>Processed</td>\n      <td>ADNI2 Screening MRI-New Pt</td>\n      <td>3.0</td>\n      <td>MT1; GradWarp; N3m</td>\n      <td>2013-04-09</td>\n      <td>57765</td>\n      <td>186455</td>\n      <td>368981</td>\n    </tr>\n    <tr>\n      <th>1839</th>\n      <td>941_S_5193</td>\n      <td>Processed</td>\n      <td>ADNI2 Screening MRI-New Pt</td>\n      <td>3.0</td>\n      <td>MT1; GradWarp; N3m</td>\n      <td>2013-05-29</td>\n      <td>58947</td>\n      <td>190909</td>\n      <td>375627</td>\n    </tr>\n    <tr>\n      <th>1840</th>\n      <td>941_S_6017</td>\n      <td>Processed</td>\n      <td>ADNI Screening</td>\n      <td>3.0</td>\n      <td>MT1; N3m</td>\n      <td>2017-05-17</td>\n      <td>111355</td>\n      <td>565427</td>\n      <td>882726</td>\n    </tr>\n    <tr>\n      <th>1841</th>\n      <td>941_S_6052</td>\n      <td>Processed</td>\n      <td>ADNI Screening</td>\n      <td>3.0</td>\n      <td>MT1; N3m</td>\n      <td>2017-07-20</td>\n      <td>113211</td>\n      <td>585807</td>\n      <td>882756</td>\n    </tr>\n  </tbody>\n</table>\n<p>1842 rows × 9 columns</p>\n</div>"
     },
     "metadata": {},
     "execution_count": 36
    }
   ],
   "source": [
    "df_mri_processed_single_image = df_mri_processed.sort_values([\"SubjectID\",'ScanDate']).groupby('SubjectID').first().reset_index()\n",
    "df_mri_processed_single_image"
   ]
  },
  {
   "cell_type": "code",
   "execution_count": 37,
   "metadata": {},
   "outputs": [
    {
     "output_type": "execute_result",
     "data": {
      "text/plain": [
       "array(['MPR; GradWarp; B1 Correction; N3; Scaled',\n",
       "       'MPR-R; GradWarp; N3; Scaled',\n",
       "       'MPR-R; GradWarp; B1 Correction; N3; Scaled', 'MT1; N3m',\n",
       "       'MT1; GradWarp; N3m', 'MPR; GradWarp; N3; Scaled',\n",
       "       'MPR; ; N3; Scaled', 'MPR-R; ; N3; Scaled',\n",
       "       'MPR; GradWarp; B1 Correction; N3; Scaled_2',\n",
       "       'MPR-R; ; N3; Scaled_2'], dtype=object)"
      ]
     },
     "metadata": {},
     "execution_count": 37
    }
   ],
   "source": [
    "df_mri_processed_single_image['Sequence'].unique()\n"
   ]
  },
  {
   "cell_type": "code",
   "execution_count": 60,
   "metadata": {},
   "outputs": [
    {
     "output_type": "execute_result",
     "data": {
      "text/plain": [
       "'[45108, 45117, 40674, 48617, 40683, 40708, 40717, 40731, 40980, 40744, 40754, 40817, 40831, 40845, 62377, 64037, 60056, 221959, 222697, 222705, 250649, 255409, 258694, 258686, 260229, 260237, 260241, 261069, 261067, 261073, 280562, 285129, 286639, 297035, 312646, 312847, 349888, 374467, 379928, 384094, 882769, 52781, 62589, 53390, 52776, 73506, 52821, 52816, 53395, 52799, 52790, 235638, 244937, 1293300, 254756, 250665, 255423, 255415, 263742, 272720, 278119, 278123, 277673, 288883, 291888, 300940, 321337, 321341, 322305, 327046, 326633, 392270, 392272, 392288, 392426, 392428, 392430, 72128, 54686, 32855, 32891, 32875, 32681, 32644, 32653, 32672, 32667, 74591, 74609, 60406, 60417, 242887, 254768, 258625, 306746, 337582, 351980, 369214, 55925, 65566]'"
      ]
     },
     "metadata": {},
     "execution_count": 60
    }
   ],
   "source": [
    "mprage_image_ids = df_mri_processed_single_image['ImageUID']\n",
    "str(mprage_image_ids[:100].tolist())"
   ]
  },
  {
   "cell_type": "code",
   "execution_count": 49,
   "metadata": {},
   "outputs": [
    {
     "output_type": "execute_result",
     "data": {
      "text/plain": [
       "      SubjectID  Orig/Proc           Visit  MagStrength  \\\n",
       "563  027_S_0116  Processed  ADNI Screening          1.5   \n",
       "\n",
       "                                     Sequence    ScanDate  StudyID  SeriesID  \\\n",
       "563  MPR; GradWarp; B1 Correction; N3; Scaled  2006-01-27     3008     11442   \n",
       "\n",
       "     ImageUID  \n",
       "563     34325  "
      ],
      "text/html": "<div>\n<style scoped>\n    .dataframe tbody tr th:only-of-type {\n        vertical-align: middle;\n    }\n\n    .dataframe tbody tr th {\n        vertical-align: top;\n    }\n\n    .dataframe thead th {\n        text-align: right;\n    }\n</style>\n<table border=\"1\" class=\"dataframe\">\n  <thead>\n    <tr style=\"text-align: right;\">\n      <th></th>\n      <th>SubjectID</th>\n      <th>Orig/Proc</th>\n      <th>Visit</th>\n      <th>MagStrength</th>\n      <th>Sequence</th>\n      <th>ScanDate</th>\n      <th>StudyID</th>\n      <th>SeriesID</th>\n      <th>ImageUID</th>\n    </tr>\n  </thead>\n  <tbody>\n    <tr>\n      <th>563</th>\n      <td>027_S_0116</td>\n      <td>Processed</td>\n      <td>ADNI Screening</td>\n      <td>1.5</td>\n      <td>MPR; GradWarp; B1 Correction; N3; Scaled</td>\n      <td>2006-01-27</td>\n      <td>3008</td>\n      <td>11442</td>\n      <td>34325</td>\n    </tr>\n  </tbody>\n</table>\n</div>"
     },
     "metadata": {},
     "execution_count": 49
    }
   ],
   "source": [
    "df_mri_processed_single_image.query(\"ImageUID == '34325'\")"
   ]
  },
  {
   "cell_type": "markdown",
   "metadata": {},
   "source": [
    "# MRI Metadata Analysis - 1.5T"
   ]
  },
  {
   "cell_type": "code",
   "execution_count": 15,
   "metadata": {},
   "outputs": [
    {
     "output_type": "execute_result",
     "data": {
      "text/plain": [
       "(4734, 46)"
      ]
     },
     "metadata": {},
     "execution_count": 15
    }
   ],
   "source": [
    "df_mri_15T = pd.read_csv(\"./data/MRI_1.5T_images_info.csv\")\n",
    "df_mri_15T.shape"
   ]
  },
  {
   "cell_type": "code",
   "execution_count": 18,
   "metadata": {},
   "outputs": [
    {
     "output_type": "execute_result",
     "data": {
      "text/plain": [
       "      PHASE FIELD_STRENGTH      ID   RID  SITEID VISCODE VISCODE2    USERDATE  \\\n",
       "0     ADNI1           1.5T      10     2     107      sc       sc  2005-08-31   \n",
       "1     ADNI1           1.5T      12     3     107      sc       sc  2005-09-02   \n",
       "2     ADNI1           1.5T      14     5     107      sc       sc  2005-09-02   \n",
       "3     ADNI1           1.5T      16     7      10      sc       sc  2005-09-14   \n",
       "4     ADNI1           1.5T      18     8     107      sc       sc  2005-09-14   \n",
       "...     ...            ...     ...   ...     ...     ...      ...         ...   \n",
       "4729  ADNI2           1.5T   11014  4343      50     v41      m48  02/21/2019   \n",
       "4730  ADNI3           1.5T   20457  4028      27    init      m72  2017-11-09   \n",
       "4731  ADNI3           1.5T   30153  2121      37    init      m84  2018-02-15   \n",
       "4732  ADNI3           1.5T   63391  6170      51      sc       sc  2018-09-25   \n",
       "4733  ADNI3           1.5T  103787  6837       9      sc       sc  2019-12-02   \n",
       "\n",
       "       USERDATE2  RECNO  MMCONDCT  MMREASON MMOTHSPE    EXAMDATE  SEDATIVE  \\\n",
       "0            NaN    1.0        -4      -4.0       -4  2005-08-26       NaN   \n",
       "1            NaN    1.0        -4      -4.0       -4  2005-09-01       NaN   \n",
       "2            NaN    1.0        -4      -4.0       -4  2005-09-02       NaN   \n",
       "3            NaN    1.0        -4      -4.0       -4  2005-09-13       NaN   \n",
       "4            NaN    1.0        -4      -4.0       -4  2005-09-13       NaN   \n",
       "...          ...    ...       ...       ...      ...         ...       ...   \n",
       "4729         NaN    1.0         1       NaN       -4  2015-12-04       0.0   \n",
       "4730  2017-11-09    NaN         1       NaN      NaN  2017-11-06       0.0   \n",
       "4731  2019-08-09    NaN         1       NaN      NaN  2018-02-12       0.0   \n",
       "4732  2018-09-25    NaN         1       NaN      NaN  2018-05-14       1.0   \n",
       "4733  2019-12-02    NaN         1       NaN      NaN  2019-11-27       0.0   \n",
       "\n",
       "      EYEASK  EYEKEEP  MOTION                                  MOTIONDET  \\\n",
       "0        NaN      NaN     NaN                                        NaN   \n",
       "1        NaN      NaN     NaN                                        NaN   \n",
       "2        NaN      NaN     NaN                                        NaN   \n",
       "3        NaN      NaN     NaN                                        NaN   \n",
       "4        NaN      NaN     NaN                                        NaN   \n",
       "...      ...      ...     ...                                        ...   \n",
       "4729     NaN      NaN     0.0                                         -4   \n",
       "4730     NaN      NaN     0.0                                        NaN   \n",
       "4731     NaN      NaN     1.0  HI-RES hippocampus repeated due to motion   \n",
       "4732     NaN      NaN     0.0                                        NaN   \n",
       "4733     NaN      NaN     0.0                                        NaN   \n",
       "\n",
       "      MALFUNC MALFUNCDET  OTRDEV  \\\n",
       "0         NaN        NaN     NaN   \n",
       "1         NaN        NaN     NaN   \n",
       "2         NaN        NaN     NaN   \n",
       "3         NaN        NaN     NaN   \n",
       "4         NaN        NaN     NaN   \n",
       "...       ...        ...     ...   \n",
       "4729      0.0         -4     0.0   \n",
       "4730      0.0        NaN     0.0   \n",
       "4731      0.0        NaN     1.0   \n",
       "4732      0.0        NaN     0.0   \n",
       "4733      0.0        NaN     1.0   \n",
       "\n",
       "                                              OTRDEVDET  MMSCOUT MMSCTCOM  \\\n",
       "0                                                   NaN      1.0       -4   \n",
       "1                                                   NaN      1.0       -4   \n",
       "2                                                   NaN      1.0       -4   \n",
       "3                                                   NaN      1.0       -4   \n",
       "4                                                   NaN      1.0       -4   \n",
       "...                                                 ...      ...      ...   \n",
       "4729                                                 -4      NaN      NaN   \n",
       "4730                                                NaN      NaN      NaN   \n",
       "4731  JM 6APR2018; scan erroneously completed on 1.5...      NaN      NaN   \n",
       "4732                                                NaN      NaN      NaN   \n",
       "4733  Dustin spoke w/ Lauren; scans not performed PS...      NaN      NaN   \n",
       "\n",
       "      MMSMPRAGE MMSMPCOM  MMRMPRAGE MMRMPCOM  MMB1HEAD MMB1HDCOM  MMB1BODY  \\\n",
       "0           1.0       -4        1.0       -4       1.0        -4       1.0   \n",
       "1           1.0       -4        1.0       -4       1.0        -4       1.0   \n",
       "2           1.0       -4        1.0       -4       1.0        -4       1.0   \n",
       "3           1.0       -4        1.0       -4       1.0        -4       1.0   \n",
       "4           1.0       -4        1.0       -4       1.0        -4       1.0   \n",
       "...         ...      ...        ...      ...       ...       ...       ...   \n",
       "4729        NaN      NaN        NaN      NaN       NaN       NaN       NaN   \n",
       "4730        NaN      NaN        NaN      NaN       NaN       NaN       NaN   \n",
       "4731        NaN      NaN        NaN      NaN       NaN       NaN       NaN   \n",
       "4732        NaN      NaN        NaN      NaN       NaN       NaN       NaN   \n",
       "4733        NaN      NaN        NaN      NaN       NaN       NaN       NaN   \n",
       "\n",
       "                                      MMB1BDCOM  MMECHO  \\\n",
       "0                                            -4     1.0   \n",
       "1                                            -4     1.0   \n",
       "2                                            -4     1.0   \n",
       "3                                            -4     1.0   \n",
       "4     Repeated a series 7 head coil was left on     1.0   \n",
       "...                                         ...     ...   \n",
       "4729                                        NaN     NaN   \n",
       "4730                                        NaN     NaN   \n",
       "4731                                        NaN     NaN   \n",
       "4732                                        NaN     NaN   \n",
       "4733                                        NaN     NaN   \n",
       "\n",
       "                                     MMECCOM  MMPHAN MMPHCOM  MMTRNSFR  \\\n",
       "0                                         -4     1.0      -4       1.0   \n",
       "1                                         -4     1.0      -4       1.0   \n",
       "2     Add slices toS6-TR/TE remain unchanged     1.0      -4       1.0   \n",
       "3                                         -4     1.0      -4       1.0   \n",
       "4                                         -4     1.0      -4       1.0   \n",
       "...                                      ...     ...     ...       ...   \n",
       "4729                                     NaN     NaN     NaN       1.0   \n",
       "4730                                     NaN     NaN     NaN       NaN   \n",
       "4731                                     NaN     NaN     NaN       0.0   \n",
       "4732                                     NaN     NaN     NaN       1.0   \n",
       "4733                                     NaN     NaN     NaN       1.0   \n",
       "\n",
       "       MMTRNDATE                                           MMTRNCOM  \\\n",
       "0      8/30/2005  computer server infected with virus unable to ...   \n",
       "1       9/1/2005                                                 -4   \n",
       "2       9/2/2005                                                 -4   \n",
       "3      9/13/2005                                                 -4   \n",
       "4      9/13/2005                                                 -4   \n",
       "...          ...                                                ...   \n",
       "4729  12/04/2015                                                 -4   \n",
       "4730         NaN                                                NaN   \n",
       "4731  2018-xx-xx               scan uploaded in march, date unknown   \n",
       "4732  2018-05-17                                                NaN   \n",
       "4733  2019-11-27                                                NaN   \n",
       "\n",
       "      MMARCHIVE                   MMARCMED  \\\n",
       "0           1.0                         CD   \n",
       "1           1.0                         CD   \n",
       "2           1.0                         CD   \n",
       "3           1.0                CD and PACS   \n",
       "4           1.0                         CD   \n",
       "...         ...                        ...   \n",
       "4729        1.0                       pacs   \n",
       "4730        1.0                       PACS   \n",
       "4731        1.0  Medicalis PACS System; CD   \n",
       "4732        1.0                       PACS   \n",
       "4733        1.0                       PACS   \n",
       "\n",
       "                                               MMARCCOM  MMLPDONE  MMLPINTER  \\\n",
       "0                                                    -4      -4.0       -4.0   \n",
       "1                                                    -4      -4.0       -4.0   \n",
       "2                                                    -4      -4.0       -4.0   \n",
       "3                                                    -4      -4.0       -4.0   \n",
       "4                                                    -4      -4.0       -4.0   \n",
       "...                                                 ...       ...        ...   \n",
       "4729                                                 -4       0.0        NaN   \n",
       "4730                                                NaN       0.0        NaN   \n",
       "4731  JM 9AUG2019 MRI was erroneously not uploaded w...       0.0        NaN   \n",
       "4732                                                NaN       0.0        NaN   \n",
       "4733                                                NaN       0.0        NaN   \n",
       "\n",
       "               update_stamp  \n",
       "0     2005-08-31 00:00:00.0  \n",
       "1     2005-09-02 00:00:00.0  \n",
       "2     2005-09-02 00:00:00.0  \n",
       "3     2005-09-14 00:00:00.0  \n",
       "4     2005-09-14 00:00:00.0  \n",
       "...                     ...  \n",
       "4729  2019-02-21 19:49:04.0  \n",
       "4730  2017-11-09 22:29:03.0  \n",
       "4731  2019-08-10 04:14:18.0  \n",
       "4732  2018-09-25 22:42:06.0  \n",
       "4733  2019-12-03 04:16:09.0  \n",
       "\n",
       "[4734 rows x 46 columns]"
      ],
      "text/html": "<div>\n<style scoped>\n    .dataframe tbody tr th:only-of-type {\n        vertical-align: middle;\n    }\n\n    .dataframe tbody tr th {\n        vertical-align: top;\n    }\n\n    .dataframe thead th {\n        text-align: right;\n    }\n</style>\n<table border=\"1\" class=\"dataframe\">\n  <thead>\n    <tr style=\"text-align: right;\">\n      <th></th>\n      <th>PHASE</th>\n      <th>FIELD_STRENGTH</th>\n      <th>ID</th>\n      <th>RID</th>\n      <th>SITEID</th>\n      <th>VISCODE</th>\n      <th>VISCODE2</th>\n      <th>USERDATE</th>\n      <th>USERDATE2</th>\n      <th>RECNO</th>\n      <th>MMCONDCT</th>\n      <th>MMREASON</th>\n      <th>MMOTHSPE</th>\n      <th>EXAMDATE</th>\n      <th>SEDATIVE</th>\n      <th>EYEASK</th>\n      <th>EYEKEEP</th>\n      <th>MOTION</th>\n      <th>MOTIONDET</th>\n      <th>MALFUNC</th>\n      <th>MALFUNCDET</th>\n      <th>OTRDEV</th>\n      <th>OTRDEVDET</th>\n      <th>MMSCOUT</th>\n      <th>MMSCTCOM</th>\n      <th>MMSMPRAGE</th>\n      <th>MMSMPCOM</th>\n      <th>MMRMPRAGE</th>\n      <th>MMRMPCOM</th>\n      <th>MMB1HEAD</th>\n      <th>MMB1HDCOM</th>\n      <th>MMB1BODY</th>\n      <th>MMB1BDCOM</th>\n      <th>MMECHO</th>\n      <th>MMECCOM</th>\n      <th>MMPHAN</th>\n      <th>MMPHCOM</th>\n      <th>MMTRNSFR</th>\n      <th>MMTRNDATE</th>\n      <th>MMTRNCOM</th>\n      <th>MMARCHIVE</th>\n      <th>MMARCMED</th>\n      <th>MMARCCOM</th>\n      <th>MMLPDONE</th>\n      <th>MMLPINTER</th>\n      <th>update_stamp</th>\n    </tr>\n  </thead>\n  <tbody>\n    <tr>\n      <th>0</th>\n      <td>ADNI1</td>\n      <td>1.5T</td>\n      <td>10</td>\n      <td>2</td>\n      <td>107</td>\n      <td>sc</td>\n      <td>sc</td>\n      <td>2005-08-31</td>\n      <td>NaN</td>\n      <td>1.0</td>\n      <td>-4</td>\n      <td>-4.0</td>\n      <td>-4</td>\n      <td>2005-08-26</td>\n      <td>NaN</td>\n      <td>NaN</td>\n      <td>NaN</td>\n      <td>NaN</td>\n      <td>NaN</td>\n      <td>NaN</td>\n      <td>NaN</td>\n      <td>NaN</td>\n      <td>NaN</td>\n      <td>1.0</td>\n      <td>-4</td>\n      <td>1.0</td>\n      <td>-4</td>\n      <td>1.0</td>\n      <td>-4</td>\n      <td>1.0</td>\n      <td>-4</td>\n      <td>1.0</td>\n      <td>-4</td>\n      <td>1.0</td>\n      <td>-4</td>\n      <td>1.0</td>\n      <td>-4</td>\n      <td>1.0</td>\n      <td>8/30/2005</td>\n      <td>computer server infected with virus unable to ...</td>\n      <td>1.0</td>\n      <td>CD</td>\n      <td>-4</td>\n      <td>-4.0</td>\n      <td>-4.0</td>\n      <td>2005-08-31 00:00:00.0</td>\n    </tr>\n    <tr>\n      <th>1</th>\n      <td>ADNI1</td>\n      <td>1.5T</td>\n      <td>12</td>\n      <td>3</td>\n      <td>107</td>\n      <td>sc</td>\n      <td>sc</td>\n      <td>2005-09-02</td>\n      <td>NaN</td>\n      <td>1.0</td>\n      <td>-4</td>\n      <td>-4.0</td>\n      <td>-4</td>\n      <td>2005-09-01</td>\n      <td>NaN</td>\n      <td>NaN</td>\n      <td>NaN</td>\n      <td>NaN</td>\n      <td>NaN</td>\n      <td>NaN</td>\n      <td>NaN</td>\n      <td>NaN</td>\n      <td>NaN</td>\n      <td>1.0</td>\n      <td>-4</td>\n      <td>1.0</td>\n      <td>-4</td>\n      <td>1.0</td>\n      <td>-4</td>\n      <td>1.0</td>\n      <td>-4</td>\n      <td>1.0</td>\n      <td>-4</td>\n      <td>1.0</td>\n      <td>-4</td>\n      <td>1.0</td>\n      <td>-4</td>\n      <td>1.0</td>\n      <td>9/1/2005</td>\n      <td>-4</td>\n      <td>1.0</td>\n      <td>CD</td>\n      <td>-4</td>\n      <td>-4.0</td>\n      <td>-4.0</td>\n      <td>2005-09-02 00:00:00.0</td>\n    </tr>\n    <tr>\n      <th>2</th>\n      <td>ADNI1</td>\n      <td>1.5T</td>\n      <td>14</td>\n      <td>5</td>\n      <td>107</td>\n      <td>sc</td>\n      <td>sc</td>\n      <td>2005-09-02</td>\n      <td>NaN</td>\n      <td>1.0</td>\n      <td>-4</td>\n      <td>-4.0</td>\n      <td>-4</td>\n      <td>2005-09-02</td>\n      <td>NaN</td>\n      <td>NaN</td>\n      <td>NaN</td>\n      <td>NaN</td>\n      <td>NaN</td>\n      <td>NaN</td>\n      <td>NaN</td>\n      <td>NaN</td>\n      <td>NaN</td>\n      <td>1.0</td>\n      <td>-4</td>\n      <td>1.0</td>\n      <td>-4</td>\n      <td>1.0</td>\n      <td>-4</td>\n      <td>1.0</td>\n      <td>-4</td>\n      <td>1.0</td>\n      <td>-4</td>\n      <td>1.0</td>\n      <td>Add slices toS6-TR/TE remain unchanged</td>\n      <td>1.0</td>\n      <td>-4</td>\n      <td>1.0</td>\n      <td>9/2/2005</td>\n      <td>-4</td>\n      <td>1.0</td>\n      <td>CD</td>\n      <td>-4</td>\n      <td>-4.0</td>\n      <td>-4.0</td>\n      <td>2005-09-02 00:00:00.0</td>\n    </tr>\n    <tr>\n      <th>3</th>\n      <td>ADNI1</td>\n      <td>1.5T</td>\n      <td>16</td>\n      <td>7</td>\n      <td>10</td>\n      <td>sc</td>\n      <td>sc</td>\n      <td>2005-09-14</td>\n      <td>NaN</td>\n      <td>1.0</td>\n      <td>-4</td>\n      <td>-4.0</td>\n      <td>-4</td>\n      <td>2005-09-13</td>\n      <td>NaN</td>\n      <td>NaN</td>\n      <td>NaN</td>\n      <td>NaN</td>\n      <td>NaN</td>\n      <td>NaN</td>\n      <td>NaN</td>\n      <td>NaN</td>\n      <td>NaN</td>\n      <td>1.0</td>\n      <td>-4</td>\n      <td>1.0</td>\n      <td>-4</td>\n      <td>1.0</td>\n      <td>-4</td>\n      <td>1.0</td>\n      <td>-4</td>\n      <td>1.0</td>\n      <td>-4</td>\n      <td>1.0</td>\n      <td>-4</td>\n      <td>1.0</td>\n      <td>-4</td>\n      <td>1.0</td>\n      <td>9/13/2005</td>\n      <td>-4</td>\n      <td>1.0</td>\n      <td>CD and PACS</td>\n      <td>-4</td>\n      <td>-4.0</td>\n      <td>-4.0</td>\n      <td>2005-09-14 00:00:00.0</td>\n    </tr>\n    <tr>\n      <th>4</th>\n      <td>ADNI1</td>\n      <td>1.5T</td>\n      <td>18</td>\n      <td>8</td>\n      <td>107</td>\n      <td>sc</td>\n      <td>sc</td>\n      <td>2005-09-14</td>\n      <td>NaN</td>\n      <td>1.0</td>\n      <td>-4</td>\n      <td>-4.0</td>\n      <td>-4</td>\n      <td>2005-09-13</td>\n      <td>NaN</td>\n      <td>NaN</td>\n      <td>NaN</td>\n      <td>NaN</td>\n      <td>NaN</td>\n      <td>NaN</td>\n      <td>NaN</td>\n      <td>NaN</td>\n      <td>NaN</td>\n      <td>1.0</td>\n      <td>-4</td>\n      <td>1.0</td>\n      <td>-4</td>\n      <td>1.0</td>\n      <td>-4</td>\n      <td>1.0</td>\n      <td>-4</td>\n      <td>1.0</td>\n      <td>Repeated a series 7 head coil was left on</td>\n      <td>1.0</td>\n      <td>-4</td>\n      <td>1.0</td>\n      <td>-4</td>\n      <td>1.0</td>\n      <td>9/13/2005</td>\n      <td>-4</td>\n      <td>1.0</td>\n      <td>CD</td>\n      <td>-4</td>\n      <td>-4.0</td>\n      <td>-4.0</td>\n      <td>2005-09-14 00:00:00.0</td>\n    </tr>\n    <tr>\n      <th>...</th>\n      <td>...</td>\n      <td>...</td>\n      <td>...</td>\n      <td>...</td>\n      <td>...</td>\n      <td>...</td>\n      <td>...</td>\n      <td>...</td>\n      <td>...</td>\n      <td>...</td>\n      <td>...</td>\n      <td>...</td>\n      <td>...</td>\n      <td>...</td>\n      <td>...</td>\n      <td>...</td>\n      <td>...</td>\n      <td>...</td>\n      <td>...</td>\n      <td>...</td>\n      <td>...</td>\n      <td>...</td>\n      <td>...</td>\n      <td>...</td>\n      <td>...</td>\n      <td>...</td>\n      <td>...</td>\n      <td>...</td>\n      <td>...</td>\n      <td>...</td>\n      <td>...</td>\n      <td>...</td>\n      <td>...</td>\n      <td>...</td>\n      <td>...</td>\n      <td>...</td>\n      <td>...</td>\n      <td>...</td>\n      <td>...</td>\n      <td>...</td>\n      <td>...</td>\n      <td>...</td>\n      <td>...</td>\n      <td>...</td>\n      <td>...</td>\n      <td>...</td>\n    </tr>\n    <tr>\n      <th>4729</th>\n      <td>ADNI2</td>\n      <td>1.5T</td>\n      <td>11014</td>\n      <td>4343</td>\n      <td>50</td>\n      <td>v41</td>\n      <td>m48</td>\n      <td>02/21/2019</td>\n      <td>NaN</td>\n      <td>1.0</td>\n      <td>1</td>\n      <td>NaN</td>\n      <td>-4</td>\n      <td>2015-12-04</td>\n      <td>0.0</td>\n      <td>NaN</td>\n      <td>NaN</td>\n      <td>0.0</td>\n      <td>-4</td>\n      <td>0.0</td>\n      <td>-4</td>\n      <td>0.0</td>\n      <td>-4</td>\n      <td>NaN</td>\n      <td>NaN</td>\n      <td>NaN</td>\n      <td>NaN</td>\n      <td>NaN</td>\n      <td>NaN</td>\n      <td>NaN</td>\n      <td>NaN</td>\n      <td>NaN</td>\n      <td>NaN</td>\n      <td>NaN</td>\n      <td>NaN</td>\n      <td>NaN</td>\n      <td>NaN</td>\n      <td>1.0</td>\n      <td>12/04/2015</td>\n      <td>-4</td>\n      <td>1.0</td>\n      <td>pacs</td>\n      <td>-4</td>\n      <td>0.0</td>\n      <td>NaN</td>\n      <td>2019-02-21 19:49:04.0</td>\n    </tr>\n    <tr>\n      <th>4730</th>\n      <td>ADNI3</td>\n      <td>1.5T</td>\n      <td>20457</td>\n      <td>4028</td>\n      <td>27</td>\n      <td>init</td>\n      <td>m72</td>\n      <td>2017-11-09</td>\n      <td>2017-11-09</td>\n      <td>NaN</td>\n      <td>1</td>\n      <td>NaN</td>\n      <td>NaN</td>\n      <td>2017-11-06</td>\n      <td>0.0</td>\n      <td>NaN</td>\n      <td>NaN</td>\n      <td>0.0</td>\n      <td>NaN</td>\n      <td>0.0</td>\n      <td>NaN</td>\n      <td>0.0</td>\n      <td>NaN</td>\n      <td>NaN</td>\n      <td>NaN</td>\n      <td>NaN</td>\n      <td>NaN</td>\n      <td>NaN</td>\n      <td>NaN</td>\n      <td>NaN</td>\n      <td>NaN</td>\n      <td>NaN</td>\n      <td>NaN</td>\n      <td>NaN</td>\n      <td>NaN</td>\n      <td>NaN</td>\n      <td>NaN</td>\n      <td>NaN</td>\n      <td>NaN</td>\n      <td>NaN</td>\n      <td>1.0</td>\n      <td>PACS</td>\n      <td>NaN</td>\n      <td>0.0</td>\n      <td>NaN</td>\n      <td>2017-11-09 22:29:03.0</td>\n    </tr>\n    <tr>\n      <th>4731</th>\n      <td>ADNI3</td>\n      <td>1.5T</td>\n      <td>30153</td>\n      <td>2121</td>\n      <td>37</td>\n      <td>init</td>\n      <td>m84</td>\n      <td>2018-02-15</td>\n      <td>2019-08-09</td>\n      <td>NaN</td>\n      <td>1</td>\n      <td>NaN</td>\n      <td>NaN</td>\n      <td>2018-02-12</td>\n      <td>0.0</td>\n      <td>NaN</td>\n      <td>NaN</td>\n      <td>1.0</td>\n      <td>HI-RES hippocampus repeated due to motion</td>\n      <td>0.0</td>\n      <td>NaN</td>\n      <td>1.0</td>\n      <td>JM 6APR2018; scan erroneously completed on 1.5...</td>\n      <td>NaN</td>\n      <td>NaN</td>\n      <td>NaN</td>\n      <td>NaN</td>\n      <td>NaN</td>\n      <td>NaN</td>\n      <td>NaN</td>\n      <td>NaN</td>\n      <td>NaN</td>\n      <td>NaN</td>\n      <td>NaN</td>\n      <td>NaN</td>\n      <td>NaN</td>\n      <td>NaN</td>\n      <td>0.0</td>\n      <td>2018-xx-xx</td>\n      <td>scan uploaded in march, date unknown</td>\n      <td>1.0</td>\n      <td>Medicalis PACS System; CD</td>\n      <td>JM 9AUG2019 MRI was erroneously not uploaded w...</td>\n      <td>0.0</td>\n      <td>NaN</td>\n      <td>2019-08-10 04:14:18.0</td>\n    </tr>\n    <tr>\n      <th>4732</th>\n      <td>ADNI3</td>\n      <td>1.5T</td>\n      <td>63391</td>\n      <td>6170</td>\n      <td>51</td>\n      <td>sc</td>\n      <td>sc</td>\n      <td>2018-09-25</td>\n      <td>2018-09-25</td>\n      <td>NaN</td>\n      <td>1</td>\n      <td>NaN</td>\n      <td>NaN</td>\n      <td>2018-05-14</td>\n      <td>1.0</td>\n      <td>NaN</td>\n      <td>NaN</td>\n      <td>0.0</td>\n      <td>NaN</td>\n      <td>0.0</td>\n      <td>NaN</td>\n      <td>0.0</td>\n      <td>NaN</td>\n      <td>NaN</td>\n      <td>NaN</td>\n      <td>NaN</td>\n      <td>NaN</td>\n      <td>NaN</td>\n      <td>NaN</td>\n      <td>NaN</td>\n      <td>NaN</td>\n      <td>NaN</td>\n      <td>NaN</td>\n      <td>NaN</td>\n      <td>NaN</td>\n      <td>NaN</td>\n      <td>NaN</td>\n      <td>1.0</td>\n      <td>2018-05-17</td>\n      <td>NaN</td>\n      <td>1.0</td>\n      <td>PACS</td>\n      <td>NaN</td>\n      <td>0.0</td>\n      <td>NaN</td>\n      <td>2018-09-25 22:42:06.0</td>\n    </tr>\n    <tr>\n      <th>4733</th>\n      <td>ADNI3</td>\n      <td>1.5T</td>\n      <td>103787</td>\n      <td>6837</td>\n      <td>9</td>\n      <td>sc</td>\n      <td>sc</td>\n      <td>2019-12-02</td>\n      <td>2019-12-02</td>\n      <td>NaN</td>\n      <td>1</td>\n      <td>NaN</td>\n      <td>NaN</td>\n      <td>2019-11-27</td>\n      <td>0.0</td>\n      <td>NaN</td>\n      <td>NaN</td>\n      <td>0.0</td>\n      <td>NaN</td>\n      <td>0.0</td>\n      <td>NaN</td>\n      <td>1.0</td>\n      <td>Dustin spoke w/ Lauren; scans not performed PS...</td>\n      <td>NaN</td>\n      <td>NaN</td>\n      <td>NaN</td>\n      <td>NaN</td>\n      <td>NaN</td>\n      <td>NaN</td>\n      <td>NaN</td>\n      <td>NaN</td>\n      <td>NaN</td>\n      <td>NaN</td>\n      <td>NaN</td>\n      <td>NaN</td>\n      <td>NaN</td>\n      <td>NaN</td>\n      <td>1.0</td>\n      <td>2019-11-27</td>\n      <td>NaN</td>\n      <td>1.0</td>\n      <td>PACS</td>\n      <td>NaN</td>\n      <td>0.0</td>\n      <td>NaN</td>\n      <td>2019-12-03 04:16:09.0</td>\n    </tr>\n  </tbody>\n</table>\n<p>4734 rows × 46 columns</p>\n</div>"
     },
     "metadata": {},
     "execution_count": 18
    }
   ],
   "source": [
    "df_mri_15T"
   ]
  },
  {
   "cell_type": "code",
   "execution_count": 21,
   "metadata": {},
   "outputs": [
    {
     "output_type": "execute_result",
     "data": {
      "text/plain": [
       "array([ 1., -4.,  0., nan])"
      ]
     },
     "metadata": {},
     "execution_count": 21
    }
   ],
   "source": [
    "df_mri_15T['MMRMPRAGE'].unique()"
   ]
  },
  {
   "cell_type": "code",
   "execution_count": 22,
   "metadata": {},
   "outputs": [
    {
     "output_type": "execute_result",
     "data": {
      "text/plain": [
       "array([ 1.,  0., -4., nan])"
      ]
     },
     "metadata": {},
     "execution_count": 22
    }
   ],
   "source": [
    "df_mri_15T['MMSMPRAGE'].unique()\n"
   ]
  },
  {
   "cell_type": "code",
   "execution_count": 54,
   "metadata": {},
   "outputs": [
    {
     "output_type": "execute_result",
     "data": {
      "text/plain": [
       "    SubjectID  Orig/Proc           Visit  MagStrength  \\\n",
       "0  002_S_0295  Processed  ADNI Screening          1.5   \n",
       "1  002_S_0413  Processed  ADNI Screening          1.5   \n",
       "2  002_S_0559  Processed  ADNI Screening          1.5   \n",
       "3  002_S_0619  Processed  ADNI Screening          1.5   \n",
       "4  002_S_0685  Processed  ADNI Screening          1.5   \n",
       "\n",
       "                                   Sequence    ScanDate  StudyID  SeriesID  \\\n",
       "0  MPR; GradWarp; B1 Correction; N3; Scaled  2006-04-18     3566     13408   \n",
       "1  MPR; GradWarp; B1 Correction; N3; Scaled  2006-05-02     3697     13893   \n",
       "2  MPR; GradWarp; B1 Correction; N3; Scaled  2006-05-23     3978     14875   \n",
       "3               MPR-R; GradWarp; N3; Scaled  2006-06-01     4059     15145   \n",
       "4  MPR; GradWarp; B1 Correction; N3; Scaled  2006-07-06     4374     16309   \n",
       "\n",
       "   ImageUID  \n",
       "0     45108  \n",
       "1     45117  \n",
       "2     40674  \n",
       "3     48617  \n",
       "4     40683  "
      ],
      "text/html": "<div>\n<style scoped>\n    .dataframe tbody tr th:only-of-type {\n        vertical-align: middle;\n    }\n\n    .dataframe tbody tr th {\n        vertical-align: top;\n    }\n\n    .dataframe thead th {\n        text-align: right;\n    }\n</style>\n<table border=\"1\" class=\"dataframe\">\n  <thead>\n    <tr style=\"text-align: right;\">\n      <th></th>\n      <th>SubjectID</th>\n      <th>Orig/Proc</th>\n      <th>Visit</th>\n      <th>MagStrength</th>\n      <th>Sequence</th>\n      <th>ScanDate</th>\n      <th>StudyID</th>\n      <th>SeriesID</th>\n      <th>ImageUID</th>\n    </tr>\n  </thead>\n  <tbody>\n    <tr>\n      <th>0</th>\n      <td>002_S_0295</td>\n      <td>Processed</td>\n      <td>ADNI Screening</td>\n      <td>1.5</td>\n      <td>MPR; GradWarp; B1 Correction; N3; Scaled</td>\n      <td>2006-04-18</td>\n      <td>3566</td>\n      <td>13408</td>\n      <td>45108</td>\n    </tr>\n    <tr>\n      <th>1</th>\n      <td>002_S_0413</td>\n      <td>Processed</td>\n      <td>ADNI Screening</td>\n      <td>1.5</td>\n      <td>MPR; GradWarp; B1 Correction; N3; Scaled</td>\n      <td>2006-05-02</td>\n      <td>3697</td>\n      <td>13893</td>\n      <td>45117</td>\n    </tr>\n    <tr>\n      <th>2</th>\n      <td>002_S_0559</td>\n      <td>Processed</td>\n      <td>ADNI Screening</td>\n      <td>1.5</td>\n      <td>MPR; GradWarp; B1 Correction; N3; Scaled</td>\n      <td>2006-05-23</td>\n      <td>3978</td>\n      <td>14875</td>\n      <td>40674</td>\n    </tr>\n    <tr>\n      <th>3</th>\n      <td>002_S_0619</td>\n      <td>Processed</td>\n      <td>ADNI Screening</td>\n      <td>1.5</td>\n      <td>MPR-R; GradWarp; N3; Scaled</td>\n      <td>2006-06-01</td>\n      <td>4059</td>\n      <td>15145</td>\n      <td>48617</td>\n    </tr>\n    <tr>\n      <th>4</th>\n      <td>002_S_0685</td>\n      <td>Processed</td>\n      <td>ADNI Screening</td>\n      <td>1.5</td>\n      <td>MPR; GradWarp; B1 Correction; N3; Scaled</td>\n      <td>2006-07-06</td>\n      <td>4374</td>\n      <td>16309</td>\n      <td>40683</td>\n    </tr>\n  </tbody>\n</table>\n</div>"
     },
     "metadata": {},
     "execution_count": 54
    }
   ],
   "source": [
    "df_mri_processed_single_image.head()"
   ]
  },
  {
   "cell_type": "code",
   "execution_count": 57,
   "metadata": {},
   "outputs": [
    {
     "output_type": "execute_result",
     "data": {
      "text/plain": [
       "     Orig/Proc   SubjectID              Visit  MagStrength        Sequence  \\\n",
       "3339  Original  002_S_0295     ADNI Screening          1.5  MP-RAGE REPEAT   \n",
       "3340  Original  002_S_0295     ADNI Screening          1.5         MP-RAGE   \n",
       "3341  Original  002_S_0295   ADNI1/GO Month 6          1.5  MP-RAGE REPEAT   \n",
       "3342  Original  002_S_0295   ADNI1/GO Month 6          1.5         MP-RAGE   \n",
       "3343  Original  002_S_0295  ADNI1/GO Month 12          1.5         MP-RAGE   \n",
       "3344  Original  002_S_0295  ADNI1/GO Month 12          1.5  MP-RAGE REPEAT   \n",
       "3345  Original  002_S_0295  ADNI1/GO Month 24          1.5  MP-RAGE REPEAT   \n",
       "3346  Original  002_S_0295  ADNI1/GO Month 24          1.5         MP-RAGE   \n",
       "3347  Original  002_S_0295  ADNI1/GO Month 36          1.5         MP-RAGE   \n",
       "3348  Original  002_S_0295  ADNI1/GO Month 36          1.5         MP-RAGE   \n",
       "3349  Original  002_S_0295  ADNI1/GO Month 48          1.5         MP-RAGE   \n",
       "3350  Original  002_S_0295  ADNI1/GO Month 48          1.5  MP-RAGE REPEAT   \n",
       "\n",
       "        ScanDate  StudyID  SeriesID  ImageUID  \n",
       "3339  2006-04-18     3566     13407     13721  \n",
       "3340  2006-04-18     3566     13408     13722  \n",
       "3341  2006-11-02     5726     21855     28560  \n",
       "3342  2006-11-02     5726     21856     28561  \n",
       "3343  2007-05-25     9011     32678     55275  \n",
       "3344  2007-05-25     9011     32679     55276  \n",
       "3345  2008-07-23    17039     54060    114209  \n",
       "3346  2008-07-23    17039     54061    114210  \n",
       "3347  2009-05-22    21447     67612    144446  \n",
       "3348  2009-05-22    21447     67613    144447  \n",
       "3349  2010-05-13    26576     84944    173732  \n",
       "3350  2010-05-13    26576     84948    173739  "
      ],
      "text/html": "<div>\n<style scoped>\n    .dataframe tbody tr th:only-of-type {\n        vertical-align: middle;\n    }\n\n    .dataframe tbody tr th {\n        vertical-align: top;\n    }\n\n    .dataframe thead th {\n        text-align: right;\n    }\n</style>\n<table border=\"1\" class=\"dataframe\">\n  <thead>\n    <tr style=\"text-align: right;\">\n      <th></th>\n      <th>Orig/Proc</th>\n      <th>SubjectID</th>\n      <th>Visit</th>\n      <th>MagStrength</th>\n      <th>Sequence</th>\n      <th>ScanDate</th>\n      <th>StudyID</th>\n      <th>SeriesID</th>\n      <th>ImageUID</th>\n    </tr>\n  </thead>\n  <tbody>\n    <tr>\n      <th>3339</th>\n      <td>Original</td>\n      <td>002_S_0295</td>\n      <td>ADNI Screening</td>\n      <td>1.5</td>\n      <td>MP-RAGE REPEAT</td>\n      <td>2006-04-18</td>\n      <td>3566</td>\n      <td>13407</td>\n      <td>13721</td>\n    </tr>\n    <tr>\n      <th>3340</th>\n      <td>Original</td>\n      <td>002_S_0295</td>\n      <td>ADNI Screening</td>\n      <td>1.5</td>\n      <td>MP-RAGE</td>\n      <td>2006-04-18</td>\n      <td>3566</td>\n      <td>13408</td>\n      <td>13722</td>\n    </tr>\n    <tr>\n      <th>3341</th>\n      <td>Original</td>\n      <td>002_S_0295</td>\n      <td>ADNI1/GO Month 6</td>\n      <td>1.5</td>\n      <td>MP-RAGE REPEAT</td>\n      <td>2006-11-02</td>\n      <td>5726</td>\n      <td>21855</td>\n      <td>28560</td>\n    </tr>\n    <tr>\n      <th>3342</th>\n      <td>Original</td>\n      <td>002_S_0295</td>\n      <td>ADNI1/GO Month 6</td>\n      <td>1.5</td>\n      <td>MP-RAGE</td>\n      <td>2006-11-02</td>\n      <td>5726</td>\n      <td>21856</td>\n      <td>28561</td>\n    </tr>\n    <tr>\n      <th>3343</th>\n      <td>Original</td>\n      <td>002_S_0295</td>\n      <td>ADNI1/GO Month 12</td>\n      <td>1.5</td>\n      <td>MP-RAGE</td>\n      <td>2007-05-25</td>\n      <td>9011</td>\n      <td>32678</td>\n      <td>55275</td>\n    </tr>\n    <tr>\n      <th>3344</th>\n      <td>Original</td>\n      <td>002_S_0295</td>\n      <td>ADNI1/GO Month 12</td>\n      <td>1.5</td>\n      <td>MP-RAGE REPEAT</td>\n      <td>2007-05-25</td>\n      <td>9011</td>\n      <td>32679</td>\n      <td>55276</td>\n    </tr>\n    <tr>\n      <th>3345</th>\n      <td>Original</td>\n      <td>002_S_0295</td>\n      <td>ADNI1/GO Month 24</td>\n      <td>1.5</td>\n      <td>MP-RAGE REPEAT</td>\n      <td>2008-07-23</td>\n      <td>17039</td>\n      <td>54060</td>\n      <td>114209</td>\n    </tr>\n    <tr>\n      <th>3346</th>\n      <td>Original</td>\n      <td>002_S_0295</td>\n      <td>ADNI1/GO Month 24</td>\n      <td>1.5</td>\n      <td>MP-RAGE</td>\n      <td>2008-07-23</td>\n      <td>17039</td>\n      <td>54061</td>\n      <td>114210</td>\n    </tr>\n    <tr>\n      <th>3347</th>\n      <td>Original</td>\n      <td>002_S_0295</td>\n      <td>ADNI1/GO Month 36</td>\n      <td>1.5</td>\n      <td>MP-RAGE</td>\n      <td>2009-05-22</td>\n      <td>21447</td>\n      <td>67612</td>\n      <td>144446</td>\n    </tr>\n    <tr>\n      <th>3348</th>\n      <td>Original</td>\n      <td>002_S_0295</td>\n      <td>ADNI1/GO Month 36</td>\n      <td>1.5</td>\n      <td>MP-RAGE</td>\n      <td>2009-05-22</td>\n      <td>21447</td>\n      <td>67613</td>\n      <td>144447</td>\n    </tr>\n    <tr>\n      <th>3349</th>\n      <td>Original</td>\n      <td>002_S_0295</td>\n      <td>ADNI1/GO Month 48</td>\n      <td>1.5</td>\n      <td>MP-RAGE</td>\n      <td>2010-05-13</td>\n      <td>26576</td>\n      <td>84944</td>\n      <td>173732</td>\n    </tr>\n    <tr>\n      <th>3350</th>\n      <td>Original</td>\n      <td>002_S_0295</td>\n      <td>ADNI1/GO Month 48</td>\n      <td>1.5</td>\n      <td>MP-RAGE REPEAT</td>\n      <td>2010-05-13</td>\n      <td>26576</td>\n      <td>84948</td>\n      <td>173739</td>\n    </tr>\n  </tbody>\n</table>\n</div>"
     },
     "metadata": {},
     "execution_count": 57
    }
   ],
   "source": [
    "df_mri.query(\"SubjectID == '002_S_0295' and MagStrength == 1.5 and `Orig/Proc` == 'Original'\")"
   ]
  },
  {
   "cell_type": "code",
   "execution_count": 52,
   "metadata": {},
   "outputs": [
    {
     "output_type": "execute_result",
     "data": {
      "text/plain": [
       "      PHASE FIELD_STRENGTH    ID  RID  SITEID VISCODE VISCODE2    USERDATE  \\\n",
       "228   ADNI1           1.5T   470  295     101      sc       sc  2006-04-19   \n",
       "785   ADNI1           1.5T  1594  295     101     m06      m06  2006-11-02   \n",
       "1621  ADNI1           1.5T  3276  295     101     m12      m12  2007-05-29   \n",
       "2944  ADNI1           1.5T  5934  295     101     m24      m24  2008-07-28   \n",
       "3486  ADNI1           1.5T  7022  295     101     m36      m36  2009-05-11   \n",
       "3501  ADNI1           1.5T  7052  295     101     m36      m36  2009-05-26   \n",
       "3868  ADNI1           1.5T  7786  295     101     m48      m48  2010-05-14   \n",
       "\n",
       "     USERDATE2  RECNO  MMCONDCT  MMREASON MMOTHSPE    EXAMDATE  SEDATIVE  \\\n",
       "228        NaN    1.0        -4      -4.0       -4  2006-04-18       NaN   \n",
       "785        NaN    1.0         1      -4.0       -4  2006-11-02       NaN   \n",
       "1621       NaN    1.0         1      -4.0       -4  2007-05-25       NaN   \n",
       "2944       NaN    1.0         1      -4.0       -4  2008-07-23       NaN   \n",
       "3486       NaN    1.0         1      -4.0       -4  2009-05-07       NaN   \n",
       "3501       NaN    2.0         1      -4.0       -4  2009-05-22       NaN   \n",
       "3868       NaN    1.0         1      -4.0       -4  2010-05-13       NaN   \n",
       "\n",
       "      EYEASK  EYEKEEP  MOTION MOTIONDET  MALFUNC MALFUNCDET  OTRDEV OTRDEVDET  \\\n",
       "228      NaN      NaN     NaN       NaN      NaN        NaN     NaN       NaN   \n",
       "785      NaN      NaN     NaN       NaN      NaN        NaN     NaN       NaN   \n",
       "1621     NaN      NaN     NaN       NaN      NaN        NaN     NaN       NaN   \n",
       "2944     NaN      NaN     NaN       NaN      NaN        NaN     NaN       NaN   \n",
       "3486     NaN      NaN     NaN       NaN      NaN        NaN     NaN       NaN   \n",
       "3501     NaN      NaN     NaN       NaN      NaN        NaN     NaN       NaN   \n",
       "3868     NaN      NaN     NaN       NaN      NaN        NaN     NaN       NaN   \n",
       "\n",
       "      MMSCOUT MMSCTCOM  MMSMPRAGE MMSMPCOM  MMRMPRAGE MMRMPCOM  MMB1HEAD  \\\n",
       "228       1.0       -4        1.0       -4        1.0       -4       1.0   \n",
       "785       1.0     good        1.0     good        1.0     good       1.0   \n",
       "1621      1.0       -4        1.0       -4        1.0       -4       1.0   \n",
       "2944      1.0       -4        1.0       -4        1.0       -4       1.0   \n",
       "3486      1.0       -4        1.0       -4        1.0       -4       0.0   \n",
       "3501      1.0       -4        1.0       -4        1.0       -4       1.0   \n",
       "3868      1.0       -4        1.0       -4        1.0       -4       1.0   \n",
       "\n",
       "       MMB1HDCOM  MMB1BODY   MMB1BDCOM  MMECHO  \\\n",
       "228           -4       1.0          -4     1.0   \n",
       "785         good       1.0        good     1.0   \n",
       "1621          -4       1.0          -4     1.0   \n",
       "2944          -4       1.0          -4     1.0   \n",
       "3486  tech error       0.0  tech error     0.0   \n",
       "3501          -4       1.0          -4     1.0   \n",
       "3868          -4       1.0          -4     1.0   \n",
       "\n",
       "                                                MMECCOM  MMPHAN MMPHCOM  \\\n",
       "228   Not sure if we got enough coverage superiorall...     1.0      -4   \n",
       "785                                                good     1.0    good   \n",
       "1621                                                 -4     1.0      -4   \n",
       "2944                                                 -4     1.0      -4   \n",
       "3486                                         tech error     1.0      -4   \n",
       "3501                                                 -4     1.0      -4   \n",
       "3868                                                 -4     1.0      -4   \n",
       "\n",
       "      MMTRNSFR  MMTRNDATE                            MMTRNCOM  MMARCHIVE  \\\n",
       "228        1.0  4/18/2006                                  -4        1.0   \n",
       "785        1.0  11/2/2006                                  -4        1.0   \n",
       "1621       1.0  5/25/2007                                  -4        1.0   \n",
       "2944       1.0  7/23/2008                                  -4        1.0   \n",
       "3486       1.0   5/7/2009  will rescan prior to LP on 5/22/09        1.0   \n",
       "3501       1.0  5/23/2009                                  -4        1.0   \n",
       "3868       1.0  5/14/2010                                  -4        1.0   \n",
       "\n",
       "             MMARCMED MMARCCOM  MMLPDONE  MMLPINTER           update_stamp  \n",
       "228                CD       -4      -4.0       -4.0  2006-04-19 00:00:00.0  \n",
       "785   MOD - CD - PACS     good       0.0       -4.0  2006-11-02 00:00:00.0  \n",
       "1621               CD       -4       0.0       -4.0  2007-05-29 00:00:00.0  \n",
       "2944        467B MR#2       -4       0.0       -4.0  2008-07-28 00:00:00.0  \n",
       "3486               CD       -4       0.0       -4.0  2009-05-11 00:00:00.0  \n",
       "3501               CD       -4       0.0       -4.0  2009-05-26 00:00:00.0  \n",
       "3868               CD       -4       0.0       -4.0  2010-05-14 00:00:00.0  "
      ],
      "text/html": "<div>\n<style scoped>\n    .dataframe tbody tr th:only-of-type {\n        vertical-align: middle;\n    }\n\n    .dataframe tbody tr th {\n        vertical-align: top;\n    }\n\n    .dataframe thead th {\n        text-align: right;\n    }\n</style>\n<table border=\"1\" class=\"dataframe\">\n  <thead>\n    <tr style=\"text-align: right;\">\n      <th></th>\n      <th>PHASE</th>\n      <th>FIELD_STRENGTH</th>\n      <th>ID</th>\n      <th>RID</th>\n      <th>SITEID</th>\n      <th>VISCODE</th>\n      <th>VISCODE2</th>\n      <th>USERDATE</th>\n      <th>USERDATE2</th>\n      <th>RECNO</th>\n      <th>MMCONDCT</th>\n      <th>MMREASON</th>\n      <th>MMOTHSPE</th>\n      <th>EXAMDATE</th>\n      <th>SEDATIVE</th>\n      <th>EYEASK</th>\n      <th>EYEKEEP</th>\n      <th>MOTION</th>\n      <th>MOTIONDET</th>\n      <th>MALFUNC</th>\n      <th>MALFUNCDET</th>\n      <th>OTRDEV</th>\n      <th>OTRDEVDET</th>\n      <th>MMSCOUT</th>\n      <th>MMSCTCOM</th>\n      <th>MMSMPRAGE</th>\n      <th>MMSMPCOM</th>\n      <th>MMRMPRAGE</th>\n      <th>MMRMPCOM</th>\n      <th>MMB1HEAD</th>\n      <th>MMB1HDCOM</th>\n      <th>MMB1BODY</th>\n      <th>MMB1BDCOM</th>\n      <th>MMECHO</th>\n      <th>MMECCOM</th>\n      <th>MMPHAN</th>\n      <th>MMPHCOM</th>\n      <th>MMTRNSFR</th>\n      <th>MMTRNDATE</th>\n      <th>MMTRNCOM</th>\n      <th>MMARCHIVE</th>\n      <th>MMARCMED</th>\n      <th>MMARCCOM</th>\n      <th>MMLPDONE</th>\n      <th>MMLPINTER</th>\n      <th>update_stamp</th>\n    </tr>\n  </thead>\n  <tbody>\n    <tr>\n      <th>228</th>\n      <td>ADNI1</td>\n      <td>1.5T</td>\n      <td>470</td>\n      <td>295</td>\n      <td>101</td>\n      <td>sc</td>\n      <td>sc</td>\n      <td>2006-04-19</td>\n      <td>NaN</td>\n      <td>1.0</td>\n      <td>-4</td>\n      <td>-4.0</td>\n      <td>-4</td>\n      <td>2006-04-18</td>\n      <td>NaN</td>\n      <td>NaN</td>\n      <td>NaN</td>\n      <td>NaN</td>\n      <td>NaN</td>\n      <td>NaN</td>\n      <td>NaN</td>\n      <td>NaN</td>\n      <td>NaN</td>\n      <td>1.0</td>\n      <td>-4</td>\n      <td>1.0</td>\n      <td>-4</td>\n      <td>1.0</td>\n      <td>-4</td>\n      <td>1.0</td>\n      <td>-4</td>\n      <td>1.0</td>\n      <td>-4</td>\n      <td>1.0</td>\n      <td>Not sure if we got enough coverage superiorall...</td>\n      <td>1.0</td>\n      <td>-4</td>\n      <td>1.0</td>\n      <td>4/18/2006</td>\n      <td>-4</td>\n      <td>1.0</td>\n      <td>CD</td>\n      <td>-4</td>\n      <td>-4.0</td>\n      <td>-4.0</td>\n      <td>2006-04-19 00:00:00.0</td>\n    </tr>\n    <tr>\n      <th>785</th>\n      <td>ADNI1</td>\n      <td>1.5T</td>\n      <td>1594</td>\n      <td>295</td>\n      <td>101</td>\n      <td>m06</td>\n      <td>m06</td>\n      <td>2006-11-02</td>\n      <td>NaN</td>\n      <td>1.0</td>\n      <td>1</td>\n      <td>-4.0</td>\n      <td>-4</td>\n      <td>2006-11-02</td>\n      <td>NaN</td>\n      <td>NaN</td>\n      <td>NaN</td>\n      <td>NaN</td>\n      <td>NaN</td>\n      <td>NaN</td>\n      <td>NaN</td>\n      <td>NaN</td>\n      <td>NaN</td>\n      <td>1.0</td>\n      <td>good</td>\n      <td>1.0</td>\n      <td>good</td>\n      <td>1.0</td>\n      <td>good</td>\n      <td>1.0</td>\n      <td>good</td>\n      <td>1.0</td>\n      <td>good</td>\n      <td>1.0</td>\n      <td>good</td>\n      <td>1.0</td>\n      <td>good</td>\n      <td>1.0</td>\n      <td>11/2/2006</td>\n      <td>-4</td>\n      <td>1.0</td>\n      <td>MOD - CD - PACS</td>\n      <td>good</td>\n      <td>0.0</td>\n      <td>-4.0</td>\n      <td>2006-11-02 00:00:00.0</td>\n    </tr>\n    <tr>\n      <th>1621</th>\n      <td>ADNI1</td>\n      <td>1.5T</td>\n      <td>3276</td>\n      <td>295</td>\n      <td>101</td>\n      <td>m12</td>\n      <td>m12</td>\n      <td>2007-05-29</td>\n      <td>NaN</td>\n      <td>1.0</td>\n      <td>1</td>\n      <td>-4.0</td>\n      <td>-4</td>\n      <td>2007-05-25</td>\n      <td>NaN</td>\n      <td>NaN</td>\n      <td>NaN</td>\n      <td>NaN</td>\n      <td>NaN</td>\n      <td>NaN</td>\n      <td>NaN</td>\n      <td>NaN</td>\n      <td>NaN</td>\n      <td>1.0</td>\n      <td>-4</td>\n      <td>1.0</td>\n      <td>-4</td>\n      <td>1.0</td>\n      <td>-4</td>\n      <td>1.0</td>\n      <td>-4</td>\n      <td>1.0</td>\n      <td>-4</td>\n      <td>1.0</td>\n      <td>-4</td>\n      <td>1.0</td>\n      <td>-4</td>\n      <td>1.0</td>\n      <td>5/25/2007</td>\n      <td>-4</td>\n      <td>1.0</td>\n      <td>CD</td>\n      <td>-4</td>\n      <td>0.0</td>\n      <td>-4.0</td>\n      <td>2007-05-29 00:00:00.0</td>\n    </tr>\n    <tr>\n      <th>2944</th>\n      <td>ADNI1</td>\n      <td>1.5T</td>\n      <td>5934</td>\n      <td>295</td>\n      <td>101</td>\n      <td>m24</td>\n      <td>m24</td>\n      <td>2008-07-28</td>\n      <td>NaN</td>\n      <td>1.0</td>\n      <td>1</td>\n      <td>-4.0</td>\n      <td>-4</td>\n      <td>2008-07-23</td>\n      <td>NaN</td>\n      <td>NaN</td>\n      <td>NaN</td>\n      <td>NaN</td>\n      <td>NaN</td>\n      <td>NaN</td>\n      <td>NaN</td>\n      <td>NaN</td>\n      <td>NaN</td>\n      <td>1.0</td>\n      <td>-4</td>\n      <td>1.0</td>\n      <td>-4</td>\n      <td>1.0</td>\n      <td>-4</td>\n      <td>1.0</td>\n      <td>-4</td>\n      <td>1.0</td>\n      <td>-4</td>\n      <td>1.0</td>\n      <td>-4</td>\n      <td>1.0</td>\n      <td>-4</td>\n      <td>1.0</td>\n      <td>7/23/2008</td>\n      <td>-4</td>\n      <td>1.0</td>\n      <td>467B MR#2</td>\n      <td>-4</td>\n      <td>0.0</td>\n      <td>-4.0</td>\n      <td>2008-07-28 00:00:00.0</td>\n    </tr>\n    <tr>\n      <th>3486</th>\n      <td>ADNI1</td>\n      <td>1.5T</td>\n      <td>7022</td>\n      <td>295</td>\n      <td>101</td>\n      <td>m36</td>\n      <td>m36</td>\n      <td>2009-05-11</td>\n      <td>NaN</td>\n      <td>1.0</td>\n      <td>1</td>\n      <td>-4.0</td>\n      <td>-4</td>\n      <td>2009-05-07</td>\n      <td>NaN</td>\n      <td>NaN</td>\n      <td>NaN</td>\n      <td>NaN</td>\n      <td>NaN</td>\n      <td>NaN</td>\n      <td>NaN</td>\n      <td>NaN</td>\n      <td>NaN</td>\n      <td>1.0</td>\n      <td>-4</td>\n      <td>1.0</td>\n      <td>-4</td>\n      <td>1.0</td>\n      <td>-4</td>\n      <td>0.0</td>\n      <td>tech error</td>\n      <td>0.0</td>\n      <td>tech error</td>\n      <td>0.0</td>\n      <td>tech error</td>\n      <td>1.0</td>\n      <td>-4</td>\n      <td>1.0</td>\n      <td>5/7/2009</td>\n      <td>will rescan prior to LP on 5/22/09</td>\n      <td>1.0</td>\n      <td>CD</td>\n      <td>-4</td>\n      <td>0.0</td>\n      <td>-4.0</td>\n      <td>2009-05-11 00:00:00.0</td>\n    </tr>\n    <tr>\n      <th>3501</th>\n      <td>ADNI1</td>\n      <td>1.5T</td>\n      <td>7052</td>\n      <td>295</td>\n      <td>101</td>\n      <td>m36</td>\n      <td>m36</td>\n      <td>2009-05-26</td>\n      <td>NaN</td>\n      <td>2.0</td>\n      <td>1</td>\n      <td>-4.0</td>\n      <td>-4</td>\n      <td>2009-05-22</td>\n      <td>NaN</td>\n      <td>NaN</td>\n      <td>NaN</td>\n      <td>NaN</td>\n      <td>NaN</td>\n      <td>NaN</td>\n      <td>NaN</td>\n      <td>NaN</td>\n      <td>NaN</td>\n      <td>1.0</td>\n      <td>-4</td>\n      <td>1.0</td>\n      <td>-4</td>\n      <td>1.0</td>\n      <td>-4</td>\n      <td>1.0</td>\n      <td>-4</td>\n      <td>1.0</td>\n      <td>-4</td>\n      <td>1.0</td>\n      <td>-4</td>\n      <td>1.0</td>\n      <td>-4</td>\n      <td>1.0</td>\n      <td>5/23/2009</td>\n      <td>-4</td>\n      <td>1.0</td>\n      <td>CD</td>\n      <td>-4</td>\n      <td>0.0</td>\n      <td>-4.0</td>\n      <td>2009-05-26 00:00:00.0</td>\n    </tr>\n    <tr>\n      <th>3868</th>\n      <td>ADNI1</td>\n      <td>1.5T</td>\n      <td>7786</td>\n      <td>295</td>\n      <td>101</td>\n      <td>m48</td>\n      <td>m48</td>\n      <td>2010-05-14</td>\n      <td>NaN</td>\n      <td>1.0</td>\n      <td>1</td>\n      <td>-4.0</td>\n      <td>-4</td>\n      <td>2010-05-13</td>\n      <td>NaN</td>\n      <td>NaN</td>\n      <td>NaN</td>\n      <td>NaN</td>\n      <td>NaN</td>\n      <td>NaN</td>\n      <td>NaN</td>\n      <td>NaN</td>\n      <td>NaN</td>\n      <td>1.0</td>\n      <td>-4</td>\n      <td>1.0</td>\n      <td>-4</td>\n      <td>1.0</td>\n      <td>-4</td>\n      <td>1.0</td>\n      <td>-4</td>\n      <td>1.0</td>\n      <td>-4</td>\n      <td>1.0</td>\n      <td>-4</td>\n      <td>1.0</td>\n      <td>-4</td>\n      <td>1.0</td>\n      <td>5/14/2010</td>\n      <td>-4</td>\n      <td>1.0</td>\n      <td>CD</td>\n      <td>-4</td>\n      <td>0.0</td>\n      <td>-4.0</td>\n      <td>2010-05-14 00:00:00.0</td>\n    </tr>\n  </tbody>\n</table>\n</div>"
     },
     "metadata": {},
     "execution_count": 52
    }
   ],
   "source": [
    "df_mri_15T.query(\"RID == 295\")"
   ]
  },
  {
   "source": [
    "# MRI Metadata Analysis - 3T"
   ],
   "cell_type": "markdown",
   "metadata": {}
  },
  {
   "cell_type": "code",
   "execution_count": 19,
   "metadata": {},
   "outputs": [
    {
     "output_type": "execute_result",
     "data": {
      "text/plain": [
       "(7200, 47)"
      ]
     },
     "metadata": {},
     "execution_count": 19
    }
   ],
   "source": [
    "df_mri_3T = pd.read_csv(\"./data/MRI_3T_images_info.csv\")\n",
    "df_mri_3T.shape"
   ]
  },
  {
   "cell_type": "code",
   "execution_count": 20,
   "metadata": {},
   "outputs": [
    {
     "output_type": "execute_result",
     "data": {
      "text/plain": [
       "      PHASE FIELD_STRENGTH      ID   RID  SITEID VISCODE VISCODE2    USERDATE  \\\n",
       "0     ADNI1             3T       2    30      11      bl       bl  2005-10-26   \n",
       "1     ADNI1             3T       4    31      11      bl       bl  2005-10-28   \n",
       "2     ADNI1             3T       6    15       4      bl       bl  2005-11-02   \n",
       "3     ADNI1             3T       8    29      32      bl       bl  2005-11-10   \n",
       "4     ADNI1             3T      10    58      11      bl       bl  2005-12-12   \n",
       "...     ...            ...     ...   ...     ...     ...      ...         ...   \n",
       "7195  ADNI3             3T  126171  2392      43      y3     m108  2021-01-14   \n",
       "7196  ADNI3             3T  126226  6063      43      y2      m24  2021-01-15   \n",
       "7197  ADNI3             3T  126327  6635      14      y2      m24  2021-01-19   \n",
       "7198  ADNI3             3T  126389  6845      62      y1      m12  2021-01-20   \n",
       "7199  ADNI3             3T  126469  4170      45      y3     m108  2021-01-22   \n",
       "\n",
       "       USERDATE2  RECNO  MMCONDCT  MMREASON MMOTHSPE    EXAMDATE  SEDATIVE  \\\n",
       "0            NaN    1.0         1      -4.0       -4  2005-10-26       NaN   \n",
       "1            NaN    1.0         1      -4.0       -4  2005-10-28       NaN   \n",
       "2            NaN    1.0         1      -4.0       -4  2005-10-31       NaN   \n",
       "3            NaN    1.0         1      -4.0       -4  2005-11-08       NaN   \n",
       "4            NaN    1.0         1      -4.0       -4  2005-12-12       NaN   \n",
       "...          ...    ...       ...       ...      ...         ...       ...   \n",
       "7195  2021-01-14    NaN         1       NaN      NaN  2020-07-23       0.0   \n",
       "7196  2021-01-15    NaN         1       NaN      NaN  2020-02-25       0.0   \n",
       "7197  2021-01-19    NaN         1       NaN      NaN  2021-01-15       0.0   \n",
       "7198  2021-01-20    NaN         1       NaN      NaN  2021-01-14       0.0   \n",
       "7199  2021-01-22    NaN         1       NaN      NaN  2020-10-07       0.0   \n",
       "\n",
       "      EYEASK  EYEKEEP  MMSCOUT                          MMSCTCOM  MMSMPRAGE  \\\n",
       "0        NaN      NaN      1.0                                -4        1.0   \n",
       "1        NaN      NaN      1.0                                -4        1.0   \n",
       "2        NaN      NaN      1.0                                -4        1.0   \n",
       "3        NaN      NaN      1.0                                -4        1.0   \n",
       "4        NaN      NaN      1.0                                -4        1.0   \n",
       "...      ...      ...      ...                               ...        ...   \n",
       "7195     0.0      1.0      0.0                               NaN        0.0   \n",
       "7196     1.0      0.0      0.0                               NaN        0.0   \n",
       "7197     1.0      1.0      0.0                               NaN        0.0   \n",
       "7198     1.0      1.0      1.0  patient moved on multiple series        0.0   \n",
       "7199     1.0      1.0      0.0                               NaN        0.0   \n",
       "\n",
       "     MMSMPCOM  MMRMPRAGE MMRMPCOM  MMB1HEAD MMB1HDCOM  MMB1BODY MMB1BDCOM  \\\n",
       "0          -4        1.0       -4       1.0        -4       1.0        -4   \n",
       "1          -4        1.0       -4       1.0        -4       1.0        -4   \n",
       "2          -4        1.0       -4       0.0        -4       0.0        -4   \n",
       "3          -4        1.0       -4       1.0        -4       1.0        -4   \n",
       "4          -4        1.0       -4       1.0        -4       1.0        -4   \n",
       "...       ...        ...      ...       ...       ...       ...       ...   \n",
       "7195      NaN        0.0      NaN       NaN       NaN       NaN       NaN   \n",
       "7196      NaN        0.0      NaN       NaN       NaN       NaN       NaN   \n",
       "7197      NaN        0.0      NaN       NaN       NaN       NaN       NaN   \n",
       "7198      NaN        0.0      NaN       NaN       NaN       NaN       NaN   \n",
       "7199      NaN        0.0      NaN       NaN       NaN       NaN       NaN   \n",
       "\n",
       "      MMECHO MMECCOM  MMPHAN MMPHCOM  MMTRNSFR   MMTRNDATE  \\\n",
       "0        1.0      -4     1.0      -4       1.0  10/26/2005   \n",
       "1        1.0      -4     1.0      -4       0.0  10/30/2005   \n",
       "2        1.0      -4     1.0      -4       1.0   11/1/2005   \n",
       "3        1.0      -4     1.0      -4       0.0  11/10/2005   \n",
       "4        1.0      -4     1.0      -4       1.0  12/12/2005   \n",
       "...      ...     ...     ...     ...       ...         ...   \n",
       "7195     NaN     NaN     NaN     NaN       NaN         NaN   \n",
       "7196     NaN     NaN     NaN     NaN       NaN         NaN   \n",
       "7197     NaN     NaN     NaN     NaN       NaN         NaN   \n",
       "7198     NaN     NaN     NaN     NaN       NaN         NaN   \n",
       "7199     NaN     NaN     NaN     NaN       NaN         NaN   \n",
       "\n",
       "                                               MMTRNCOM  MMARCHIVE  \\\n",
       "0                                                    -4        1.0   \n",
       "1     3T control room was occupied until late Friday...        1.0   \n",
       "2                                                    -4        1.0   \n",
       "3                                    CD burner was down        1.0   \n",
       "4                                                    -4        1.0   \n",
       "...                                                 ...        ...   \n",
       "7195                                                NaN        NaN   \n",
       "7196                                                NaN        NaN   \n",
       "7197                                                NaN        NaN   \n",
       "7198                                                NaN        NaN   \n",
       "7199                                                NaN        NaN   \n",
       "\n",
       "           MMARCMED                MMARCCOM  MMLPDONE   MMLPINTER  \\\n",
       "0              CD-R                      -4       0.0          -4   \n",
       "1              CD-R  archived on 10/28/2005       1.0           6   \n",
       "2              disk                      -4       1.0           6   \n",
       "3     Research PACS                      -4       1.0           6   \n",
       "4              CD-R                      -4       0.0          -4   \n",
       "...             ...                     ...       ...         ...   \n",
       "7195            NaN                     NaN       0.0  2021-01-14   \n",
       "7196            NaN                     NaN       0.0  2021-01-15   \n",
       "7197            NaN                     NaN       0.0  2021-01-19   \n",
       "7198            NaN                     NaN       1.0  2021-01-15   \n",
       "7199            NaN                     NaN       1.0  2020-10-xx   \n",
       "\n",
       "                                                MALFUNC MALFUNCDET  \\\n",
       "0                                                   NaN        NaN   \n",
       "1                                                   NaN        NaN   \n",
       "2                                                   NaN        NaN   \n",
       "3                                                   NaN        NaN   \n",
       "4                                                   NaN        NaN   \n",
       "...                                                 ...        ...   \n",
       "7195   May have uploaded 8/3/2020 but re-uploaded today          1   \n",
       "7196  Not sure if went throug upload on 3/11/2020. D...          1   \n",
       "7197                                                NaN          1   \n",
       "7198                                                NaN          1   \n",
       "7199                                                NaN          1   \n",
       "\n",
       "            MOTION                                          MOTIONDET  OTRDEV  \\\n",
       "0              NaN                                                NaN     NaN   \n",
       "1              NaN                                                NaN     NaN   \n",
       "2              NaN                                                NaN     NaN   \n",
       "3              NaN                                                NaN     NaN   \n",
       "4              NaN                                                NaN     NaN   \n",
       "...            ...                                                ...     ...   \n",
       "7195            CD                                                NaN     0.0   \n",
       "7196            CD                                                NaN     1.0   \n",
       "7197            CD                                                NaN     0.0   \n",
       "7198     VUMC PACs  patient moved on multiple series. Due to the t...     0.0   \n",
       "7199  PACS and DVD                                                NaN     0.0   \n",
       "\n",
       "     OTRDEVDET  FLDSTRNGTH           update_stamp  \n",
       "0          NaN         NaN  2005-10-26 00:00:00.0  \n",
       "1          NaN         NaN  2005-10-28 00:00:00.0  \n",
       "2          NaN         NaN  2005-11-02 00:00:00.0  \n",
       "3          NaN         NaN  2005-11-10 00:00:00.0  \n",
       "4          NaN         NaN  2005-12-12 00:00:00.0  \n",
       "...        ...         ...                    ...  \n",
       "7195       NaN         2.0  2021-01-15 04:16:20.0  \n",
       "7196         6         2.0  2021-01-16 04:16:32.0  \n",
       "7197       NaN         2.0  2021-01-20 04:16:43.0  \n",
       "7198       NaN         2.0  2021-01-21 04:16:38.0  \n",
       "7199       NaN         2.0  2021-01-23 04:16:18.0  \n",
       "\n",
       "[7200 rows x 47 columns]"
      ],
      "text/html": "<div>\n<style scoped>\n    .dataframe tbody tr th:only-of-type {\n        vertical-align: middle;\n    }\n\n    .dataframe tbody tr th {\n        vertical-align: top;\n    }\n\n    .dataframe thead th {\n        text-align: right;\n    }\n</style>\n<table border=\"1\" class=\"dataframe\">\n  <thead>\n    <tr style=\"text-align: right;\">\n      <th></th>\n      <th>PHASE</th>\n      <th>FIELD_STRENGTH</th>\n      <th>ID</th>\n      <th>RID</th>\n      <th>SITEID</th>\n      <th>VISCODE</th>\n      <th>VISCODE2</th>\n      <th>USERDATE</th>\n      <th>USERDATE2</th>\n      <th>RECNO</th>\n      <th>MMCONDCT</th>\n      <th>MMREASON</th>\n      <th>MMOTHSPE</th>\n      <th>EXAMDATE</th>\n      <th>SEDATIVE</th>\n      <th>EYEASK</th>\n      <th>EYEKEEP</th>\n      <th>MMSCOUT</th>\n      <th>MMSCTCOM</th>\n      <th>MMSMPRAGE</th>\n      <th>MMSMPCOM</th>\n      <th>MMRMPRAGE</th>\n      <th>MMRMPCOM</th>\n      <th>MMB1HEAD</th>\n      <th>MMB1HDCOM</th>\n      <th>MMB1BODY</th>\n      <th>MMB1BDCOM</th>\n      <th>MMECHO</th>\n      <th>MMECCOM</th>\n      <th>MMPHAN</th>\n      <th>MMPHCOM</th>\n      <th>MMTRNSFR</th>\n      <th>MMTRNDATE</th>\n      <th>MMTRNCOM</th>\n      <th>MMARCHIVE</th>\n      <th>MMARCMED</th>\n      <th>MMARCCOM</th>\n      <th>MMLPDONE</th>\n      <th>MMLPINTER</th>\n      <th>MALFUNC</th>\n      <th>MALFUNCDET</th>\n      <th>MOTION</th>\n      <th>MOTIONDET</th>\n      <th>OTRDEV</th>\n      <th>OTRDEVDET</th>\n      <th>FLDSTRNGTH</th>\n      <th>update_stamp</th>\n    </tr>\n  </thead>\n  <tbody>\n    <tr>\n      <th>0</th>\n      <td>ADNI1</td>\n      <td>3T</td>\n      <td>2</td>\n      <td>30</td>\n      <td>11</td>\n      <td>bl</td>\n      <td>bl</td>\n      <td>2005-10-26</td>\n      <td>NaN</td>\n      <td>1.0</td>\n      <td>1</td>\n      <td>-4.0</td>\n      <td>-4</td>\n      <td>2005-10-26</td>\n      <td>NaN</td>\n      <td>NaN</td>\n      <td>NaN</td>\n      <td>1.0</td>\n      <td>-4</td>\n      <td>1.0</td>\n      <td>-4</td>\n      <td>1.0</td>\n      <td>-4</td>\n      <td>1.0</td>\n      <td>-4</td>\n      <td>1.0</td>\n      <td>-4</td>\n      <td>1.0</td>\n      <td>-4</td>\n      <td>1.0</td>\n      <td>-4</td>\n      <td>1.0</td>\n      <td>10/26/2005</td>\n      <td>-4</td>\n      <td>1.0</td>\n      <td>CD-R</td>\n      <td>-4</td>\n      <td>0.0</td>\n      <td>-4</td>\n      <td>NaN</td>\n      <td>NaN</td>\n      <td>NaN</td>\n      <td>NaN</td>\n      <td>NaN</td>\n      <td>NaN</td>\n      <td>NaN</td>\n      <td>2005-10-26 00:00:00.0</td>\n    </tr>\n    <tr>\n      <th>1</th>\n      <td>ADNI1</td>\n      <td>3T</td>\n      <td>4</td>\n      <td>31</td>\n      <td>11</td>\n      <td>bl</td>\n      <td>bl</td>\n      <td>2005-10-28</td>\n      <td>NaN</td>\n      <td>1.0</td>\n      <td>1</td>\n      <td>-4.0</td>\n      <td>-4</td>\n      <td>2005-10-28</td>\n      <td>NaN</td>\n      <td>NaN</td>\n      <td>NaN</td>\n      <td>1.0</td>\n      <td>-4</td>\n      <td>1.0</td>\n      <td>-4</td>\n      <td>1.0</td>\n      <td>-4</td>\n      <td>1.0</td>\n      <td>-4</td>\n      <td>1.0</td>\n      <td>-4</td>\n      <td>1.0</td>\n      <td>-4</td>\n      <td>1.0</td>\n      <td>-4</td>\n      <td>0.0</td>\n      <td>10/30/2005</td>\n      <td>3T control room was occupied until late Friday...</td>\n      <td>1.0</td>\n      <td>CD-R</td>\n      <td>archived on 10/28/2005</td>\n      <td>1.0</td>\n      <td>6</td>\n      <td>NaN</td>\n      <td>NaN</td>\n      <td>NaN</td>\n      <td>NaN</td>\n      <td>NaN</td>\n      <td>NaN</td>\n      <td>NaN</td>\n      <td>2005-10-28 00:00:00.0</td>\n    </tr>\n    <tr>\n      <th>2</th>\n      <td>ADNI1</td>\n      <td>3T</td>\n      <td>6</td>\n      <td>15</td>\n      <td>4</td>\n      <td>bl</td>\n      <td>bl</td>\n      <td>2005-11-02</td>\n      <td>NaN</td>\n      <td>1.0</td>\n      <td>1</td>\n      <td>-4.0</td>\n      <td>-4</td>\n      <td>2005-10-31</td>\n      <td>NaN</td>\n      <td>NaN</td>\n      <td>NaN</td>\n      <td>1.0</td>\n      <td>-4</td>\n      <td>1.0</td>\n      <td>-4</td>\n      <td>1.0</td>\n      <td>-4</td>\n      <td>0.0</td>\n      <td>-4</td>\n      <td>0.0</td>\n      <td>-4</td>\n      <td>1.0</td>\n      <td>-4</td>\n      <td>1.0</td>\n      <td>-4</td>\n      <td>1.0</td>\n      <td>11/1/2005</td>\n      <td>-4</td>\n      <td>1.0</td>\n      <td>disk</td>\n      <td>-4</td>\n      <td>1.0</td>\n      <td>6</td>\n      <td>NaN</td>\n      <td>NaN</td>\n      <td>NaN</td>\n      <td>NaN</td>\n      <td>NaN</td>\n      <td>NaN</td>\n      <td>NaN</td>\n      <td>2005-11-02 00:00:00.0</td>\n    </tr>\n    <tr>\n      <th>3</th>\n      <td>ADNI1</td>\n      <td>3T</td>\n      <td>8</td>\n      <td>29</td>\n      <td>32</td>\n      <td>bl</td>\n      <td>bl</td>\n      <td>2005-11-10</td>\n      <td>NaN</td>\n      <td>1.0</td>\n      <td>1</td>\n      <td>-4.0</td>\n      <td>-4</td>\n      <td>2005-11-08</td>\n      <td>NaN</td>\n      <td>NaN</td>\n      <td>NaN</td>\n      <td>1.0</td>\n      <td>-4</td>\n      <td>1.0</td>\n      <td>-4</td>\n      <td>1.0</td>\n      <td>-4</td>\n      <td>1.0</td>\n      <td>-4</td>\n      <td>1.0</td>\n      <td>-4</td>\n      <td>1.0</td>\n      <td>-4</td>\n      <td>1.0</td>\n      <td>-4</td>\n      <td>0.0</td>\n      <td>11/10/2005</td>\n      <td>CD burner was down</td>\n      <td>1.0</td>\n      <td>Research PACS</td>\n      <td>-4</td>\n      <td>1.0</td>\n      <td>6</td>\n      <td>NaN</td>\n      <td>NaN</td>\n      <td>NaN</td>\n      <td>NaN</td>\n      <td>NaN</td>\n      <td>NaN</td>\n      <td>NaN</td>\n      <td>2005-11-10 00:00:00.0</td>\n    </tr>\n    <tr>\n      <th>4</th>\n      <td>ADNI1</td>\n      <td>3T</td>\n      <td>10</td>\n      <td>58</td>\n      <td>11</td>\n      <td>bl</td>\n      <td>bl</td>\n      <td>2005-12-12</td>\n      <td>NaN</td>\n      <td>1.0</td>\n      <td>1</td>\n      <td>-4.0</td>\n      <td>-4</td>\n      <td>2005-12-12</td>\n      <td>NaN</td>\n      <td>NaN</td>\n      <td>NaN</td>\n      <td>1.0</td>\n      <td>-4</td>\n      <td>1.0</td>\n      <td>-4</td>\n      <td>1.0</td>\n      <td>-4</td>\n      <td>1.0</td>\n      <td>-4</td>\n      <td>1.0</td>\n      <td>-4</td>\n      <td>1.0</td>\n      <td>-4</td>\n      <td>1.0</td>\n      <td>-4</td>\n      <td>1.0</td>\n      <td>12/12/2005</td>\n      <td>-4</td>\n      <td>1.0</td>\n      <td>CD-R</td>\n      <td>-4</td>\n      <td>0.0</td>\n      <td>-4</td>\n      <td>NaN</td>\n      <td>NaN</td>\n      <td>NaN</td>\n      <td>NaN</td>\n      <td>NaN</td>\n      <td>NaN</td>\n      <td>NaN</td>\n      <td>2005-12-12 00:00:00.0</td>\n    </tr>\n    <tr>\n      <th>...</th>\n      <td>...</td>\n      <td>...</td>\n      <td>...</td>\n      <td>...</td>\n      <td>...</td>\n      <td>...</td>\n      <td>...</td>\n      <td>...</td>\n      <td>...</td>\n      <td>...</td>\n      <td>...</td>\n      <td>...</td>\n      <td>...</td>\n      <td>...</td>\n      <td>...</td>\n      <td>...</td>\n      <td>...</td>\n      <td>...</td>\n      <td>...</td>\n      <td>...</td>\n      <td>...</td>\n      <td>...</td>\n      <td>...</td>\n      <td>...</td>\n      <td>...</td>\n      <td>...</td>\n      <td>...</td>\n      <td>...</td>\n      <td>...</td>\n      <td>...</td>\n      <td>...</td>\n      <td>...</td>\n      <td>...</td>\n      <td>...</td>\n      <td>...</td>\n      <td>...</td>\n      <td>...</td>\n      <td>...</td>\n      <td>...</td>\n      <td>...</td>\n      <td>...</td>\n      <td>...</td>\n      <td>...</td>\n      <td>...</td>\n      <td>...</td>\n      <td>...</td>\n      <td>...</td>\n    </tr>\n    <tr>\n      <th>7195</th>\n      <td>ADNI3</td>\n      <td>3T</td>\n      <td>126171</td>\n      <td>2392</td>\n      <td>43</td>\n      <td>y3</td>\n      <td>m108</td>\n      <td>2021-01-14</td>\n      <td>2021-01-14</td>\n      <td>NaN</td>\n      <td>1</td>\n      <td>NaN</td>\n      <td>NaN</td>\n      <td>2020-07-23</td>\n      <td>0.0</td>\n      <td>0.0</td>\n      <td>1.0</td>\n      <td>0.0</td>\n      <td>NaN</td>\n      <td>0.0</td>\n      <td>NaN</td>\n      <td>0.0</td>\n      <td>NaN</td>\n      <td>NaN</td>\n      <td>NaN</td>\n      <td>NaN</td>\n      <td>NaN</td>\n      <td>NaN</td>\n      <td>NaN</td>\n      <td>NaN</td>\n      <td>NaN</td>\n      <td>NaN</td>\n      <td>NaN</td>\n      <td>NaN</td>\n      <td>NaN</td>\n      <td>NaN</td>\n      <td>NaN</td>\n      <td>0.0</td>\n      <td>2021-01-14</td>\n      <td>May have uploaded 8/3/2020 but re-uploaded today</td>\n      <td>1</td>\n      <td>CD</td>\n      <td>NaN</td>\n      <td>0.0</td>\n      <td>NaN</td>\n      <td>2.0</td>\n      <td>2021-01-15 04:16:20.0</td>\n    </tr>\n    <tr>\n      <th>7196</th>\n      <td>ADNI3</td>\n      <td>3T</td>\n      <td>126226</td>\n      <td>6063</td>\n      <td>43</td>\n      <td>y2</td>\n      <td>m24</td>\n      <td>2021-01-15</td>\n      <td>2021-01-15</td>\n      <td>NaN</td>\n      <td>1</td>\n      <td>NaN</td>\n      <td>NaN</td>\n      <td>2020-02-25</td>\n      <td>0.0</td>\n      <td>1.0</td>\n      <td>0.0</td>\n      <td>0.0</td>\n      <td>NaN</td>\n      <td>0.0</td>\n      <td>NaN</td>\n      <td>0.0</td>\n      <td>NaN</td>\n      <td>NaN</td>\n      <td>NaN</td>\n      <td>NaN</td>\n      <td>NaN</td>\n      <td>NaN</td>\n      <td>NaN</td>\n      <td>NaN</td>\n      <td>NaN</td>\n      <td>NaN</td>\n      <td>NaN</td>\n      <td>NaN</td>\n      <td>NaN</td>\n      <td>NaN</td>\n      <td>NaN</td>\n      <td>0.0</td>\n      <td>2021-01-15</td>\n      <td>Not sure if went throug upload on 3/11/2020. D...</td>\n      <td>1</td>\n      <td>CD</td>\n      <td>NaN</td>\n      <td>1.0</td>\n      <td>6</td>\n      <td>2.0</td>\n      <td>2021-01-16 04:16:32.0</td>\n    </tr>\n    <tr>\n      <th>7197</th>\n      <td>ADNI3</td>\n      <td>3T</td>\n      <td>126327</td>\n      <td>6635</td>\n      <td>14</td>\n      <td>y2</td>\n      <td>m24</td>\n      <td>2021-01-19</td>\n      <td>2021-01-19</td>\n      <td>NaN</td>\n      <td>1</td>\n      <td>NaN</td>\n      <td>NaN</td>\n      <td>2021-01-15</td>\n      <td>0.0</td>\n      <td>1.0</td>\n      <td>1.0</td>\n      <td>0.0</td>\n      <td>NaN</td>\n      <td>0.0</td>\n      <td>NaN</td>\n      <td>0.0</td>\n      <td>NaN</td>\n      <td>NaN</td>\n      <td>NaN</td>\n      <td>NaN</td>\n      <td>NaN</td>\n      <td>NaN</td>\n      <td>NaN</td>\n      <td>NaN</td>\n      <td>NaN</td>\n      <td>NaN</td>\n      <td>NaN</td>\n      <td>NaN</td>\n      <td>NaN</td>\n      <td>NaN</td>\n      <td>NaN</td>\n      <td>0.0</td>\n      <td>2021-01-19</td>\n      <td>NaN</td>\n      <td>1</td>\n      <td>CD</td>\n      <td>NaN</td>\n      <td>0.0</td>\n      <td>NaN</td>\n      <td>2.0</td>\n      <td>2021-01-20 04:16:43.0</td>\n    </tr>\n    <tr>\n      <th>7198</th>\n      <td>ADNI3</td>\n      <td>3T</td>\n      <td>126389</td>\n      <td>6845</td>\n      <td>62</td>\n      <td>y1</td>\n      <td>m12</td>\n      <td>2021-01-20</td>\n      <td>2021-01-20</td>\n      <td>NaN</td>\n      <td>1</td>\n      <td>NaN</td>\n      <td>NaN</td>\n      <td>2021-01-14</td>\n      <td>0.0</td>\n      <td>1.0</td>\n      <td>1.0</td>\n      <td>1.0</td>\n      <td>patient moved on multiple series</td>\n      <td>0.0</td>\n      <td>NaN</td>\n      <td>0.0</td>\n      <td>NaN</td>\n      <td>NaN</td>\n      <td>NaN</td>\n      <td>NaN</td>\n      <td>NaN</td>\n      <td>NaN</td>\n      <td>NaN</td>\n      <td>NaN</td>\n      <td>NaN</td>\n      <td>NaN</td>\n      <td>NaN</td>\n      <td>NaN</td>\n      <td>NaN</td>\n      <td>NaN</td>\n      <td>NaN</td>\n      <td>1.0</td>\n      <td>2021-01-15</td>\n      <td>NaN</td>\n      <td>1</td>\n      <td>VUMC PACs</td>\n      <td>patient moved on multiple series. Due to the t...</td>\n      <td>0.0</td>\n      <td>NaN</td>\n      <td>2.0</td>\n      <td>2021-01-21 04:16:38.0</td>\n    </tr>\n    <tr>\n      <th>7199</th>\n      <td>ADNI3</td>\n      <td>3T</td>\n      <td>126469</td>\n      <td>4170</td>\n      <td>45</td>\n      <td>y3</td>\n      <td>m108</td>\n      <td>2021-01-22</td>\n      <td>2021-01-22</td>\n      <td>NaN</td>\n      <td>1</td>\n      <td>NaN</td>\n      <td>NaN</td>\n      <td>2020-10-07</td>\n      <td>0.0</td>\n      <td>1.0</td>\n      <td>1.0</td>\n      <td>0.0</td>\n      <td>NaN</td>\n      <td>0.0</td>\n      <td>NaN</td>\n      <td>0.0</td>\n      <td>NaN</td>\n      <td>NaN</td>\n      <td>NaN</td>\n      <td>NaN</td>\n      <td>NaN</td>\n      <td>NaN</td>\n      <td>NaN</td>\n      <td>NaN</td>\n      <td>NaN</td>\n      <td>NaN</td>\n      <td>NaN</td>\n      <td>NaN</td>\n      <td>NaN</td>\n      <td>NaN</td>\n      <td>NaN</td>\n      <td>1.0</td>\n      <td>2020-10-xx</td>\n      <td>NaN</td>\n      <td>1</td>\n      <td>PACS and DVD</td>\n      <td>NaN</td>\n      <td>0.0</td>\n      <td>NaN</td>\n      <td>2.0</td>\n      <td>2021-01-23 04:16:18.0</td>\n    </tr>\n  </tbody>\n</table>\n<p>7200 rows × 47 columns</p>\n</div>"
     },
     "metadata": {},
     "execution_count": 20
    }
   ],
   "source": [
    "df_mri_3T"
   ]
  },
  {
   "cell_type": "code",
   "execution_count": 48,
   "metadata": {},
   "outputs": [
    {
     "output_type": "execute_result",
     "data": {
      "text/plain": [
       "Empty DataFrame\n",
       "Columns: [PHASE, FIELD_STRENGTH, ID, RID, SITEID, VISCODE, VISCODE2, USERDATE, USERDATE2, RECNO, MMCONDCT, MMREASON, MMOTHSPE, EXAMDATE, SEDATIVE, EYEASK, EYEKEEP, MMSCOUT, MMSCTCOM, MMSMPRAGE, MMSMPCOM, MMRMPRAGE, MMRMPCOM, MMB1HEAD, MMB1HDCOM, MMB1BODY, MMB1BDCOM, MMECHO, MMECCOM, MMPHAN, MMPHCOM, MMTRNSFR, MMTRNDATE, MMTRNCOM, MMARCHIVE, MMARCMED, MMARCCOM, MMLPDONE, MMLPINTER, MALFUNC, MALFUNCDET, MOTION, MOTIONDET, OTRDEV, OTRDEVDET, FLDSTRNGTH, update_stamp]\n",
       "Index: []"
      ],
      "text/html": "<div>\n<style scoped>\n    .dataframe tbody tr th:only-of-type {\n        vertical-align: middle;\n    }\n\n    .dataframe tbody tr th {\n        vertical-align: top;\n    }\n\n    .dataframe thead th {\n        text-align: right;\n    }\n</style>\n<table border=\"1\" class=\"dataframe\">\n  <thead>\n    <tr style=\"text-align: right;\">\n      <th></th>\n      <th>PHASE</th>\n      <th>FIELD_STRENGTH</th>\n      <th>ID</th>\n      <th>RID</th>\n      <th>SITEID</th>\n      <th>VISCODE</th>\n      <th>VISCODE2</th>\n      <th>USERDATE</th>\n      <th>USERDATE2</th>\n      <th>RECNO</th>\n      <th>MMCONDCT</th>\n      <th>MMREASON</th>\n      <th>MMOTHSPE</th>\n      <th>EXAMDATE</th>\n      <th>SEDATIVE</th>\n      <th>EYEASK</th>\n      <th>EYEKEEP</th>\n      <th>MMSCOUT</th>\n      <th>MMSCTCOM</th>\n      <th>MMSMPRAGE</th>\n      <th>MMSMPCOM</th>\n      <th>MMRMPRAGE</th>\n      <th>MMRMPCOM</th>\n      <th>MMB1HEAD</th>\n      <th>MMB1HDCOM</th>\n      <th>MMB1BODY</th>\n      <th>MMB1BDCOM</th>\n      <th>MMECHO</th>\n      <th>MMECCOM</th>\n      <th>MMPHAN</th>\n      <th>MMPHCOM</th>\n      <th>MMTRNSFR</th>\n      <th>MMTRNDATE</th>\n      <th>MMTRNCOM</th>\n      <th>MMARCHIVE</th>\n      <th>MMARCMED</th>\n      <th>MMARCCOM</th>\n      <th>MMLPDONE</th>\n      <th>MMLPINTER</th>\n      <th>MALFUNC</th>\n      <th>MALFUNCDET</th>\n      <th>MOTION</th>\n      <th>MOTIONDET</th>\n      <th>OTRDEV</th>\n      <th>OTRDEVDET</th>\n      <th>FLDSTRNGTH</th>\n      <th>update_stamp</th>\n    </tr>\n  </thead>\n  <tbody>\n  </tbody>\n</table>\n</div>"
     },
     "metadata": {},
     "execution_count": 48
    }
   ],
   "source": [
    "# df_mri_3T.query(\"ID in @mprage_image_ids\")\n",
    "df_mri_3T.query(\"RID == 116\")"
   ]
  }
 ],
 "metadata": {
  "kernelspec": {
   "display_name": "Python 3",
   "language": "python",
   "name": "python3"
  },
  "language_info": {
   "codemirror_mode": {
    "name": "ipython",
    "version": 3
   },
   "file_extension": ".py",
   "mimetype": "text/x-python",
   "name": "python",
   "nbconvert_exporter": "python",
   "pygments_lexer": "ipython3",
   "version": "3.8.5-final"
  }
 },
 "nbformat": 4,
 "nbformat_minor": 4
}