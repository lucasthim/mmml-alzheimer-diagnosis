{
 "metadata": {
  "language_info": {
   "codemirror_mode": {
    "name": "ipython",
    "version": 3
   },
   "file_extension": ".py",
   "mimetype": "text/x-python",
   "name": "python",
   "nbconvert_exporter": "python",
   "pygments_lexer": "ipython3",
   "version": "3.7.9-final"
  },
  "orig_nbformat": 2,
  "kernelspec": {
   "name": "python3",
   "display_name": "Python 3",
   "language": "python"
  }
 },
 "nbformat": 4,
 "nbformat_minor": 2,
 "cells": [
  {
   "cell_type": "code",
   "execution_count": null,
   "metadata": {},
   "outputs": [],
   "source": []
  },
  {
   "cell_type": "code",
   "execution_count": 33,
   "metadata": {},
   "outputs": [],
   "source": [
    "import os\n",
    "import pandas as pd\n",
    "import numpy as np"
   ]
  },
  {
   "cell_type": "code",
   "execution_count": 2,
   "metadata": {},
   "outputs": [
    {
     "output_type": "execute_result",
     "data": {
      "text/plain": [
       "['MRI_Baseline_and_Screenin_2_17_2021.csv',\n",
       " 'MRI_MPRAGE.csv',\n",
       " 'MRI_MPRAGE_AD.csv',\n",
       " 'MRI_MPRAGE_CN_SMC.csv',\n",
       " 'MRI_MPRAGE_MCI_LMCI_EMCI.csv']"
      ]
     },
     "metadata": {},
     "execution_count": 2
    }
   ],
   "source": [
    "os.listdir('data')"
   ]
  },
  {
   "source": [
    "# Analysing description (csv) for MRI Baseline and Screening Visits"
   ],
   "cell_type": "markdown",
   "metadata": {}
  },
  {
   "cell_type": "code",
   "execution_count": 11,
   "metadata": {},
   "outputs": [],
   "source": [
    "df_mri_baseline = pd.read_csv(\"data/MRI_Baseline_and_Screenin_2_17_2021.csv\").drop(['Downloaded','Modality'],axis=1)"
   ]
  },
  {
   "cell_type": "code",
   "execution_count": 12,
   "metadata": {},
   "outputs": [
    {
     "output_type": "execute_result",
     "data": {
      "text/plain": [
       "(11564, 10)"
      ]
     },
     "metadata": {},
     "execution_count": 12
    }
   ],
   "source": [
    "df_mri_baseline.shape"
   ]
  },
  {
   "source": [
    "## Total subjects in MRI_Baseline_and_Screenin_2_17_2021"
   ],
   "cell_type": "markdown",
   "metadata": {}
  },
  {
   "source": [
    "df_mri_baseline['Subject'].unique().shape"
   ],
   "cell_type": "code",
   "metadata": {},
   "execution_count": 13,
   "outputs": [
    {
     "output_type": "execute_result",
     "data": {
      "text/plain": [
       "(1810,)"
      ]
     },
     "metadata": {},
     "execution_count": 13
    }
   ]
  },
  {
   "cell_type": "code",
   "execution_count": 14,
   "metadata": {},
   "outputs": [
    {
     "output_type": "execute_result",
     "data": {
      "text/plain": [
       "0       2017-07-20\n",
       "1       2017-05-17\n",
       "2       2013-05-29\n",
       "3       2013-05-29\n",
       "4       2013-04-09\n",
       "           ...    \n",
       "11559   2006-04-18\n",
       "11560   2006-04-18\n",
       "11561   2006-04-18\n",
       "11562   2011-06-02\n",
       "11563   2006-04-18\n",
       "Name: Acq Date, Length: 11564, dtype: datetime64[ns]"
      ]
     },
     "metadata": {},
     "execution_count": 14
    }
   ],
   "source": [
    "df_mri_baseline['Acq Date'] = pd.to_datetime(df_mri_baseline['Acq Date'])\n",
    "df_mri_baseline['Acq Date']\n",
    "# format='%Y%m%d'"
   ]
  },
  {
   "cell_type": "code",
   "execution_count": 73,
   "metadata": {},
   "outputs": [
    {
     "output_type": "execute_result",
     "data": {
      "text/plain": [
       "      Image Data ID     Subject Group Sex  Age  Visit  \\\n",
       "11554       I118671  002_S_0295    CN   M   85      1   \n",
       "11552       I387726  002_S_0295    CN   M   85      1   \n",
       "11556        I45106  002_S_0295    CN   M   85      1   \n",
       "11563        I45107  002_S_0295    CN   M   85      1   \n",
       "11557        I45108  002_S_0295    CN   M   85      1   \n",
       "...             ...         ...   ...  ..  ...    ...   \n",
       "38           I63899  941_S_1363   MCI   F   70      1   \n",
       "34           I63900  941_S_1363   MCI   F   70      1   \n",
       "39           I63901  941_S_1363   MCI   F   70      1   \n",
       "35           I63902  941_S_1363   MCI   F   70      1   \n",
       "40           I63903  941_S_1363   MCI   F   70      1   \n",
       "\n",
       "                                      Description       Type   Acq Date Format  \n",
       "11554  MPR; GradWarp; B1 Correction; N3; Scaled_2  Processed 2006-04-18  NiFTI  \n",
       "11552           HHP 6 DOF AC-PC registered MPRAGE  Processed 2006-04-18  NiFTI  \n",
       "11556          MPR; GradWarp; B1 Correction; Mask  Processed 2006-04-18  NiFTI  \n",
       "11563            MPR; GradWarp; B1 Correction; N3  Processed 2006-04-18  NiFTI  \n",
       "11557    MPR; GradWarp; B1 Correction; N3; Scaled  Processed 2006-04-18  NiFTI  \n",
       "...                                           ...        ...        ...    ...  \n",
       "38                                  MPR; GradWarp  Processed 2007-03-12  NiFTI  \n",
       "34           MPR-R; GradWarp; B1 Correction; Mask  Processed 2007-03-12  NiFTI  \n",
       "39             MPR-R; GradWarp; B1 Correction; N3  Processed 2007-03-12  NiFTI  \n",
       "35                 MPR-R; GradWarp; B1 Correction  Processed 2007-03-12  NiFTI  \n",
       "40                                MPR-R; GradWarp  Processed 2007-03-12  NiFTI  \n",
       "\n",
       "[8867 rows x 10 columns]"
      ],
      "text/html": "<div>\n<style scoped>\n    .dataframe tbody tr th:only-of-type {\n        vertical-align: middle;\n    }\n\n    .dataframe tbody tr th {\n        vertical-align: top;\n    }\n\n    .dataframe thead th {\n        text-align: right;\n    }\n</style>\n<table border=\"1\" class=\"dataframe\">\n  <thead>\n    <tr style=\"text-align: right;\">\n      <th></th>\n      <th>Image Data ID</th>\n      <th>Subject</th>\n      <th>Group</th>\n      <th>Sex</th>\n      <th>Age</th>\n      <th>Visit</th>\n      <th>Description</th>\n      <th>Type</th>\n      <th>Acq Date</th>\n      <th>Format</th>\n    </tr>\n  </thead>\n  <tbody>\n    <tr>\n      <th>11554</th>\n      <td>I118671</td>\n      <td>002_S_0295</td>\n      <td>CN</td>\n      <td>M</td>\n      <td>85</td>\n      <td>1</td>\n      <td>MPR; GradWarp; B1 Correction; N3; Scaled_2</td>\n      <td>Processed</td>\n      <td>2006-04-18</td>\n      <td>NiFTI</td>\n    </tr>\n    <tr>\n      <th>11552</th>\n      <td>I387726</td>\n      <td>002_S_0295</td>\n      <td>CN</td>\n      <td>M</td>\n      <td>85</td>\n      <td>1</td>\n      <td>HHP 6 DOF AC-PC registered MPRAGE</td>\n      <td>Processed</td>\n      <td>2006-04-18</td>\n      <td>NiFTI</td>\n    </tr>\n    <tr>\n      <th>11556</th>\n      <td>I45106</td>\n      <td>002_S_0295</td>\n      <td>CN</td>\n      <td>M</td>\n      <td>85</td>\n      <td>1</td>\n      <td>MPR; GradWarp; B1 Correction; Mask</td>\n      <td>Processed</td>\n      <td>2006-04-18</td>\n      <td>NiFTI</td>\n    </tr>\n    <tr>\n      <th>11563</th>\n      <td>I45107</td>\n      <td>002_S_0295</td>\n      <td>CN</td>\n      <td>M</td>\n      <td>85</td>\n      <td>1</td>\n      <td>MPR; GradWarp; B1 Correction; N3</td>\n      <td>Processed</td>\n      <td>2006-04-18</td>\n      <td>NiFTI</td>\n    </tr>\n    <tr>\n      <th>11557</th>\n      <td>I45108</td>\n      <td>002_S_0295</td>\n      <td>CN</td>\n      <td>M</td>\n      <td>85</td>\n      <td>1</td>\n      <td>MPR; GradWarp; B1 Correction; N3; Scaled</td>\n      <td>Processed</td>\n      <td>2006-04-18</td>\n      <td>NiFTI</td>\n    </tr>\n    <tr>\n      <th>...</th>\n      <td>...</td>\n      <td>...</td>\n      <td>...</td>\n      <td>...</td>\n      <td>...</td>\n      <td>...</td>\n      <td>...</td>\n      <td>...</td>\n      <td>...</td>\n      <td>...</td>\n    </tr>\n    <tr>\n      <th>38</th>\n      <td>I63899</td>\n      <td>941_S_1363</td>\n      <td>MCI</td>\n      <td>F</td>\n      <td>70</td>\n      <td>1</td>\n      <td>MPR; GradWarp</td>\n      <td>Processed</td>\n      <td>2007-03-12</td>\n      <td>NiFTI</td>\n    </tr>\n    <tr>\n      <th>34</th>\n      <td>I63900</td>\n      <td>941_S_1363</td>\n      <td>MCI</td>\n      <td>F</td>\n      <td>70</td>\n      <td>1</td>\n      <td>MPR-R; GradWarp; B1 Correction; Mask</td>\n      <td>Processed</td>\n      <td>2007-03-12</td>\n      <td>NiFTI</td>\n    </tr>\n    <tr>\n      <th>39</th>\n      <td>I63901</td>\n      <td>941_S_1363</td>\n      <td>MCI</td>\n      <td>F</td>\n      <td>70</td>\n      <td>1</td>\n      <td>MPR-R; GradWarp; B1 Correction; N3</td>\n      <td>Processed</td>\n      <td>2007-03-12</td>\n      <td>NiFTI</td>\n    </tr>\n    <tr>\n      <th>35</th>\n      <td>I63902</td>\n      <td>941_S_1363</td>\n      <td>MCI</td>\n      <td>F</td>\n      <td>70</td>\n      <td>1</td>\n      <td>MPR-R; GradWarp; B1 Correction</td>\n      <td>Processed</td>\n      <td>2007-03-12</td>\n      <td>NiFTI</td>\n    </tr>\n    <tr>\n      <th>40</th>\n      <td>I63903</td>\n      <td>941_S_1363</td>\n      <td>MCI</td>\n      <td>F</td>\n      <td>70</td>\n      <td>1</td>\n      <td>MPR-R; GradWarp</td>\n      <td>Processed</td>\n      <td>2007-03-12</td>\n      <td>NiFTI</td>\n    </tr>\n  </tbody>\n</table>\n<p>8867 rows × 10 columns</p>\n</div>"
     },
     "metadata": {},
     "execution_count": 73
    }
   ],
   "source": [
    "df_mri_baseline.query(\"Description.str.contains('MPR')\").sort_values(['Subject','Acq Date','Image Data ID'])"
   ]
  },
  {
   "source": [
    "df_mri_baseline.query(\"Description.str.contains('MT1') or Description.str.contains('MPR')\",engine='python')#['Subject'].unique().shape"
   ],
   "cell_type": "code",
   "metadata": {},
   "execution_count": 89,
   "outputs": [
    {
     "output_type": "execute_result",
     "data": {
      "text/plain": [
       "      Image Data ID     Subject Group Sex  Age  Visit  \\\n",
       "0           I882756  941_S_6052   MCI   F   88      1   \n",
       "1           I882726  941_S_6017   MCI   M   77      1   \n",
       "2           I375628  941_S_5193   SMC   F   73     22   \n",
       "3           I375627  941_S_5193   SMC   F   73     22   \n",
       "4           I368981  941_S_5124   SMC   F   77     22   \n",
       "...             ...         ...   ...  ..  ...    ...   \n",
       "11558        I45110  002_S_0295    CN   M   85      1   \n",
       "11560        I45112  002_S_0295    CN   M   85      1   \n",
       "11561        I45114  002_S_0295    CN   M   85      1   \n",
       "11562       I241350  002_S_0295    CN   M   90     26   \n",
       "11563        I45107  002_S_0295    CN   M   85      1   \n",
       "\n",
       "                              Description       Type   Acq Date Format  \n",
       "0                                MT1; N3m  Processed 2017-07-20  NiFTI  \n",
       "1                                MT1; N3m  Processed 2017-05-17  NiFTI  \n",
       "2                      MT1; GradWarp; N3m  Processed 2013-05-29  NiFTI  \n",
       "3                      MT1; GradWarp; N3m  Processed 2013-05-29  NiFTI  \n",
       "4                      MT1; GradWarp; N3m  Processed 2013-04-09  NiFTI  \n",
       "...                                   ...        ...        ...    ...  \n",
       "11558                       MPR; GradWarp  Processed 2006-04-18  NiFTI  \n",
       "11560  MPR-R; GradWarp; B1 Correction; N3  Processed 2006-04-18  NiFTI  \n",
       "11561                     MPR-R; GradWarp  Processed 2006-04-18  NiFTI  \n",
       "11562                            MT1; N3m  Processed 2011-06-02  NiFTI  \n",
       "11563    MPR; GradWarp; B1 Correction; N3  Processed 2006-04-18  NiFTI  \n",
       "\n",
       "[11269 rows x 10 columns]"
      ],
      "text/html": "<div>\n<style scoped>\n    .dataframe tbody tr th:only-of-type {\n        vertical-align: middle;\n    }\n\n    .dataframe tbody tr th {\n        vertical-align: top;\n    }\n\n    .dataframe thead th {\n        text-align: right;\n    }\n</style>\n<table border=\"1\" class=\"dataframe\">\n  <thead>\n    <tr style=\"text-align: right;\">\n      <th></th>\n      <th>Image Data ID</th>\n      <th>Subject</th>\n      <th>Group</th>\n      <th>Sex</th>\n      <th>Age</th>\n      <th>Visit</th>\n      <th>Description</th>\n      <th>Type</th>\n      <th>Acq Date</th>\n      <th>Format</th>\n    </tr>\n  </thead>\n  <tbody>\n    <tr>\n      <th>0</th>\n      <td>I882756</td>\n      <td>941_S_6052</td>\n      <td>MCI</td>\n      <td>F</td>\n      <td>88</td>\n      <td>1</td>\n      <td>MT1; N3m</td>\n      <td>Processed</td>\n      <td>2017-07-20</td>\n      <td>NiFTI</td>\n    </tr>\n    <tr>\n      <th>1</th>\n      <td>I882726</td>\n      <td>941_S_6017</td>\n      <td>MCI</td>\n      <td>M</td>\n      <td>77</td>\n      <td>1</td>\n      <td>MT1; N3m</td>\n      <td>Processed</td>\n      <td>2017-05-17</td>\n      <td>NiFTI</td>\n    </tr>\n    <tr>\n      <th>2</th>\n      <td>I375628</td>\n      <td>941_S_5193</td>\n      <td>SMC</td>\n      <td>F</td>\n      <td>73</td>\n      <td>22</td>\n      <td>MT1; GradWarp; N3m</td>\n      <td>Processed</td>\n      <td>2013-05-29</td>\n      <td>NiFTI</td>\n    </tr>\n    <tr>\n      <th>3</th>\n      <td>I375627</td>\n      <td>941_S_5193</td>\n      <td>SMC</td>\n      <td>F</td>\n      <td>73</td>\n      <td>22</td>\n      <td>MT1; GradWarp; N3m</td>\n      <td>Processed</td>\n      <td>2013-05-29</td>\n      <td>NiFTI</td>\n    </tr>\n    <tr>\n      <th>4</th>\n      <td>I368981</td>\n      <td>941_S_5124</td>\n      <td>SMC</td>\n      <td>F</td>\n      <td>77</td>\n      <td>22</td>\n      <td>MT1; GradWarp; N3m</td>\n      <td>Processed</td>\n      <td>2013-04-09</td>\n      <td>NiFTI</td>\n    </tr>\n    <tr>\n      <th>...</th>\n      <td>...</td>\n      <td>...</td>\n      <td>...</td>\n      <td>...</td>\n      <td>...</td>\n      <td>...</td>\n      <td>...</td>\n      <td>...</td>\n      <td>...</td>\n      <td>...</td>\n    </tr>\n    <tr>\n      <th>11558</th>\n      <td>I45110</td>\n      <td>002_S_0295</td>\n      <td>CN</td>\n      <td>M</td>\n      <td>85</td>\n      <td>1</td>\n      <td>MPR; GradWarp</td>\n      <td>Processed</td>\n      <td>2006-04-18</td>\n      <td>NiFTI</td>\n    </tr>\n    <tr>\n      <th>11560</th>\n      <td>I45112</td>\n      <td>002_S_0295</td>\n      <td>CN</td>\n      <td>M</td>\n      <td>85</td>\n      <td>1</td>\n      <td>MPR-R; GradWarp; B1 Correction; N3</td>\n      <td>Processed</td>\n      <td>2006-04-18</td>\n      <td>NiFTI</td>\n    </tr>\n    <tr>\n      <th>11561</th>\n      <td>I45114</td>\n      <td>002_S_0295</td>\n      <td>CN</td>\n      <td>M</td>\n      <td>85</td>\n      <td>1</td>\n      <td>MPR-R; GradWarp</td>\n      <td>Processed</td>\n      <td>2006-04-18</td>\n      <td>NiFTI</td>\n    </tr>\n    <tr>\n      <th>11562</th>\n      <td>I241350</td>\n      <td>002_S_0295</td>\n      <td>CN</td>\n      <td>M</td>\n      <td>90</td>\n      <td>26</td>\n      <td>MT1; N3m</td>\n      <td>Processed</td>\n      <td>2011-06-02</td>\n      <td>NiFTI</td>\n    </tr>\n    <tr>\n      <th>11563</th>\n      <td>I45107</td>\n      <td>002_S_0295</td>\n      <td>CN</td>\n      <td>M</td>\n      <td>85</td>\n      <td>1</td>\n      <td>MPR; GradWarp; B1 Correction; N3</td>\n      <td>Processed</td>\n      <td>2006-04-18</td>\n      <td>NiFTI</td>\n    </tr>\n  </tbody>\n</table>\n<p>11269 rows × 10 columns</p>\n</div>"
     },
     "metadata": {},
     "execution_count": 89
    }
   ]
  },
  {
   "source": [
    "# Analysing description (csv) for MRI MPRAGE images"
   ],
   "cell_type": "markdown",
   "metadata": {}
  },
  {
   "cell_type": "code",
   "execution_count": 3,
   "metadata": {},
   "outputs": [
    {
     "output_type": "execute_result",
     "data": {
      "text/plain": [
       "['MRI_Baseline_and_Screenin_2_17_2021.csv',\n",
       " 'MRI_MPRAGE.csv',\n",
       " 'MRI_MPRAGE_AD.csv',\n",
       " 'MRI_MPRAGE_CN_SMC.csv',\n",
       " 'MRI_MPRAGE_MCI_LMCI_EMCI.csv']"
      ]
     },
     "metadata": {},
     "execution_count": 3
    }
   ],
   "source": [
    "os.listdir('data')"
   ]
  },
  {
   "cell_type": "code",
   "execution_count": 4,
   "metadata": {},
   "outputs": [],
   "source": [
    "# df_mprage_cn = pd.read_csv(\"data/MRI_MPRAGE_CN_SMC.csv\").drop(['Downloaded','Modality','Format'],axis=1)\n",
    "# df_mprage_mci = pd.read_csv(\"data/MRI_MPRAGE_MCI_LMCI_EMCI.csv\").drop(['Downloaded','Modality','Format'],axis=1)\n",
    "# df_mprage_ad = pd.read_csv(\"data/MRI_MPRAGE_AD.csv\").drop(['Downloaded','Modality','Format'],axis=1)\n",
    "# df_mprage = pd.concat([df_mprage_ad,df_mprage_cn,df_mprage_mci])\n",
    "# df_mprage['Acq Date'] = pd.to_datetime(df_mprage['Acq Date'])\n",
    "# df_mprage.to_csv('data/MRI_MPRAGE.csv',index=False)\n",
    "\n",
    "df_mprage = pd.read_csv(\"data/MRI_MPRAGE.csv\")"
   ]
  },
  {
   "cell_type": "code",
   "execution_count": 5,
   "metadata": {},
   "outputs": [
    {
     "output_type": "execute_result",
     "data": {
      "text/plain": [
       "      Image Data ID     Subject Group Sex  Age  Visit  \\\n",
       "0           I254770  153_S_4172    AD   M   76     22   \n",
       "1           I398400  153_S_4172    AD   M   78     30   \n",
       "2           I297604  153_S_4172    AD   M   77     25   \n",
       "3           I335938  153_S_4172    AD   M   77     28   \n",
       "4           I272738  153_S_4172    AD   M   76     24   \n",
       "...             ...         ...   ...  ..  ...    ...   \n",
       "12844       I474751  002_S_0729   MCI   F   68      8   \n",
       "12845       I124007  002_S_0729   MCI   F   67      6   \n",
       "12846        I97014  002_S_0729   MCI   F   67      5   \n",
       "12847        I97016  002_S_0729   MCI   F   67      5   \n",
       "12848       I334105  002_S_0729   MCI   F   71     28   \n",
       "\n",
       "                       Description       Type    Acq Date  \n",
       "0               MT1; GradWarp; N3m  Processed  2011-08-17  \n",
       "1               MT1; GradWarp; N3m  Processed  2013-09-25  \n",
       "2               MT1; GradWarp; N3m  Processed  2012-03-28  \n",
       "3               MT1; GradWarp; N3m  Processed  2012-08-16  \n",
       "4               MT1; GradWarp; N3m  Processed  2011-10-31  \n",
       "...                            ...        ...         ...  \n",
       "12844  HarP 135 final release 2015  Processed  2009-08-13  \n",
       "12845                    MPR; ; N3  Processed  2008-09-29  \n",
       "12846                    MPR; ; N3  Processed  2008-03-05  \n",
       "12847                    MPR; ; N3  Processed  2008-03-05  \n",
       "12848                     MT1; N3m  Processed  2012-08-07  \n",
       "\n",
       "[12849 rows x 9 columns]"
      ],
      "text/html": "<div>\n<style scoped>\n    .dataframe tbody tr th:only-of-type {\n        vertical-align: middle;\n    }\n\n    .dataframe tbody tr th {\n        vertical-align: top;\n    }\n\n    .dataframe thead th {\n        text-align: right;\n    }\n</style>\n<table border=\"1\" class=\"dataframe\">\n  <thead>\n    <tr style=\"text-align: right;\">\n      <th></th>\n      <th>Image Data ID</th>\n      <th>Subject</th>\n      <th>Group</th>\n      <th>Sex</th>\n      <th>Age</th>\n      <th>Visit</th>\n      <th>Description</th>\n      <th>Type</th>\n      <th>Acq Date</th>\n    </tr>\n  </thead>\n  <tbody>\n    <tr>\n      <th>0</th>\n      <td>I254770</td>\n      <td>153_S_4172</td>\n      <td>AD</td>\n      <td>M</td>\n      <td>76</td>\n      <td>22</td>\n      <td>MT1; GradWarp; N3m</td>\n      <td>Processed</td>\n      <td>2011-08-17</td>\n    </tr>\n    <tr>\n      <th>1</th>\n      <td>I398400</td>\n      <td>153_S_4172</td>\n      <td>AD</td>\n      <td>M</td>\n      <td>78</td>\n      <td>30</td>\n      <td>MT1; GradWarp; N3m</td>\n      <td>Processed</td>\n      <td>2013-09-25</td>\n    </tr>\n    <tr>\n      <th>2</th>\n      <td>I297604</td>\n      <td>153_S_4172</td>\n      <td>AD</td>\n      <td>M</td>\n      <td>77</td>\n      <td>25</td>\n      <td>MT1; GradWarp; N3m</td>\n      <td>Processed</td>\n      <td>2012-03-28</td>\n    </tr>\n    <tr>\n      <th>3</th>\n      <td>I335938</td>\n      <td>153_S_4172</td>\n      <td>AD</td>\n      <td>M</td>\n      <td>77</td>\n      <td>28</td>\n      <td>MT1; GradWarp; N3m</td>\n      <td>Processed</td>\n      <td>2012-08-16</td>\n    </tr>\n    <tr>\n      <th>4</th>\n      <td>I272738</td>\n      <td>153_S_4172</td>\n      <td>AD</td>\n      <td>M</td>\n      <td>76</td>\n      <td>24</td>\n      <td>MT1; GradWarp; N3m</td>\n      <td>Processed</td>\n      <td>2011-10-31</td>\n    </tr>\n    <tr>\n      <th>...</th>\n      <td>...</td>\n      <td>...</td>\n      <td>...</td>\n      <td>...</td>\n      <td>...</td>\n      <td>...</td>\n      <td>...</td>\n      <td>...</td>\n      <td>...</td>\n    </tr>\n    <tr>\n      <th>12844</th>\n      <td>I474751</td>\n      <td>002_S_0729</td>\n      <td>MCI</td>\n      <td>F</td>\n      <td>68</td>\n      <td>8</td>\n      <td>HarP 135 final release 2015</td>\n      <td>Processed</td>\n      <td>2009-08-13</td>\n    </tr>\n    <tr>\n      <th>12845</th>\n      <td>I124007</td>\n      <td>002_S_0729</td>\n      <td>MCI</td>\n      <td>F</td>\n      <td>67</td>\n      <td>6</td>\n      <td>MPR; ; N3</td>\n      <td>Processed</td>\n      <td>2008-09-29</td>\n    </tr>\n    <tr>\n      <th>12846</th>\n      <td>I97014</td>\n      <td>002_S_0729</td>\n      <td>MCI</td>\n      <td>F</td>\n      <td>67</td>\n      <td>5</td>\n      <td>MPR; ; N3</td>\n      <td>Processed</td>\n      <td>2008-03-05</td>\n    </tr>\n    <tr>\n      <th>12847</th>\n      <td>I97016</td>\n      <td>002_S_0729</td>\n      <td>MCI</td>\n      <td>F</td>\n      <td>67</td>\n      <td>5</td>\n      <td>MPR; ; N3</td>\n      <td>Processed</td>\n      <td>2008-03-05</td>\n    </tr>\n    <tr>\n      <th>12848</th>\n      <td>I334105</td>\n      <td>002_S_0729</td>\n      <td>MCI</td>\n      <td>F</td>\n      <td>71</td>\n      <td>28</td>\n      <td>MT1; N3m</td>\n      <td>Processed</td>\n      <td>2012-08-07</td>\n    </tr>\n  </tbody>\n</table>\n<p>12849 rows × 9 columns</p>\n</div>"
     },
     "metadata": {},
     "execution_count": 5
    }
   ],
   "source": [
    "df_mprage"
   ]
  },
  {
   "cell_type": "code",
   "execution_count": 6,
   "metadata": {},
   "outputs": [
    {
     "output_type": "execute_result",
     "data": {
      "text/plain": [
       "      Image Data ID     Subject Group Sex  Age  Visit  \\\n",
       "5912        I241350  002_S_0295    CN   M   90     26   \n",
       "5913        I308078  002_S_0295    CN   M   91     28   \n",
       "5902        I128346  002_S_0413    CN   F   77      3   \n",
       "5900         I40660  002_S_0413    CN   F   77      3   \n",
       "5907         I40661  002_S_0413    CN   F   77      3   \n",
       "5901         I40670  002_S_0413    CN   F   77      3   \n",
       "5908         I40671  002_S_0413    CN   F   77      3   \n",
       "5894         I64549  002_S_0413    CN   F   77      4   \n",
       "5904         I64550  002_S_0413    CN   F   77      4   \n",
       "5897         I64551  002_S_0413    CN   F   77      4   \n",
       "5895        I120744  002_S_0413    CN   F   79      6   \n",
       "5905        I120745  002_S_0413    CN   F   79      6   \n",
       "5899        I120746  002_S_0413    CN   F   79      6   \n",
       "5893        I149733  002_S_0413    CN   F   79      8   \n",
       "5903        I149734  002_S_0413    CN   F   79      8   \n",
       "5896        I149735  002_S_0413    CN   F   79      8   \n",
       "5909        I242895  002_S_0413    CN   F   82     26   \n",
       "5910        I312701  002_S_0413    CN   F   82     28   \n",
       "5906        I373133  002_S_0413    CN   F   83     30   \n",
       "5911        I424741  002_S_0413    CN   F   84     32   \n",
       "5898        I649030  002_S_0413    CN   F   85     34   \n",
       "5891         I73322  002_S_0559    CN   M   80      3   \n",
       "5883         I73323  002_S_0559    CN   M   80      3   \n",
       "5892         I73325  002_S_0559    CN   M   80      3   \n",
       "5884         I73326  002_S_0559    CN   M   80      3   \n",
       "5878         I79123  002_S_0559    CN   M   80      3   \n",
       "5880         I82098  002_S_0559    CN   M   81      4   \n",
       "5889         I82099  002_S_0559    CN   M   81      4   \n",
       "5888        I120772  002_S_0559    CN   M   82      6   \n",
       "5881        I120778  002_S_0559    CN   M   82      6   \n",
       "5890        I120779  002_S_0559    CN   M   82      6   \n",
       "5885        I171085  002_S_0559    CN   M   82      8   \n",
       "5879        I171086  002_S_0559    CN   M   82      8   \n",
       "5887        I171087  002_S_0559    CN   M   82      8   \n",
       "5882        I387781  002_S_0559    CN   M   82      8   \n",
       "5886        I474785  002_S_0559    CN   M   82      8   \n",
       "5877        I300264  002_S_0685    CN   F   95     26   \n",
       "5876        I326600  002_S_0685    CN   F   96     28   \n",
       "12827       I118668  002_S_0729   MCI   F   65      2   \n",
       "12839        I40690  002_S_0729   MCI   F   65      2   \n",
       "12828        I40691  002_S_0729   MCI   F   65      2   \n",
       "12841        I40692  002_S_0729   MCI   F   65      2   \n",
       "12830        I40693  002_S_0729   MCI   F   65      2   \n",
       "12843        I40705  002_S_0729   MCI   F   65      2   \n",
       "12826        I78661  002_S_0729   MCI   F   66      4   \n",
       "12840        I78662  002_S_0729   MCI   F   66      4   \n",
       "12829        I78663  002_S_0729   MCI   F   66      4   \n",
       "12832        I97013  002_S_0729   MCI   F   67      5   \n",
       "12846        I97014  002_S_0729   MCI   F   67      5   \n",
       "12835        I97015  002_S_0729   MCI   F   67      5   \n",
       "\n",
       "                             Description       Type    Acq Date  \n",
       "5912                            MT1; N3m  Processed  2011-06-02  \n",
       "5913                            MT1; N3m  Processed  2012-05-10  \n",
       "5902                 MPR; ; N3; Scaled_2  Processed  2006-11-15  \n",
       "5900                         MPR; ; Mask  Processed  2006-11-15  \n",
       "5907                           MPR; ; N3  Processed  2006-11-15  \n",
       "5901                         MPR; ; Mask  Processed  2006-11-15  \n",
       "5908                           MPR; ; N3  Processed  2006-11-15  \n",
       "5894                         MPR; ; Mask  Processed  2007-06-01  \n",
       "5904                           MPR; ; N3  Processed  2007-06-01  \n",
       "5897                   MPR; ; N3; Scaled  Processed  2007-06-01  \n",
       "5895                         MPR; ; Mask  Processed  2008-07-31  \n",
       "5905                           MPR; ; N3  Processed  2008-07-31  \n",
       "5899                   MPR; ; N3; Scaled  Processed  2008-07-31  \n",
       "5893                         MPR; ; Mask  Processed  2009-04-30  \n",
       "5903                           MPR; ; N3  Processed  2009-04-30  \n",
       "5896                   MPR; ; N3; Scaled  Processed  2009-04-30  \n",
       "5909                            MT1; N3m  Processed  2011-06-16  \n",
       "5910                            MT1; N3m  Processed  2012-05-15  \n",
       "5906                            MT1; N3m  Processed  2013-05-10  \n",
       "5911                            MT1; N3m  Processed  2014-05-01  \n",
       "5898                            MT1; N3m  Processed  2015-06-09  \n",
       "5891                         MPR; ; Mask  Processed  2006-12-12  \n",
       "5883                           MPR; ; N3  Processed  2006-12-12  \n",
       "5892                       MPR-R; ; Mask  Processed  2006-12-12  \n",
       "5884                         MPR-R; ; N3  Processed  2006-12-12  \n",
       "5878                   MPR; ; N3; Scaled  Processed  2006-12-12  \n",
       "5880                         MPR; ; Mask  Processed  2007-10-18  \n",
       "5889                           MPR; ; N3  Processed  2007-10-18  \n",
       "5888                         MPR; ; Mask  Processed  2008-08-15  \n",
       "5881                           MPR; ; N3  Processed  2008-08-15  \n",
       "5890                   MPR; ; N3; Scaled  Processed  2008-08-15  \n",
       "5885                         MPR; ; Mask  Processed  2009-06-30  \n",
       "5879                           MPR; ; N3  Processed  2009-06-30  \n",
       "5887                   MPR; ; N3; Scaled  Processed  2009-06-30  \n",
       "5882   HHP 6 DOF AC-PC registered MPRAGE  Processed  2009-06-30  \n",
       "5886         HarP 135 final release 2015  Processed  2009-06-30  \n",
       "5877                            MT1; N3m  Processed  2011-07-08  \n",
       "5876                            MT1; N3m  Processed  2012-07-27  \n",
       "12827                MPR; ; N3; Scaled_2  Processed  2006-08-02  \n",
       "12839                        MPR; ; Mask  Processed  2006-08-02  \n",
       "12828                          MPR; ; N3  Processed  2006-08-02  \n",
       "12841                  MPR; ; N3; Scaled  Processed  2006-08-02  \n",
       "12830                      MPR-R; ; Mask  Processed  2006-08-02  \n",
       "12843                        MPR-R; ; N3  Processed  2006-08-02  \n",
       "12826                        MPR; ; Mask  Processed  2007-09-05  \n",
       "12840                          MPR; ; N3  Processed  2007-09-05  \n",
       "12829                  MPR; ; N3; Scaled  Processed  2007-09-05  \n",
       "12832                        MPR; ; Mask  Processed  2008-03-05  \n",
       "12846                          MPR; ; N3  Processed  2008-03-05  \n",
       "12835                        MPR; ; Mask  Processed  2008-03-05  "
      ],
      "text/html": "<div>\n<style scoped>\n    .dataframe tbody tr th:only-of-type {\n        vertical-align: middle;\n    }\n\n    .dataframe tbody tr th {\n        vertical-align: top;\n    }\n\n    .dataframe thead th {\n        text-align: right;\n    }\n</style>\n<table border=\"1\" class=\"dataframe\">\n  <thead>\n    <tr style=\"text-align: right;\">\n      <th></th>\n      <th>Image Data ID</th>\n      <th>Subject</th>\n      <th>Group</th>\n      <th>Sex</th>\n      <th>Age</th>\n      <th>Visit</th>\n      <th>Description</th>\n      <th>Type</th>\n      <th>Acq Date</th>\n    </tr>\n  </thead>\n  <tbody>\n    <tr>\n      <th>5912</th>\n      <td>I241350</td>\n      <td>002_S_0295</td>\n      <td>CN</td>\n      <td>M</td>\n      <td>90</td>\n      <td>26</td>\n      <td>MT1; N3m</td>\n      <td>Processed</td>\n      <td>2011-06-02</td>\n    </tr>\n    <tr>\n      <th>5913</th>\n      <td>I308078</td>\n      <td>002_S_0295</td>\n      <td>CN</td>\n      <td>M</td>\n      <td>91</td>\n      <td>28</td>\n      <td>MT1; N3m</td>\n      <td>Processed</td>\n      <td>2012-05-10</td>\n    </tr>\n    <tr>\n      <th>5902</th>\n      <td>I128346</td>\n      <td>002_S_0413</td>\n      <td>CN</td>\n      <td>F</td>\n      <td>77</td>\n      <td>3</td>\n      <td>MPR; ; N3; Scaled_2</td>\n      <td>Processed</td>\n      <td>2006-11-15</td>\n    </tr>\n    <tr>\n      <th>5900</th>\n      <td>I40660</td>\n      <td>002_S_0413</td>\n      <td>CN</td>\n      <td>F</td>\n      <td>77</td>\n      <td>3</td>\n      <td>MPR; ; Mask</td>\n      <td>Processed</td>\n      <td>2006-11-15</td>\n    </tr>\n    <tr>\n      <th>5907</th>\n      <td>I40661</td>\n      <td>002_S_0413</td>\n      <td>CN</td>\n      <td>F</td>\n      <td>77</td>\n      <td>3</td>\n      <td>MPR; ; N3</td>\n      <td>Processed</td>\n      <td>2006-11-15</td>\n    </tr>\n    <tr>\n      <th>5901</th>\n      <td>I40670</td>\n      <td>002_S_0413</td>\n      <td>CN</td>\n      <td>F</td>\n      <td>77</td>\n      <td>3</td>\n      <td>MPR; ; Mask</td>\n      <td>Processed</td>\n      <td>2006-11-15</td>\n    </tr>\n    <tr>\n      <th>5908</th>\n      <td>I40671</td>\n      <td>002_S_0413</td>\n      <td>CN</td>\n      <td>F</td>\n      <td>77</td>\n      <td>3</td>\n      <td>MPR; ; N3</td>\n      <td>Processed</td>\n      <td>2006-11-15</td>\n    </tr>\n    <tr>\n      <th>5894</th>\n      <td>I64549</td>\n      <td>002_S_0413</td>\n      <td>CN</td>\n      <td>F</td>\n      <td>77</td>\n      <td>4</td>\n      <td>MPR; ; Mask</td>\n      <td>Processed</td>\n      <td>2007-06-01</td>\n    </tr>\n    <tr>\n      <th>5904</th>\n      <td>I64550</td>\n      <td>002_S_0413</td>\n      <td>CN</td>\n      <td>F</td>\n      <td>77</td>\n      <td>4</td>\n      <td>MPR; ; N3</td>\n      <td>Processed</td>\n      <td>2007-06-01</td>\n    </tr>\n    <tr>\n      <th>5897</th>\n      <td>I64551</td>\n      <td>002_S_0413</td>\n      <td>CN</td>\n      <td>F</td>\n      <td>77</td>\n      <td>4</td>\n      <td>MPR; ; N3; Scaled</td>\n      <td>Processed</td>\n      <td>2007-06-01</td>\n    </tr>\n    <tr>\n      <th>5895</th>\n      <td>I120744</td>\n      <td>002_S_0413</td>\n      <td>CN</td>\n      <td>F</td>\n      <td>79</td>\n      <td>6</td>\n      <td>MPR; ; Mask</td>\n      <td>Processed</td>\n      <td>2008-07-31</td>\n    </tr>\n    <tr>\n      <th>5905</th>\n      <td>I120745</td>\n      <td>002_S_0413</td>\n      <td>CN</td>\n      <td>F</td>\n      <td>79</td>\n      <td>6</td>\n      <td>MPR; ; N3</td>\n      <td>Processed</td>\n      <td>2008-07-31</td>\n    </tr>\n    <tr>\n      <th>5899</th>\n      <td>I120746</td>\n      <td>002_S_0413</td>\n      <td>CN</td>\n      <td>F</td>\n      <td>79</td>\n      <td>6</td>\n      <td>MPR; ; N3; Scaled</td>\n      <td>Processed</td>\n      <td>2008-07-31</td>\n    </tr>\n    <tr>\n      <th>5893</th>\n      <td>I149733</td>\n      <td>002_S_0413</td>\n      <td>CN</td>\n      <td>F</td>\n      <td>79</td>\n      <td>8</td>\n      <td>MPR; ; Mask</td>\n      <td>Processed</td>\n      <td>2009-04-30</td>\n    </tr>\n    <tr>\n      <th>5903</th>\n      <td>I149734</td>\n      <td>002_S_0413</td>\n      <td>CN</td>\n      <td>F</td>\n      <td>79</td>\n      <td>8</td>\n      <td>MPR; ; N3</td>\n      <td>Processed</td>\n      <td>2009-04-30</td>\n    </tr>\n    <tr>\n      <th>5896</th>\n      <td>I149735</td>\n      <td>002_S_0413</td>\n      <td>CN</td>\n      <td>F</td>\n      <td>79</td>\n      <td>8</td>\n      <td>MPR; ; N3; Scaled</td>\n      <td>Processed</td>\n      <td>2009-04-30</td>\n    </tr>\n    <tr>\n      <th>5909</th>\n      <td>I242895</td>\n      <td>002_S_0413</td>\n      <td>CN</td>\n      <td>F</td>\n      <td>82</td>\n      <td>26</td>\n      <td>MT1; N3m</td>\n      <td>Processed</td>\n      <td>2011-06-16</td>\n    </tr>\n    <tr>\n      <th>5910</th>\n      <td>I312701</td>\n      <td>002_S_0413</td>\n      <td>CN</td>\n      <td>F</td>\n      <td>82</td>\n      <td>28</td>\n      <td>MT1; N3m</td>\n      <td>Processed</td>\n      <td>2012-05-15</td>\n    </tr>\n    <tr>\n      <th>5906</th>\n      <td>I373133</td>\n      <td>002_S_0413</td>\n      <td>CN</td>\n      <td>F</td>\n      <td>83</td>\n      <td>30</td>\n      <td>MT1; N3m</td>\n      <td>Processed</td>\n      <td>2013-05-10</td>\n    </tr>\n    <tr>\n      <th>5911</th>\n      <td>I424741</td>\n      <td>002_S_0413</td>\n      <td>CN</td>\n      <td>F</td>\n      <td>84</td>\n      <td>32</td>\n      <td>MT1; N3m</td>\n      <td>Processed</td>\n      <td>2014-05-01</td>\n    </tr>\n    <tr>\n      <th>5898</th>\n      <td>I649030</td>\n      <td>002_S_0413</td>\n      <td>CN</td>\n      <td>F</td>\n      <td>85</td>\n      <td>34</td>\n      <td>MT1; N3m</td>\n      <td>Processed</td>\n      <td>2015-06-09</td>\n    </tr>\n    <tr>\n      <th>5891</th>\n      <td>I73322</td>\n      <td>002_S_0559</td>\n      <td>CN</td>\n      <td>M</td>\n      <td>80</td>\n      <td>3</td>\n      <td>MPR; ; Mask</td>\n      <td>Processed</td>\n      <td>2006-12-12</td>\n    </tr>\n    <tr>\n      <th>5883</th>\n      <td>I73323</td>\n      <td>002_S_0559</td>\n      <td>CN</td>\n      <td>M</td>\n      <td>80</td>\n      <td>3</td>\n      <td>MPR; ; N3</td>\n      <td>Processed</td>\n      <td>2006-12-12</td>\n    </tr>\n    <tr>\n      <th>5892</th>\n      <td>I73325</td>\n      <td>002_S_0559</td>\n      <td>CN</td>\n      <td>M</td>\n      <td>80</td>\n      <td>3</td>\n      <td>MPR-R; ; Mask</td>\n      <td>Processed</td>\n      <td>2006-12-12</td>\n    </tr>\n    <tr>\n      <th>5884</th>\n      <td>I73326</td>\n      <td>002_S_0559</td>\n      <td>CN</td>\n      <td>M</td>\n      <td>80</td>\n      <td>3</td>\n      <td>MPR-R; ; N3</td>\n      <td>Processed</td>\n      <td>2006-12-12</td>\n    </tr>\n    <tr>\n      <th>5878</th>\n      <td>I79123</td>\n      <td>002_S_0559</td>\n      <td>CN</td>\n      <td>M</td>\n      <td>80</td>\n      <td>3</td>\n      <td>MPR; ; N3; Scaled</td>\n      <td>Processed</td>\n      <td>2006-12-12</td>\n    </tr>\n    <tr>\n      <th>5880</th>\n      <td>I82098</td>\n      <td>002_S_0559</td>\n      <td>CN</td>\n      <td>M</td>\n      <td>81</td>\n      <td>4</td>\n      <td>MPR; ; Mask</td>\n      <td>Processed</td>\n      <td>2007-10-18</td>\n    </tr>\n    <tr>\n      <th>5889</th>\n      <td>I82099</td>\n      <td>002_S_0559</td>\n      <td>CN</td>\n      <td>M</td>\n      <td>81</td>\n      <td>4</td>\n      <td>MPR; ; N3</td>\n      <td>Processed</td>\n      <td>2007-10-18</td>\n    </tr>\n    <tr>\n      <th>5888</th>\n      <td>I120772</td>\n      <td>002_S_0559</td>\n      <td>CN</td>\n      <td>M</td>\n      <td>82</td>\n      <td>6</td>\n      <td>MPR; ; Mask</td>\n      <td>Processed</td>\n      <td>2008-08-15</td>\n    </tr>\n    <tr>\n      <th>5881</th>\n      <td>I120778</td>\n      <td>002_S_0559</td>\n      <td>CN</td>\n      <td>M</td>\n      <td>82</td>\n      <td>6</td>\n      <td>MPR; ; N3</td>\n      <td>Processed</td>\n      <td>2008-08-15</td>\n    </tr>\n    <tr>\n      <th>5890</th>\n      <td>I120779</td>\n      <td>002_S_0559</td>\n      <td>CN</td>\n      <td>M</td>\n      <td>82</td>\n      <td>6</td>\n      <td>MPR; ; N3; Scaled</td>\n      <td>Processed</td>\n      <td>2008-08-15</td>\n    </tr>\n    <tr>\n      <th>5885</th>\n      <td>I171085</td>\n      <td>002_S_0559</td>\n      <td>CN</td>\n      <td>M</td>\n      <td>82</td>\n      <td>8</td>\n      <td>MPR; ; Mask</td>\n      <td>Processed</td>\n      <td>2009-06-30</td>\n    </tr>\n    <tr>\n      <th>5879</th>\n      <td>I171086</td>\n      <td>002_S_0559</td>\n      <td>CN</td>\n      <td>M</td>\n      <td>82</td>\n      <td>8</td>\n      <td>MPR; ; N3</td>\n      <td>Processed</td>\n      <td>2009-06-30</td>\n    </tr>\n    <tr>\n      <th>5887</th>\n      <td>I171087</td>\n      <td>002_S_0559</td>\n      <td>CN</td>\n      <td>M</td>\n      <td>82</td>\n      <td>8</td>\n      <td>MPR; ; N3; Scaled</td>\n      <td>Processed</td>\n      <td>2009-06-30</td>\n    </tr>\n    <tr>\n      <th>5882</th>\n      <td>I387781</td>\n      <td>002_S_0559</td>\n      <td>CN</td>\n      <td>M</td>\n      <td>82</td>\n      <td>8</td>\n      <td>HHP 6 DOF AC-PC registered MPRAGE</td>\n      <td>Processed</td>\n      <td>2009-06-30</td>\n    </tr>\n    <tr>\n      <th>5886</th>\n      <td>I474785</td>\n      <td>002_S_0559</td>\n      <td>CN</td>\n      <td>M</td>\n      <td>82</td>\n      <td>8</td>\n      <td>HarP 135 final release 2015</td>\n      <td>Processed</td>\n      <td>2009-06-30</td>\n    </tr>\n    <tr>\n      <th>5877</th>\n      <td>I300264</td>\n      <td>002_S_0685</td>\n      <td>CN</td>\n      <td>F</td>\n      <td>95</td>\n      <td>26</td>\n      <td>MT1; N3m</td>\n      <td>Processed</td>\n      <td>2011-07-08</td>\n    </tr>\n    <tr>\n      <th>5876</th>\n      <td>I326600</td>\n      <td>002_S_0685</td>\n      <td>CN</td>\n      <td>F</td>\n      <td>96</td>\n      <td>28</td>\n      <td>MT1; N3m</td>\n      <td>Processed</td>\n      <td>2012-07-27</td>\n    </tr>\n    <tr>\n      <th>12827</th>\n      <td>I118668</td>\n      <td>002_S_0729</td>\n      <td>MCI</td>\n      <td>F</td>\n      <td>65</td>\n      <td>2</td>\n      <td>MPR; ; N3; Scaled_2</td>\n      <td>Processed</td>\n      <td>2006-08-02</td>\n    </tr>\n    <tr>\n      <th>12839</th>\n      <td>I40690</td>\n      <td>002_S_0729</td>\n      <td>MCI</td>\n      <td>F</td>\n      <td>65</td>\n      <td>2</td>\n      <td>MPR; ; Mask</td>\n      <td>Processed</td>\n      <td>2006-08-02</td>\n    </tr>\n    <tr>\n      <th>12828</th>\n      <td>I40691</td>\n      <td>002_S_0729</td>\n      <td>MCI</td>\n      <td>F</td>\n      <td>65</td>\n      <td>2</td>\n      <td>MPR; ; N3</td>\n      <td>Processed</td>\n      <td>2006-08-02</td>\n    </tr>\n    <tr>\n      <th>12841</th>\n      <td>I40692</td>\n      <td>002_S_0729</td>\n      <td>MCI</td>\n      <td>F</td>\n      <td>65</td>\n      <td>2</td>\n      <td>MPR; ; N3; Scaled</td>\n      <td>Processed</td>\n      <td>2006-08-02</td>\n    </tr>\n    <tr>\n      <th>12830</th>\n      <td>I40693</td>\n      <td>002_S_0729</td>\n      <td>MCI</td>\n      <td>F</td>\n      <td>65</td>\n      <td>2</td>\n      <td>MPR-R; ; Mask</td>\n      <td>Processed</td>\n      <td>2006-08-02</td>\n    </tr>\n    <tr>\n      <th>12843</th>\n      <td>I40705</td>\n      <td>002_S_0729</td>\n      <td>MCI</td>\n      <td>F</td>\n      <td>65</td>\n      <td>2</td>\n      <td>MPR-R; ; N3</td>\n      <td>Processed</td>\n      <td>2006-08-02</td>\n    </tr>\n    <tr>\n      <th>12826</th>\n      <td>I78661</td>\n      <td>002_S_0729</td>\n      <td>MCI</td>\n      <td>F</td>\n      <td>66</td>\n      <td>4</td>\n      <td>MPR; ; Mask</td>\n      <td>Processed</td>\n      <td>2007-09-05</td>\n    </tr>\n    <tr>\n      <th>12840</th>\n      <td>I78662</td>\n      <td>002_S_0729</td>\n      <td>MCI</td>\n      <td>F</td>\n      <td>66</td>\n      <td>4</td>\n      <td>MPR; ; N3</td>\n      <td>Processed</td>\n      <td>2007-09-05</td>\n    </tr>\n    <tr>\n      <th>12829</th>\n      <td>I78663</td>\n      <td>002_S_0729</td>\n      <td>MCI</td>\n      <td>F</td>\n      <td>66</td>\n      <td>4</td>\n      <td>MPR; ; N3; Scaled</td>\n      <td>Processed</td>\n      <td>2007-09-05</td>\n    </tr>\n    <tr>\n      <th>12832</th>\n      <td>I97013</td>\n      <td>002_S_0729</td>\n      <td>MCI</td>\n      <td>F</td>\n      <td>67</td>\n      <td>5</td>\n      <td>MPR; ; Mask</td>\n      <td>Processed</td>\n      <td>2008-03-05</td>\n    </tr>\n    <tr>\n      <th>12846</th>\n      <td>I97014</td>\n      <td>002_S_0729</td>\n      <td>MCI</td>\n      <td>F</td>\n      <td>67</td>\n      <td>5</td>\n      <td>MPR; ; N3</td>\n      <td>Processed</td>\n      <td>2008-03-05</td>\n    </tr>\n    <tr>\n      <th>12835</th>\n      <td>I97015</td>\n      <td>002_S_0729</td>\n      <td>MCI</td>\n      <td>F</td>\n      <td>67</td>\n      <td>5</td>\n      <td>MPR; ; Mask</td>\n      <td>Processed</td>\n      <td>2008-03-05</td>\n    </tr>\n  </tbody>\n</table>\n</div>"
     },
     "metadata": {},
     "execution_count": 6
    }
   ],
   "source": [
    "df_mprage.sort_values(['Subject','Acq Date','Image Data ID']).head(50)"
   ]
  },
  {
   "source": [
    "## Comparing patients in both dataframes"
   ],
   "cell_type": "markdown",
   "metadata": {}
  },
  {
   "cell_type": "code",
   "execution_count": 7,
   "metadata": {},
   "outputs": [
    {
     "output_type": "execute_result",
     "data": {
      "text/plain": [
       "     Image Data ID     Subject Group Sex  Age  Visit Description       Type  \\\n",
       "5912       I241350  002_S_0295    CN   M   90     26    MT1; N3m  Processed   \n",
       "5913       I308078  002_S_0295    CN   M   91     28    MT1; N3m  Processed   \n",
       "\n",
       "        Acq Date  \n",
       "5912  2011-06-02  \n",
       "5913  2012-05-10  "
      ],
      "text/html": "<div>\n<style scoped>\n    .dataframe tbody tr th:only-of-type {\n        vertical-align: middle;\n    }\n\n    .dataframe tbody tr th {\n        vertical-align: top;\n    }\n\n    .dataframe thead th {\n        text-align: right;\n    }\n</style>\n<table border=\"1\" class=\"dataframe\">\n  <thead>\n    <tr style=\"text-align: right;\">\n      <th></th>\n      <th>Image Data ID</th>\n      <th>Subject</th>\n      <th>Group</th>\n      <th>Sex</th>\n      <th>Age</th>\n      <th>Visit</th>\n      <th>Description</th>\n      <th>Type</th>\n      <th>Acq Date</th>\n    </tr>\n  </thead>\n  <tbody>\n    <tr>\n      <th>5912</th>\n      <td>I241350</td>\n      <td>002_S_0295</td>\n      <td>CN</td>\n      <td>M</td>\n      <td>90</td>\n      <td>26</td>\n      <td>MT1; N3m</td>\n      <td>Processed</td>\n      <td>2011-06-02</td>\n    </tr>\n    <tr>\n      <th>5913</th>\n      <td>I308078</td>\n      <td>002_S_0295</td>\n      <td>CN</td>\n      <td>M</td>\n      <td>91</td>\n      <td>28</td>\n      <td>MT1; N3m</td>\n      <td>Processed</td>\n      <td>2012-05-10</td>\n    </tr>\n  </tbody>\n</table>\n</div>"
     },
     "metadata": {},
     "execution_count": 7
    }
   ],
   "source": [
    "df_mprage.query(\"Subject == '002_S_0295'\")"
   ]
  },
  {
   "source": [
    "df_mri_baseline.query(\"Subject == '002_S_0295'\")"
   ],
   "cell_type": "code",
   "metadata": {},
   "execution_count": 15,
   "outputs": [
    {
     "output_type": "execute_result",
     "data": {
      "text/plain": [
       "      Image Data ID     Subject Group Sex  Age  Visit  \\\n",
       "11550        I45109  002_S_0295    CN   M   85      1   \n",
       "11551        I45111  002_S_0295    CN   M   85      1   \n",
       "11552       I387726  002_S_0295    CN   M   85      1   \n",
       "11553        I45113  002_S_0295    CN   M   85      1   \n",
       "11554       I118671  002_S_0295    CN   M   85      1   \n",
       "11555       I241351  002_S_0295    CN   M   90     26   \n",
       "11556        I45106  002_S_0295    CN   M   85      1   \n",
       "11557        I45108  002_S_0295    CN   M   85      1   \n",
       "11558        I45110  002_S_0295    CN   M   85      1   \n",
       "11559       I474728  002_S_0295    CN   M   85      1   \n",
       "11560        I45112  002_S_0295    CN   M   85      1   \n",
       "11561        I45114  002_S_0295    CN   M   85      1   \n",
       "11562       I241350  002_S_0295    CN   M   90     26   \n",
       "11563        I45107  002_S_0295    CN   M   85      1   \n",
       "\n",
       "                                      Description       Type   Acq Date Format  \n",
       "11550                MPR; GradWarp; B1 Correction  Processed 2006-04-18  NiFTI  \n",
       "11551        MPR-R; GradWarp; B1 Correction; Mask  Processed 2006-04-18  NiFTI  \n",
       "11552           HHP 6 DOF AC-PC registered MPRAGE  Processed 2006-04-18  NiFTI  \n",
       "11553              MPR-R; GradWarp; B1 Correction  Processed 2006-04-18  NiFTI  \n",
       "11554  MPR; GradWarp; B1 Correction; N3; Scaled_2  Processed 2006-04-18  NiFTI  \n",
       "11555                                    MT1; N3m  Processed 2011-06-02  NiFTI  \n",
       "11556          MPR; GradWarp; B1 Correction; Mask  Processed 2006-04-18  NiFTI  \n",
       "11557    MPR; GradWarp; B1 Correction; N3; Scaled  Processed 2006-04-18  NiFTI  \n",
       "11558                               MPR; GradWarp  Processed 2006-04-18  NiFTI  \n",
       "11559                 HarP 135 final release 2015  Processed 2006-04-18  NiFTI  \n",
       "11560          MPR-R; GradWarp; B1 Correction; N3  Processed 2006-04-18  NiFTI  \n",
       "11561                             MPR-R; GradWarp  Processed 2006-04-18  NiFTI  \n",
       "11562                                    MT1; N3m  Processed 2011-06-02  NiFTI  \n",
       "11563            MPR; GradWarp; B1 Correction; N3  Processed 2006-04-18  NiFTI  "
      ],
      "text/html": "<div>\n<style scoped>\n    .dataframe tbody tr th:only-of-type {\n        vertical-align: middle;\n    }\n\n    .dataframe tbody tr th {\n        vertical-align: top;\n    }\n\n    .dataframe thead th {\n        text-align: right;\n    }\n</style>\n<table border=\"1\" class=\"dataframe\">\n  <thead>\n    <tr style=\"text-align: right;\">\n      <th></th>\n      <th>Image Data ID</th>\n      <th>Subject</th>\n      <th>Group</th>\n      <th>Sex</th>\n      <th>Age</th>\n      <th>Visit</th>\n      <th>Description</th>\n      <th>Type</th>\n      <th>Acq Date</th>\n      <th>Format</th>\n    </tr>\n  </thead>\n  <tbody>\n    <tr>\n      <th>11550</th>\n      <td>I45109</td>\n      <td>002_S_0295</td>\n      <td>CN</td>\n      <td>M</td>\n      <td>85</td>\n      <td>1</td>\n      <td>MPR; GradWarp; B1 Correction</td>\n      <td>Processed</td>\n      <td>2006-04-18</td>\n      <td>NiFTI</td>\n    </tr>\n    <tr>\n      <th>11551</th>\n      <td>I45111</td>\n      <td>002_S_0295</td>\n      <td>CN</td>\n      <td>M</td>\n      <td>85</td>\n      <td>1</td>\n      <td>MPR-R; GradWarp; B1 Correction; Mask</td>\n      <td>Processed</td>\n      <td>2006-04-18</td>\n      <td>NiFTI</td>\n    </tr>\n    <tr>\n      <th>11552</th>\n      <td>I387726</td>\n      <td>002_S_0295</td>\n      <td>CN</td>\n      <td>M</td>\n      <td>85</td>\n      <td>1</td>\n      <td>HHP 6 DOF AC-PC registered MPRAGE</td>\n      <td>Processed</td>\n      <td>2006-04-18</td>\n      <td>NiFTI</td>\n    </tr>\n    <tr>\n      <th>11553</th>\n      <td>I45113</td>\n      <td>002_S_0295</td>\n      <td>CN</td>\n      <td>M</td>\n      <td>85</td>\n      <td>1</td>\n      <td>MPR-R; GradWarp; B1 Correction</td>\n      <td>Processed</td>\n      <td>2006-04-18</td>\n      <td>NiFTI</td>\n    </tr>\n    <tr>\n      <th>11554</th>\n      <td>I118671</td>\n      <td>002_S_0295</td>\n      <td>CN</td>\n      <td>M</td>\n      <td>85</td>\n      <td>1</td>\n      <td>MPR; GradWarp; B1 Correction; N3; Scaled_2</td>\n      <td>Processed</td>\n      <td>2006-04-18</td>\n      <td>NiFTI</td>\n    </tr>\n    <tr>\n      <th>11555</th>\n      <td>I241351</td>\n      <td>002_S_0295</td>\n      <td>CN</td>\n      <td>M</td>\n      <td>90</td>\n      <td>26</td>\n      <td>MT1; N3m</td>\n      <td>Processed</td>\n      <td>2011-06-02</td>\n      <td>NiFTI</td>\n    </tr>\n    <tr>\n      <th>11556</th>\n      <td>I45106</td>\n      <td>002_S_0295</td>\n      <td>CN</td>\n      <td>M</td>\n      <td>85</td>\n      <td>1</td>\n      <td>MPR; GradWarp; B1 Correction; Mask</td>\n      <td>Processed</td>\n      <td>2006-04-18</td>\n      <td>NiFTI</td>\n    </tr>\n    <tr>\n      <th>11557</th>\n      <td>I45108</td>\n      <td>002_S_0295</td>\n      <td>CN</td>\n      <td>M</td>\n      <td>85</td>\n      <td>1</td>\n      <td>MPR; GradWarp; B1 Correction; N3; Scaled</td>\n      <td>Processed</td>\n      <td>2006-04-18</td>\n      <td>NiFTI</td>\n    </tr>\n    <tr>\n      <th>11558</th>\n      <td>I45110</td>\n      <td>002_S_0295</td>\n      <td>CN</td>\n      <td>M</td>\n      <td>85</td>\n      <td>1</td>\n      <td>MPR; GradWarp</td>\n      <td>Processed</td>\n      <td>2006-04-18</td>\n      <td>NiFTI</td>\n    </tr>\n    <tr>\n      <th>11559</th>\n      <td>I474728</td>\n      <td>002_S_0295</td>\n      <td>CN</td>\n      <td>M</td>\n      <td>85</td>\n      <td>1</td>\n      <td>HarP 135 final release 2015</td>\n      <td>Processed</td>\n      <td>2006-04-18</td>\n      <td>NiFTI</td>\n    </tr>\n    <tr>\n      <th>11560</th>\n      <td>I45112</td>\n      <td>002_S_0295</td>\n      <td>CN</td>\n      <td>M</td>\n      <td>85</td>\n      <td>1</td>\n      <td>MPR-R; GradWarp; B1 Correction; N3</td>\n      <td>Processed</td>\n      <td>2006-04-18</td>\n      <td>NiFTI</td>\n    </tr>\n    <tr>\n      <th>11561</th>\n      <td>I45114</td>\n      <td>002_S_0295</td>\n      <td>CN</td>\n      <td>M</td>\n      <td>85</td>\n      <td>1</td>\n      <td>MPR-R; GradWarp</td>\n      <td>Processed</td>\n      <td>2006-04-18</td>\n      <td>NiFTI</td>\n    </tr>\n    <tr>\n      <th>11562</th>\n      <td>I241350</td>\n      <td>002_S_0295</td>\n      <td>CN</td>\n      <td>M</td>\n      <td>90</td>\n      <td>26</td>\n      <td>MT1; N3m</td>\n      <td>Processed</td>\n      <td>2011-06-02</td>\n      <td>NiFTI</td>\n    </tr>\n    <tr>\n      <th>11563</th>\n      <td>I45107</td>\n      <td>002_S_0295</td>\n      <td>CN</td>\n      <td>M</td>\n      <td>85</td>\n      <td>1</td>\n      <td>MPR; GradWarp; B1 Correction; N3</td>\n      <td>Processed</td>\n      <td>2006-04-18</td>\n      <td>NiFTI</td>\n    </tr>\n  </tbody>\n</table>\n</div>"
     },
     "metadata": {},
     "execution_count": 15
    }
   ]
  },
  {
   "source": [
    "# Selecting only one image per patient"
   ],
   "cell_type": "markdown",
   "metadata": {}
  },
  {
   "cell_type": "code",
   "execution_count": 16,
   "metadata": {},
   "outputs": [
    {
     "output_type": "execute_result",
     "data": {
      "text/plain": [
       "     Image Data ID     Subject Group Sex  Age  Visit          Description  \\\n",
       "5912       I241350  002_S_0295    CN   M   90     26             MT1; N3m   \n",
       "5913       I308078  002_S_0295    CN   M   91     28             MT1; N3m   \n",
       "5902       I128346  002_S_0413    CN   F   77      3  MPR; ; N3; Scaled_2   \n",
       "5900        I40660  002_S_0413    CN   F   77      3          MPR; ; Mask   \n",
       "5907        I40661  002_S_0413    CN   F   77      3            MPR; ; N3   \n",
       "...            ...         ...   ...  ..  ...    ...                  ...   \n",
       "2019       I431781  941_S_5124   SMC   F   78     28   MT1; GradWarp; N3m   \n",
       "2021       I729735  941_S_5124   SMC   F   79     30   MT1; GradWarp; N3m   \n",
       "2017       I375627  941_S_5193   SMC   F   73     22   MT1; GradWarp; N3m   \n",
       "2016       I388033  941_S_5193   SMC   F   73     24   MT1; GradWarp; N3m   \n",
       "2015       I729725  941_S_5193   SMC   F   74     30   MT1; GradWarp; N3m   \n",
       "\n",
       "           Type    Acq Date  \n",
       "5912  Processed  2011-06-02  \n",
       "5913  Processed  2012-05-10  \n",
       "5902  Processed  2006-11-15  \n",
       "5900  Processed  2006-11-15  \n",
       "5907  Processed  2006-11-15  \n",
       "...         ...         ...  \n",
       "2019  Processed  2014-04-21  \n",
       "2021  Processed  2015-04-08  \n",
       "2017  Processed  2013-05-29  \n",
       "2016  Processed  2013-08-19  \n",
       "2015  Processed  2015-04-02  \n",
       "\n",
       "[12849 rows x 9 columns]"
      ],
      "text/html": "<div>\n<style scoped>\n    .dataframe tbody tr th:only-of-type {\n        vertical-align: middle;\n    }\n\n    .dataframe tbody tr th {\n        vertical-align: top;\n    }\n\n    .dataframe thead th {\n        text-align: right;\n    }\n</style>\n<table border=\"1\" class=\"dataframe\">\n  <thead>\n    <tr style=\"text-align: right;\">\n      <th></th>\n      <th>Image Data ID</th>\n      <th>Subject</th>\n      <th>Group</th>\n      <th>Sex</th>\n      <th>Age</th>\n      <th>Visit</th>\n      <th>Description</th>\n      <th>Type</th>\n      <th>Acq Date</th>\n    </tr>\n  </thead>\n  <tbody>\n    <tr>\n      <th>5912</th>\n      <td>I241350</td>\n      <td>002_S_0295</td>\n      <td>CN</td>\n      <td>M</td>\n      <td>90</td>\n      <td>26</td>\n      <td>MT1; N3m</td>\n      <td>Processed</td>\n      <td>2011-06-02</td>\n    </tr>\n    <tr>\n      <th>5913</th>\n      <td>I308078</td>\n      <td>002_S_0295</td>\n      <td>CN</td>\n      <td>M</td>\n      <td>91</td>\n      <td>28</td>\n      <td>MT1; N3m</td>\n      <td>Processed</td>\n      <td>2012-05-10</td>\n    </tr>\n    <tr>\n      <th>5902</th>\n      <td>I128346</td>\n      <td>002_S_0413</td>\n      <td>CN</td>\n      <td>F</td>\n      <td>77</td>\n      <td>3</td>\n      <td>MPR; ; N3; Scaled_2</td>\n      <td>Processed</td>\n      <td>2006-11-15</td>\n    </tr>\n    <tr>\n      <th>5900</th>\n      <td>I40660</td>\n      <td>002_S_0413</td>\n      <td>CN</td>\n      <td>F</td>\n      <td>77</td>\n      <td>3</td>\n      <td>MPR; ; Mask</td>\n      <td>Processed</td>\n      <td>2006-11-15</td>\n    </tr>\n    <tr>\n      <th>5907</th>\n      <td>I40661</td>\n      <td>002_S_0413</td>\n      <td>CN</td>\n      <td>F</td>\n      <td>77</td>\n      <td>3</td>\n      <td>MPR; ; N3</td>\n      <td>Processed</td>\n      <td>2006-11-15</td>\n    </tr>\n    <tr>\n      <th>...</th>\n      <td>...</td>\n      <td>...</td>\n      <td>...</td>\n      <td>...</td>\n      <td>...</td>\n      <td>...</td>\n      <td>...</td>\n      <td>...</td>\n      <td>...</td>\n    </tr>\n    <tr>\n      <th>2019</th>\n      <td>I431781</td>\n      <td>941_S_5124</td>\n      <td>SMC</td>\n      <td>F</td>\n      <td>78</td>\n      <td>28</td>\n      <td>MT1; GradWarp; N3m</td>\n      <td>Processed</td>\n      <td>2014-04-21</td>\n    </tr>\n    <tr>\n      <th>2021</th>\n      <td>I729735</td>\n      <td>941_S_5124</td>\n      <td>SMC</td>\n      <td>F</td>\n      <td>79</td>\n      <td>30</td>\n      <td>MT1; GradWarp; N3m</td>\n      <td>Processed</td>\n      <td>2015-04-08</td>\n    </tr>\n    <tr>\n      <th>2017</th>\n      <td>I375627</td>\n      <td>941_S_5193</td>\n      <td>SMC</td>\n      <td>F</td>\n      <td>73</td>\n      <td>22</td>\n      <td>MT1; GradWarp; N3m</td>\n      <td>Processed</td>\n      <td>2013-05-29</td>\n    </tr>\n    <tr>\n      <th>2016</th>\n      <td>I388033</td>\n      <td>941_S_5193</td>\n      <td>SMC</td>\n      <td>F</td>\n      <td>73</td>\n      <td>24</td>\n      <td>MT1; GradWarp; N3m</td>\n      <td>Processed</td>\n      <td>2013-08-19</td>\n    </tr>\n    <tr>\n      <th>2015</th>\n      <td>I729725</td>\n      <td>941_S_5193</td>\n      <td>SMC</td>\n      <td>F</td>\n      <td>74</td>\n      <td>30</td>\n      <td>MT1; GradWarp; N3m</td>\n      <td>Processed</td>\n      <td>2015-04-02</td>\n    </tr>\n  </tbody>\n</table>\n<p>12849 rows × 9 columns</p>\n</div>"
     },
     "metadata": {},
     "execution_count": 16
    }
   ],
   "source": [
    "df_mprage = df_mprage.sort_values(['Subject','Acq Date','Image Data ID'])\n",
    "df_mprage"
   ]
  },
  {
   "cell_type": "code",
   "execution_count": 17,
   "metadata": {},
   "outputs": [
    {
     "output_type": "execute_result",
     "data": {
      "text/plain": [
       "            Image Data ID  Group  Sex  Age  Visit  Description  Type  Acq Date\n",
       "Subject                                                                       \n",
       "013_S_4236              1      1    1    1      1            1     1         1\n",
       "073_S_4748              1      1    1    1      1            1     1         1\n",
       "073_S_4995              1      1    1    1      1            1     1         1\n",
       "073_S_5016              1      1    1    1      1            1     1         1\n",
       "073_S_5090              1      1    1    1      1            1     1         1\n",
       "...                   ...    ...  ...  ...    ...          ...   ...       ...\n",
       "023_S_0061             64     64   64   64     64           64    64        64\n",
       "023_S_0604             65     65   65   65     65           65    65        65\n",
       "023_S_0376             68     68   68   68     68           68    68        68\n",
       "023_S_0388             68     68   68   68     68           68    68        68\n",
       "023_S_0331             78     78   78   78     78           78    78        78\n",
       "\n",
       "[1226 rows x 8 columns]"
      ],
      "text/html": "<div>\n<style scoped>\n    .dataframe tbody tr th:only-of-type {\n        vertical-align: middle;\n    }\n\n    .dataframe tbody tr th {\n        vertical-align: top;\n    }\n\n    .dataframe thead th {\n        text-align: right;\n    }\n</style>\n<table border=\"1\" class=\"dataframe\">\n  <thead>\n    <tr style=\"text-align: right;\">\n      <th></th>\n      <th>Image Data ID</th>\n      <th>Group</th>\n      <th>Sex</th>\n      <th>Age</th>\n      <th>Visit</th>\n      <th>Description</th>\n      <th>Type</th>\n      <th>Acq Date</th>\n    </tr>\n    <tr>\n      <th>Subject</th>\n      <th></th>\n      <th></th>\n      <th></th>\n      <th></th>\n      <th></th>\n      <th></th>\n      <th></th>\n      <th></th>\n    </tr>\n  </thead>\n  <tbody>\n    <tr>\n      <th>013_S_4236</th>\n      <td>1</td>\n      <td>1</td>\n      <td>1</td>\n      <td>1</td>\n      <td>1</td>\n      <td>1</td>\n      <td>1</td>\n      <td>1</td>\n    </tr>\n    <tr>\n      <th>073_S_4748</th>\n      <td>1</td>\n      <td>1</td>\n      <td>1</td>\n      <td>1</td>\n      <td>1</td>\n      <td>1</td>\n      <td>1</td>\n      <td>1</td>\n    </tr>\n    <tr>\n      <th>073_S_4995</th>\n      <td>1</td>\n      <td>1</td>\n      <td>1</td>\n      <td>1</td>\n      <td>1</td>\n      <td>1</td>\n      <td>1</td>\n      <td>1</td>\n    </tr>\n    <tr>\n      <th>073_S_5016</th>\n      <td>1</td>\n      <td>1</td>\n      <td>1</td>\n      <td>1</td>\n      <td>1</td>\n      <td>1</td>\n      <td>1</td>\n      <td>1</td>\n    </tr>\n    <tr>\n      <th>073_S_5090</th>\n      <td>1</td>\n      <td>1</td>\n      <td>1</td>\n      <td>1</td>\n      <td>1</td>\n      <td>1</td>\n      <td>1</td>\n      <td>1</td>\n    </tr>\n    <tr>\n      <th>...</th>\n      <td>...</td>\n      <td>...</td>\n      <td>...</td>\n      <td>...</td>\n      <td>...</td>\n      <td>...</td>\n      <td>...</td>\n      <td>...</td>\n    </tr>\n    <tr>\n      <th>023_S_0061</th>\n      <td>64</td>\n      <td>64</td>\n      <td>64</td>\n      <td>64</td>\n      <td>64</td>\n      <td>64</td>\n      <td>64</td>\n      <td>64</td>\n    </tr>\n    <tr>\n      <th>023_S_0604</th>\n      <td>65</td>\n      <td>65</td>\n      <td>65</td>\n      <td>65</td>\n      <td>65</td>\n      <td>65</td>\n      <td>65</td>\n      <td>65</td>\n    </tr>\n    <tr>\n      <th>023_S_0376</th>\n      <td>68</td>\n      <td>68</td>\n      <td>68</td>\n      <td>68</td>\n      <td>68</td>\n      <td>68</td>\n      <td>68</td>\n      <td>68</td>\n    </tr>\n    <tr>\n      <th>023_S_0388</th>\n      <td>68</td>\n      <td>68</td>\n      <td>68</td>\n      <td>68</td>\n      <td>68</td>\n      <td>68</td>\n      <td>68</td>\n      <td>68</td>\n    </tr>\n    <tr>\n      <th>023_S_0331</th>\n      <td>78</td>\n      <td>78</td>\n      <td>78</td>\n      <td>78</td>\n      <td>78</td>\n      <td>78</td>\n      <td>78</td>\n      <td>78</td>\n    </tr>\n  </tbody>\n</table>\n<p>1226 rows × 8 columns</p>\n</div>"
     },
     "metadata": {},
     "execution_count": 17
    }
   ],
   "source": [
    "df_mprage.groupby(\"Subject\").count().sort_values(\"Sex\")"
   ]
  },
  {
   "cell_type": "code",
   "execution_count": 18,
   "metadata": {},
   "outputs": [
    {
     "output_type": "execute_result",
     "data": {
      "text/plain": [
       "      Image Data ID     Subject Group Sex  Age  Visit  \\\n",
       "10926       I118975  023_S_0331   MCI   F   65      1   \n",
       "10944        I31358  023_S_0331   MCI   F   65      1   \n",
       "10909        I31368  023_S_0331   MCI   F   65      1   \n",
       "10947        I31369  023_S_0331   MCI   F   65      1   \n",
       "10914        I31374  023_S_0331   MCI   F   65      1   \n",
       "...             ...         ...   ...  ..  ...    ...   \n",
       "10971       I332462  023_S_0331   MCI   F   69     10   \n",
       "10959       I294799  023_S_0331   MCI   F   70     26   \n",
       "10936       I332495  023_S_0331   MCI   F   71     28   \n",
       "10929       I370022  023_S_0331   MCI   F   72     30   \n",
       "10899       I434271  023_S_0331   MCI   F   73     32   \n",
       "\n",
       "                                      Description       Type    Acq Date  \n",
       "10926  MPR; GradWarp; B1 Correction; N3; Scaled_2  Processed  2006-03-23  \n",
       "10944          MPR; GradWarp; B1 Correction; Mask  Processed  2006-03-23  \n",
       "10909            MPR; GradWarp; B1 Correction; N3  Processed  2006-03-23  \n",
       "10947    MPR; GradWarp; B1 Correction; N3; Scaled  Processed  2006-03-23  \n",
       "10914                MPR; GradWarp; B1 Correction  Processed  2006-03-23  \n",
       "...                                           ...        ...         ...  \n",
       "10971                          MT1; GradWarp; N3m  Processed  2010-05-05  \n",
       "10959                          MT1; GradWarp; N3m  Processed  2011-05-04  \n",
       "10936                          MT1; GradWarp; N3m  Processed  2012-06-07  \n",
       "10929                          MT1; GradWarp; N3m  Processed  2013-04-10  \n",
       "10899                          MT1; GradWarp; N3m  Processed  2014-04-03  \n",
       "\n",
       "[78 rows x 9 columns]"
      ],
      "text/html": "<div>\n<style scoped>\n    .dataframe tbody tr th:only-of-type {\n        vertical-align: middle;\n    }\n\n    .dataframe tbody tr th {\n        vertical-align: top;\n    }\n\n    .dataframe thead th {\n        text-align: right;\n    }\n</style>\n<table border=\"1\" class=\"dataframe\">\n  <thead>\n    <tr style=\"text-align: right;\">\n      <th></th>\n      <th>Image Data ID</th>\n      <th>Subject</th>\n      <th>Group</th>\n      <th>Sex</th>\n      <th>Age</th>\n      <th>Visit</th>\n      <th>Description</th>\n      <th>Type</th>\n      <th>Acq Date</th>\n    </tr>\n  </thead>\n  <tbody>\n    <tr>\n      <th>10926</th>\n      <td>I118975</td>\n      <td>023_S_0331</td>\n      <td>MCI</td>\n      <td>F</td>\n      <td>65</td>\n      <td>1</td>\n      <td>MPR; GradWarp; B1 Correction; N3; Scaled_2</td>\n      <td>Processed</td>\n      <td>2006-03-23</td>\n    </tr>\n    <tr>\n      <th>10944</th>\n      <td>I31358</td>\n      <td>023_S_0331</td>\n      <td>MCI</td>\n      <td>F</td>\n      <td>65</td>\n      <td>1</td>\n      <td>MPR; GradWarp; B1 Correction; Mask</td>\n      <td>Processed</td>\n      <td>2006-03-23</td>\n    </tr>\n    <tr>\n      <th>10909</th>\n      <td>I31368</td>\n      <td>023_S_0331</td>\n      <td>MCI</td>\n      <td>F</td>\n      <td>65</td>\n      <td>1</td>\n      <td>MPR; GradWarp; B1 Correction; N3</td>\n      <td>Processed</td>\n      <td>2006-03-23</td>\n    </tr>\n    <tr>\n      <th>10947</th>\n      <td>I31369</td>\n      <td>023_S_0331</td>\n      <td>MCI</td>\n      <td>F</td>\n      <td>65</td>\n      <td>1</td>\n      <td>MPR; GradWarp; B1 Correction; N3; Scaled</td>\n      <td>Processed</td>\n      <td>2006-03-23</td>\n    </tr>\n    <tr>\n      <th>10914</th>\n      <td>I31374</td>\n      <td>023_S_0331</td>\n      <td>MCI</td>\n      <td>F</td>\n      <td>65</td>\n      <td>1</td>\n      <td>MPR; GradWarp; B1 Correction</td>\n      <td>Processed</td>\n      <td>2006-03-23</td>\n    </tr>\n    <tr>\n      <th>...</th>\n      <td>...</td>\n      <td>...</td>\n      <td>...</td>\n      <td>...</td>\n      <td>...</td>\n      <td>...</td>\n      <td>...</td>\n      <td>...</td>\n      <td>...</td>\n    </tr>\n    <tr>\n      <th>10971</th>\n      <td>I332462</td>\n      <td>023_S_0331</td>\n      <td>MCI</td>\n      <td>F</td>\n      <td>69</td>\n      <td>10</td>\n      <td>MT1; GradWarp; N3m</td>\n      <td>Processed</td>\n      <td>2010-05-05</td>\n    </tr>\n    <tr>\n      <th>10959</th>\n      <td>I294799</td>\n      <td>023_S_0331</td>\n      <td>MCI</td>\n      <td>F</td>\n      <td>70</td>\n      <td>26</td>\n      <td>MT1; GradWarp; N3m</td>\n      <td>Processed</td>\n      <td>2011-05-04</td>\n    </tr>\n    <tr>\n      <th>10936</th>\n      <td>I332495</td>\n      <td>023_S_0331</td>\n      <td>MCI</td>\n      <td>F</td>\n      <td>71</td>\n      <td>28</td>\n      <td>MT1; GradWarp; N3m</td>\n      <td>Processed</td>\n      <td>2012-06-07</td>\n    </tr>\n    <tr>\n      <th>10929</th>\n      <td>I370022</td>\n      <td>023_S_0331</td>\n      <td>MCI</td>\n      <td>F</td>\n      <td>72</td>\n      <td>30</td>\n      <td>MT1; GradWarp; N3m</td>\n      <td>Processed</td>\n      <td>2013-04-10</td>\n    </tr>\n    <tr>\n      <th>10899</th>\n      <td>I434271</td>\n      <td>023_S_0331</td>\n      <td>MCI</td>\n      <td>F</td>\n      <td>73</td>\n      <td>32</td>\n      <td>MT1; GradWarp; N3m</td>\n      <td>Processed</td>\n      <td>2014-04-03</td>\n    </tr>\n  </tbody>\n</table>\n<p>78 rows × 9 columns</p>\n</div>"
     },
     "metadata": {},
     "execution_count": 18
    }
   ],
   "source": [
    "df_mprage.query(\"Subject == '023_S_0331'\")"
   ]
  },
  {
   "cell_type": "code",
   "execution_count": 19,
   "metadata": {},
   "outputs": [
    {
     "output_type": "execute_result",
     "data": {
      "text/plain": [
       "     Image Data ID     Subject Group Sex  Age  Visit          Description  \\\n",
       "5902       I128346  002_S_0413    CN   F   77      3  MPR; ; N3; Scaled_2   \n",
       "5900        I40660  002_S_0413    CN   F   77      3          MPR; ; Mask   \n",
       "5907        I40661  002_S_0413    CN   F   77      3            MPR; ; N3   \n",
       "5901        I40670  002_S_0413    CN   F   77      3          MPR; ; Mask   \n",
       "5908        I40671  002_S_0413    CN   F   77      3            MPR; ; N3   \n",
       "5894        I64549  002_S_0413    CN   F   77      4          MPR; ; Mask   \n",
       "5904        I64550  002_S_0413    CN   F   77      4            MPR; ; N3   \n",
       "5897        I64551  002_S_0413    CN   F   77      4    MPR; ; N3; Scaled   \n",
       "5895       I120744  002_S_0413    CN   F   79      6          MPR; ; Mask   \n",
       "5905       I120745  002_S_0413    CN   F   79      6            MPR; ; N3   \n",
       "5899       I120746  002_S_0413    CN   F   79      6    MPR; ; N3; Scaled   \n",
       "5893       I149733  002_S_0413    CN   F   79      8          MPR; ; Mask   \n",
       "5903       I149734  002_S_0413    CN   F   79      8            MPR; ; N3   \n",
       "5896       I149735  002_S_0413    CN   F   79      8    MPR; ; N3; Scaled   \n",
       "5909       I242895  002_S_0413    CN   F   82     26             MT1; N3m   \n",
       "5910       I312701  002_S_0413    CN   F   82     28             MT1; N3m   \n",
       "5906       I373133  002_S_0413    CN   F   83     30             MT1; N3m   \n",
       "5911       I424741  002_S_0413    CN   F   84     32             MT1; N3m   \n",
       "5898       I649030  002_S_0413    CN   F   85     34             MT1; N3m   \n",
       "\n",
       "           Type    Acq Date  \n",
       "5902  Processed  2006-11-15  \n",
       "5900  Processed  2006-11-15  \n",
       "5907  Processed  2006-11-15  \n",
       "5901  Processed  2006-11-15  \n",
       "5908  Processed  2006-11-15  \n",
       "5894  Processed  2007-06-01  \n",
       "5904  Processed  2007-06-01  \n",
       "5897  Processed  2007-06-01  \n",
       "5895  Processed  2008-07-31  \n",
       "5905  Processed  2008-07-31  \n",
       "5899  Processed  2008-07-31  \n",
       "5893  Processed  2009-04-30  \n",
       "5903  Processed  2009-04-30  \n",
       "5896  Processed  2009-04-30  \n",
       "5909  Processed  2011-06-16  \n",
       "5910  Processed  2012-05-15  \n",
       "5906  Processed  2013-05-10  \n",
       "5911  Processed  2014-05-01  \n",
       "5898  Processed  2015-06-09  "
      ],
      "text/html": "<div>\n<style scoped>\n    .dataframe tbody tr th:only-of-type {\n        vertical-align: middle;\n    }\n\n    .dataframe tbody tr th {\n        vertical-align: top;\n    }\n\n    .dataframe thead th {\n        text-align: right;\n    }\n</style>\n<table border=\"1\" class=\"dataframe\">\n  <thead>\n    <tr style=\"text-align: right;\">\n      <th></th>\n      <th>Image Data ID</th>\n      <th>Subject</th>\n      <th>Group</th>\n      <th>Sex</th>\n      <th>Age</th>\n      <th>Visit</th>\n      <th>Description</th>\n      <th>Type</th>\n      <th>Acq Date</th>\n    </tr>\n  </thead>\n  <tbody>\n    <tr>\n      <th>5902</th>\n      <td>I128346</td>\n      <td>002_S_0413</td>\n      <td>CN</td>\n      <td>F</td>\n      <td>77</td>\n      <td>3</td>\n      <td>MPR; ; N3; Scaled_2</td>\n      <td>Processed</td>\n      <td>2006-11-15</td>\n    </tr>\n    <tr>\n      <th>5900</th>\n      <td>I40660</td>\n      <td>002_S_0413</td>\n      <td>CN</td>\n      <td>F</td>\n      <td>77</td>\n      <td>3</td>\n      <td>MPR; ; Mask</td>\n      <td>Processed</td>\n      <td>2006-11-15</td>\n    </tr>\n    <tr>\n      <th>5907</th>\n      <td>I40661</td>\n      <td>002_S_0413</td>\n      <td>CN</td>\n      <td>F</td>\n      <td>77</td>\n      <td>3</td>\n      <td>MPR; ; N3</td>\n      <td>Processed</td>\n      <td>2006-11-15</td>\n    </tr>\n    <tr>\n      <th>5901</th>\n      <td>I40670</td>\n      <td>002_S_0413</td>\n      <td>CN</td>\n      <td>F</td>\n      <td>77</td>\n      <td>3</td>\n      <td>MPR; ; Mask</td>\n      <td>Processed</td>\n      <td>2006-11-15</td>\n    </tr>\n    <tr>\n      <th>5908</th>\n      <td>I40671</td>\n      <td>002_S_0413</td>\n      <td>CN</td>\n      <td>F</td>\n      <td>77</td>\n      <td>3</td>\n      <td>MPR; ; N3</td>\n      <td>Processed</td>\n      <td>2006-11-15</td>\n    </tr>\n    <tr>\n      <th>5894</th>\n      <td>I64549</td>\n      <td>002_S_0413</td>\n      <td>CN</td>\n      <td>F</td>\n      <td>77</td>\n      <td>4</td>\n      <td>MPR; ; Mask</td>\n      <td>Processed</td>\n      <td>2007-06-01</td>\n    </tr>\n    <tr>\n      <th>5904</th>\n      <td>I64550</td>\n      <td>002_S_0413</td>\n      <td>CN</td>\n      <td>F</td>\n      <td>77</td>\n      <td>4</td>\n      <td>MPR; ; N3</td>\n      <td>Processed</td>\n      <td>2007-06-01</td>\n    </tr>\n    <tr>\n      <th>5897</th>\n      <td>I64551</td>\n      <td>002_S_0413</td>\n      <td>CN</td>\n      <td>F</td>\n      <td>77</td>\n      <td>4</td>\n      <td>MPR; ; N3; Scaled</td>\n      <td>Processed</td>\n      <td>2007-06-01</td>\n    </tr>\n    <tr>\n      <th>5895</th>\n      <td>I120744</td>\n      <td>002_S_0413</td>\n      <td>CN</td>\n      <td>F</td>\n      <td>79</td>\n      <td>6</td>\n      <td>MPR; ; Mask</td>\n      <td>Processed</td>\n      <td>2008-07-31</td>\n    </tr>\n    <tr>\n      <th>5905</th>\n      <td>I120745</td>\n      <td>002_S_0413</td>\n      <td>CN</td>\n      <td>F</td>\n      <td>79</td>\n      <td>6</td>\n      <td>MPR; ; N3</td>\n      <td>Processed</td>\n      <td>2008-07-31</td>\n    </tr>\n    <tr>\n      <th>5899</th>\n      <td>I120746</td>\n      <td>002_S_0413</td>\n      <td>CN</td>\n      <td>F</td>\n      <td>79</td>\n      <td>6</td>\n      <td>MPR; ; N3; Scaled</td>\n      <td>Processed</td>\n      <td>2008-07-31</td>\n    </tr>\n    <tr>\n      <th>5893</th>\n      <td>I149733</td>\n      <td>002_S_0413</td>\n      <td>CN</td>\n      <td>F</td>\n      <td>79</td>\n      <td>8</td>\n      <td>MPR; ; Mask</td>\n      <td>Processed</td>\n      <td>2009-04-30</td>\n    </tr>\n    <tr>\n      <th>5903</th>\n      <td>I149734</td>\n      <td>002_S_0413</td>\n      <td>CN</td>\n      <td>F</td>\n      <td>79</td>\n      <td>8</td>\n      <td>MPR; ; N3</td>\n      <td>Processed</td>\n      <td>2009-04-30</td>\n    </tr>\n    <tr>\n      <th>5896</th>\n      <td>I149735</td>\n      <td>002_S_0413</td>\n      <td>CN</td>\n      <td>F</td>\n      <td>79</td>\n      <td>8</td>\n      <td>MPR; ; N3; Scaled</td>\n      <td>Processed</td>\n      <td>2009-04-30</td>\n    </tr>\n    <tr>\n      <th>5909</th>\n      <td>I242895</td>\n      <td>002_S_0413</td>\n      <td>CN</td>\n      <td>F</td>\n      <td>82</td>\n      <td>26</td>\n      <td>MT1; N3m</td>\n      <td>Processed</td>\n      <td>2011-06-16</td>\n    </tr>\n    <tr>\n      <th>5910</th>\n      <td>I312701</td>\n      <td>002_S_0413</td>\n      <td>CN</td>\n      <td>F</td>\n      <td>82</td>\n      <td>28</td>\n      <td>MT1; N3m</td>\n      <td>Processed</td>\n      <td>2012-05-15</td>\n    </tr>\n    <tr>\n      <th>5906</th>\n      <td>I373133</td>\n      <td>002_S_0413</td>\n      <td>CN</td>\n      <td>F</td>\n      <td>83</td>\n      <td>30</td>\n      <td>MT1; N3m</td>\n      <td>Processed</td>\n      <td>2013-05-10</td>\n    </tr>\n    <tr>\n      <th>5911</th>\n      <td>I424741</td>\n      <td>002_S_0413</td>\n      <td>CN</td>\n      <td>F</td>\n      <td>84</td>\n      <td>32</td>\n      <td>MT1; N3m</td>\n      <td>Processed</td>\n      <td>2014-05-01</td>\n    </tr>\n    <tr>\n      <th>5898</th>\n      <td>I649030</td>\n      <td>002_S_0413</td>\n      <td>CN</td>\n      <td>F</td>\n      <td>85</td>\n      <td>34</td>\n      <td>MT1; N3m</td>\n      <td>Processed</td>\n      <td>2015-06-09</td>\n    </tr>\n  </tbody>\n</table>\n</div>"
     },
     "metadata": {},
     "execution_count": 19
    }
   ],
   "source": [
    "df_mprage.query(\"Subject == '002_S_0413'\")"
   ]
  },
  {
   "cell_type": "code",
   "execution_count": 20,
   "metadata": {},
   "outputs": [
    {
     "output_type": "execute_result",
     "data": {
      "text/plain": [
       "         Subject Image Data ID Group Sex  Age  Visit          Description  \\\n",
       "0     002_S_0295       I241350    CN   M   90     26             MT1; N3m   \n",
       "1     002_S_0413       I128346    CN   F   77      3  MPR; ; N3; Scaled_2   \n",
       "2     002_S_0559        I73322    CN   M   80      3          MPR; ; Mask   \n",
       "3     002_S_0685       I300264    CN   F   95     26             MT1; N3m   \n",
       "4     002_S_0729       I118668   MCI   F   65      2  MPR; ; N3; Scaled_2   \n",
       "...          ...           ...   ...  ..  ...    ...                  ...   \n",
       "1221  941_S_4377       I275760  LMCI   F   69     22   MT1; GradWarp; N3m   \n",
       "1222  941_S_4420       I294867  EMCI   M   81     22   MT1; GradWarp; N3m   \n",
       "1223  941_S_4764       I312638  EMCI   F   83     22   MT1; GradWarp; N3m   \n",
       "1224  941_S_5124       I368981   SMC   F   77     22   MT1; GradWarp; N3m   \n",
       "1225  941_S_5193       I375627   SMC   F   73     22   MT1; GradWarp; N3m   \n",
       "\n",
       "           Type    Acq Date  \n",
       "0     Processed  2011-06-02  \n",
       "1     Processed  2006-11-15  \n",
       "2     Processed  2006-12-12  \n",
       "3     Processed  2011-07-08  \n",
       "4     Processed  2006-08-02  \n",
       "...         ...         ...  \n",
       "1221  Processed  2012-01-04  \n",
       "1222  Processed  2012-03-28  \n",
       "1223  Processed  2012-06-01  \n",
       "1224  Processed  2013-04-09  \n",
       "1225  Processed  2013-05-29  \n",
       "\n",
       "[1226 rows x 9 columns]"
      ],
      "text/html": "<div>\n<style scoped>\n    .dataframe tbody tr th:only-of-type {\n        vertical-align: middle;\n    }\n\n    .dataframe tbody tr th {\n        vertical-align: top;\n    }\n\n    .dataframe thead th {\n        text-align: right;\n    }\n</style>\n<table border=\"1\" class=\"dataframe\">\n  <thead>\n    <tr style=\"text-align: right;\">\n      <th></th>\n      <th>Subject</th>\n      <th>Image Data ID</th>\n      <th>Group</th>\n      <th>Sex</th>\n      <th>Age</th>\n      <th>Visit</th>\n      <th>Description</th>\n      <th>Type</th>\n      <th>Acq Date</th>\n    </tr>\n  </thead>\n  <tbody>\n    <tr>\n      <th>0</th>\n      <td>002_S_0295</td>\n      <td>I241350</td>\n      <td>CN</td>\n      <td>M</td>\n      <td>90</td>\n      <td>26</td>\n      <td>MT1; N3m</td>\n      <td>Processed</td>\n      <td>2011-06-02</td>\n    </tr>\n    <tr>\n      <th>1</th>\n      <td>002_S_0413</td>\n      <td>I128346</td>\n      <td>CN</td>\n      <td>F</td>\n      <td>77</td>\n      <td>3</td>\n      <td>MPR; ; N3; Scaled_2</td>\n      <td>Processed</td>\n      <td>2006-11-15</td>\n    </tr>\n    <tr>\n      <th>2</th>\n      <td>002_S_0559</td>\n      <td>I73322</td>\n      <td>CN</td>\n      <td>M</td>\n      <td>80</td>\n      <td>3</td>\n      <td>MPR; ; Mask</td>\n      <td>Processed</td>\n      <td>2006-12-12</td>\n    </tr>\n    <tr>\n      <th>3</th>\n      <td>002_S_0685</td>\n      <td>I300264</td>\n      <td>CN</td>\n      <td>F</td>\n      <td>95</td>\n      <td>26</td>\n      <td>MT1; N3m</td>\n      <td>Processed</td>\n      <td>2011-07-08</td>\n    </tr>\n    <tr>\n      <th>4</th>\n      <td>002_S_0729</td>\n      <td>I118668</td>\n      <td>MCI</td>\n      <td>F</td>\n      <td>65</td>\n      <td>2</td>\n      <td>MPR; ; N3; Scaled_2</td>\n      <td>Processed</td>\n      <td>2006-08-02</td>\n    </tr>\n    <tr>\n      <th>...</th>\n      <td>...</td>\n      <td>...</td>\n      <td>...</td>\n      <td>...</td>\n      <td>...</td>\n      <td>...</td>\n      <td>...</td>\n      <td>...</td>\n      <td>...</td>\n    </tr>\n    <tr>\n      <th>1221</th>\n      <td>941_S_4377</td>\n      <td>I275760</td>\n      <td>LMCI</td>\n      <td>F</td>\n      <td>69</td>\n      <td>22</td>\n      <td>MT1; GradWarp; N3m</td>\n      <td>Processed</td>\n      <td>2012-01-04</td>\n    </tr>\n    <tr>\n      <th>1222</th>\n      <td>941_S_4420</td>\n      <td>I294867</td>\n      <td>EMCI</td>\n      <td>M</td>\n      <td>81</td>\n      <td>22</td>\n      <td>MT1; GradWarp; N3m</td>\n      <td>Processed</td>\n      <td>2012-03-28</td>\n    </tr>\n    <tr>\n      <th>1223</th>\n      <td>941_S_4764</td>\n      <td>I312638</td>\n      <td>EMCI</td>\n      <td>F</td>\n      <td>83</td>\n      <td>22</td>\n      <td>MT1; GradWarp; N3m</td>\n      <td>Processed</td>\n      <td>2012-06-01</td>\n    </tr>\n    <tr>\n      <th>1224</th>\n      <td>941_S_5124</td>\n      <td>I368981</td>\n      <td>SMC</td>\n      <td>F</td>\n      <td>77</td>\n      <td>22</td>\n      <td>MT1; GradWarp; N3m</td>\n      <td>Processed</td>\n      <td>2013-04-09</td>\n    </tr>\n    <tr>\n      <th>1225</th>\n      <td>941_S_5193</td>\n      <td>I375627</td>\n      <td>SMC</td>\n      <td>F</td>\n      <td>73</td>\n      <td>22</td>\n      <td>MT1; GradWarp; N3m</td>\n      <td>Processed</td>\n      <td>2013-05-29</td>\n    </tr>\n  </tbody>\n</table>\n<p>1226 rows × 9 columns</p>\n</div>"
     },
     "metadata": {},
     "execution_count": 20
    }
   ],
   "source": [
    "df_mprage_subjects = df_mprage.groupby(\"Subject\").first().reset_index()\n",
    "df_mprage_subjects"
   ]
  },
  {
   "cell_type": "code",
   "execution_count": 58,
   "metadata": {},
   "outputs": [],
   "source": [
    "df_mprage_subjects['Image Data ID'] = df_mprage_subjects['Image Data ID'].str.replace(\"I\",\"\")\n"
   ]
  },
  {
   "cell_type": "code",
   "execution_count": 59,
   "metadata": {},
   "outputs": [
    {
     "output_type": "execute_result",
     "data": {
      "text/plain": [
       "      Subject Image Data ID Group Sex  Age  Visit          Description  \\\n",
       "0  002_S_0295        241350    CN   M   90     26             MT1; N3m   \n",
       "1  002_S_0413        128346    CN   F   77      3  MPR; ; N3; Scaled_2   \n",
       "2  002_S_0559         73322    CN   M   80      3          MPR; ; Mask   \n",
       "3  002_S_0685        300264    CN   F   95     26             MT1; N3m   \n",
       "4  002_S_0729        118668   MCI   F   65      2  MPR; ; N3; Scaled_2   \n",
       "5  002_S_0816        118684    AD   M   71      2  MPR; ; N3; Scaled_2   \n",
       "6  002_S_0954        118694   MCI   F   70      2  MPR; ; N3; Scaled_2   \n",
       "7  002_S_1018         40824    AD   F   71      2          MPR; ; Mask   \n",
       "8  002_S_1070         40838   MCI   M   74      2          MPR; ; Mask   \n",
       "9  002_S_1155        281853   MCI   M   63     26             MT1; N3m   \n",
       "\n",
       "        Type    Acq Date  \n",
       "0  Processed  2011-06-02  \n",
       "1  Processed  2006-11-15  \n",
       "2  Processed  2006-12-12  \n",
       "3  Processed  2011-07-08  \n",
       "4  Processed  2006-08-02  \n",
       "5  Processed  2006-09-29  \n",
       "6  Processed  2006-11-08  \n",
       "7  Processed  2006-12-18  \n",
       "8  Processed  2006-12-18  \n",
       "9  Processed  2011-12-22  "
      ],
      "text/html": "<div>\n<style scoped>\n    .dataframe tbody tr th:only-of-type {\n        vertical-align: middle;\n    }\n\n    .dataframe tbody tr th {\n        vertical-align: top;\n    }\n\n    .dataframe thead th {\n        text-align: right;\n    }\n</style>\n<table border=\"1\" class=\"dataframe\">\n  <thead>\n    <tr style=\"text-align: right;\">\n      <th></th>\n      <th>Subject</th>\n      <th>Image Data ID</th>\n      <th>Group</th>\n      <th>Sex</th>\n      <th>Age</th>\n      <th>Visit</th>\n      <th>Description</th>\n      <th>Type</th>\n      <th>Acq Date</th>\n    </tr>\n  </thead>\n  <tbody>\n    <tr>\n      <th>0</th>\n      <td>002_S_0295</td>\n      <td>241350</td>\n      <td>CN</td>\n      <td>M</td>\n      <td>90</td>\n      <td>26</td>\n      <td>MT1; N3m</td>\n      <td>Processed</td>\n      <td>2011-06-02</td>\n    </tr>\n    <tr>\n      <th>1</th>\n      <td>002_S_0413</td>\n      <td>128346</td>\n      <td>CN</td>\n      <td>F</td>\n      <td>77</td>\n      <td>3</td>\n      <td>MPR; ; N3; Scaled_2</td>\n      <td>Processed</td>\n      <td>2006-11-15</td>\n    </tr>\n    <tr>\n      <th>2</th>\n      <td>002_S_0559</td>\n      <td>73322</td>\n      <td>CN</td>\n      <td>M</td>\n      <td>80</td>\n      <td>3</td>\n      <td>MPR; ; Mask</td>\n      <td>Processed</td>\n      <td>2006-12-12</td>\n    </tr>\n    <tr>\n      <th>3</th>\n      <td>002_S_0685</td>\n      <td>300264</td>\n      <td>CN</td>\n      <td>F</td>\n      <td>95</td>\n      <td>26</td>\n      <td>MT1; N3m</td>\n      <td>Processed</td>\n      <td>2011-07-08</td>\n    </tr>\n    <tr>\n      <th>4</th>\n      <td>002_S_0729</td>\n      <td>118668</td>\n      <td>MCI</td>\n      <td>F</td>\n      <td>65</td>\n      <td>2</td>\n      <td>MPR; ; N3; Scaled_2</td>\n      <td>Processed</td>\n      <td>2006-08-02</td>\n    </tr>\n    <tr>\n      <th>5</th>\n      <td>002_S_0816</td>\n      <td>118684</td>\n      <td>AD</td>\n      <td>M</td>\n      <td>71</td>\n      <td>2</td>\n      <td>MPR; ; N3; Scaled_2</td>\n      <td>Processed</td>\n      <td>2006-09-29</td>\n    </tr>\n    <tr>\n      <th>6</th>\n      <td>002_S_0954</td>\n      <td>118694</td>\n      <td>MCI</td>\n      <td>F</td>\n      <td>70</td>\n      <td>2</td>\n      <td>MPR; ; N3; Scaled_2</td>\n      <td>Processed</td>\n      <td>2006-11-08</td>\n    </tr>\n    <tr>\n      <th>7</th>\n      <td>002_S_1018</td>\n      <td>40824</td>\n      <td>AD</td>\n      <td>F</td>\n      <td>71</td>\n      <td>2</td>\n      <td>MPR; ; Mask</td>\n      <td>Processed</td>\n      <td>2006-12-18</td>\n    </tr>\n    <tr>\n      <th>8</th>\n      <td>002_S_1070</td>\n      <td>40838</td>\n      <td>MCI</td>\n      <td>M</td>\n      <td>74</td>\n      <td>2</td>\n      <td>MPR; ; Mask</td>\n      <td>Processed</td>\n      <td>2006-12-18</td>\n    </tr>\n    <tr>\n      <th>9</th>\n      <td>002_S_1155</td>\n      <td>281853</td>\n      <td>MCI</td>\n      <td>M</td>\n      <td>63</td>\n      <td>26</td>\n      <td>MT1; N3m</td>\n      <td>Processed</td>\n      <td>2011-12-22</td>\n    </tr>\n  </tbody>\n</table>\n</div>"
     },
     "metadata": {},
     "execution_count": 59
    }
   ],
   "source": [
    "df_mprage_subjects.head(10) "
   ]
  },
  {
   "cell_type": "code",
   "execution_count": 48,
   "metadata": {},
   "outputs": [
    {
     "output_type": "execute_result",
     "data": {
      "text/plain": [
       "1226"
      ]
     },
     "metadata": {},
     "execution_count": 48
    }
   ],
   "source": [
    "subjects = df_mprage_subjects.shape[0]\n",
    "subjects"
   ]
  },
  {
   "cell_type": "code",
   "execution_count": 66,
   "metadata": {},
   "outputs": [
    {
     "output_type": "execute_result",
     "data": {
      "text/plain": [
       "25"
      ]
     },
     "metadata": {},
     "execution_count": 66
    }
   ],
   "source": [
    "chunks = int(np.ceil(subjects/50))\n",
    "chunks"
   ]
  },
  {
   "cell_type": "code",
   "execution_count": 65,
   "metadata": {},
   "outputs": [
    {
     "output_type": "stream",
     "name": "stdout",
     "text": [
      "Images to download: 1/50\n['241350', '128346', '73322', '300264', '118668', '118684', '118694', '40824', '40838', '281853', '65559', '65264', '65863', '221959', '222697', '222705', '250649', '255409', '258694', '258686', '260229', '260237', '260241', '261069', '261067']\n-------------------------------\nImages to download: 2/50\n['261073', '280562', '285129', '286639', '297035', '312646', '312847', '349888', '374467', '379928', '384094', '387732', '387733', '387734', '52770', '73500', '387735', '387736', '412381', '387737', '387738', '764998', '398108', '250657', '250637']\n-------------------------------\nImages to download: 3/50\n['260245', '267757', '270043', '270050', '280570', '283929', '283956', '295949', '312648', '306760', '322531', '340498', '369218', '338650', '727838', '272824', '222736', '236978', '272728', '267745', '272772', '272700', '285480', '431819', '290967']\n-------------------------------\nImages to download: 4/50\n['295885', '312755', '315320', '335416', '339153', '349550', '353184', '358355', '414458', '432901', '432910', '414460', '414462', '65573', '118705', '119024', '118703', '118702', '118707', '118704', '248671', '283940', '285157', '377155', '35470']\n-------------------------------\nImages to download: 5/50\n['32231', '32240', '32249', '32268', '32304', '32330', '32370', '32400', '35480', '35489', '32001', '32015', '32023', '32025', '32027', '35511', '35589', '62633', '286683', '241381', '431749', '248611', '258684', '260231', '263685']\n-------------------------------\nImages to download: 6/50\n['267763', '296413', '315322', '321232', '335396', '331853', '327035', '337435', '118736', '118739', '118740', '118743', '118744', '118716', '118719', '118715', '118717', '118718', '118741', '118729', '118738', '118742', '118746', '118745', '248646']\n-------------------------------\nImages to download: 7/50\n['241356', '296415', '250623', '258662', '291049', '300944', '300513', '321316', '351339', '364667', '374561', '377881', '384096', '51145', '54662', '51136', '51154', '387756', '62643', '51531', '51181', '51163', '51492', '51483', '62653']\n-------------------------------\nImages to download: 8/50\n['51540', '62663', '387757', '225559', '299280', '263687', '265254', '280662', '297648', '297655', '300287', '300289', '312668', '321306', '338588', '331857', '352005', '362973', '369614', '377079', '222749', '222751', '241346', '238666', '241390']\n-------------------------------\nImages to download: 9/50\n['242899', '242900', '296282', '261065', '267747', '270063', '290963', '293681', '295883', '300955', '92667', '96219', '40770', '51513', '40779', '48865', '387791', '40797', '101405', '46381', '96228', '86043', '95613', '387759', '62237']\n-------------------------------\nImages to download: 10/50\n['119794', '119795', '119796', '118827', '119797', '119798', '119799', '119800', '118783', '118777', '118773', '35022', '139889', '35027', '35037', '118761', '222775', '222777', '222779', '222781', '263738', '270069', '267767', '272814', '274508']\n-------------------------------\nImages to download: 11/50\n['300508', '305601', '306751', '312861', '321264', '326529', '362983', '384090', '388409', '388025', '297290', '297292', '297294', '272652', '281432', '288881', '300946', '300948', '321304', '349820', '349866', '374565', '379548', '64044', '387760']\n-------------------------------\nImages to download: 12/50\n['60671', '60616', '60661', '300260', '337444', '369385', '377764', '33483', '82160', '64625', '59364', '59373', '59395', '59443', '59454', '59482', '59522', '59531', '59541', '64670', '59550', '59570', '86641', '87021', '222825']\n-------------------------------\nImages to download: 13/50\n['222841', '222851', '236970', '241800', '258657', '417074', '267771', '270056', '283918', '285472', '321453', '337554', '349822', '118750', '118843', '31078', '108504', '31096', '51994', '118869', '118874', '31200', '118969', '31265', '118971']\n-------------------------------\nImages to download: 14/50\n['31340', '118975', '118976', '118853', '118875', '119027', '31489', '118985', '118988', '118879', '118892', '118903', '46390', '48844', '124869', '118919', '118994', '118923', '118925', '118927', '222458', '233460', '241370', '248665', '255419']\n-------------------------------\nImages to download: 15/50\n['254783', '254819', '283936', '267751', '281430', '293685', '290953', '326638', '374612', '388415', '222916', '241394', '254754', '254748', '255407', '258623', '263676', '275417', '295887', '300950', '326594', '353186', '391092', '34166', '34184']\n-------------------------------\nImages to download: 16/50\n['34193', '34211', '35650', '47175', '47184', '47235', '65372', '47729', '439320', '122672', '138786', '90914', '90923', '222937', '222947', '222954', '222973', '228527', '232862', '229343', '232860', '235655', '235659', '250647', '258680']\n-------------------------------\nImages to download: 17/50\n['258666', '258660', '281434', '281841', '283922', '291927', '305613', '340502', '119077', '124904', '119080', '119084', '119087', '119090', '119102', '119105', '119112', '119114', '119116', '119118', '222998', '223008', '223011', '263730', '265197']\n-------------------------------\nImages to download: 18/50\n['267781', '273518', '274506', '314561', '322260', '335406', '388431', '398319', '119124', '119129', '119131', '119133', '42484', '42500', '42516', '42792', '42808', '42835', '51596', '51616', '391094', '392131', '254779', '363272', '363274']\n-------------------------------\nImages to download: 19/50\n['363276', '370737', '363278', '377083', '379955', '388433', '45163', '45181', '39531', '39540', '39567', '45211', '39599', '62905', '223013', '223015', '223017', '223019', '296308', '296310', '248632', '272818', '291903', '281845', '291896']\n-------------------------------\nImages to download: 20/50\n['315324', '313649', '377163', '68511', '36912', '36922', '36936', '36947', '36957', '36967', '38649', '36977', '36987', '36997', '65089', '38659', '65098', '65107', '65116', '238655', '241348', '272716', '274667', '283932', '290955']\n-------------------------------\nImages to download: 21/50\n['297891', '432422', '305484', '312653', '371245', '322288', '322303', '326520', '342433', '358062', '371899', '371248', '377052', '384098', '388447', '388449', '448290', '64114', '420269', '358064', '427836', '79778', '351390', '138822', '351960']\n-------------------------------\nImages to download: 22/50\n['79937', '223021', '297310', '228531', '229326', '234654', '296313', '255435', '258627', '263752', '286641', '280574', '274518', '283930', '305482', '314559', '322292', '335394', '414488', '414490', '414492', '35669', '124895', '39477', '34678']\n-------------------------------\nImages to download: 23/50\n['34687', '40171', '39493', '40035', '40044', '40053', '34696', '65218', '65228', '65237', '65246', '62931', '80159', '72217', '73636', '79621', '72226', '73354', '79630', '229337', '229335', '238644', '238651', '241798', '241342']\n-------------------------------\nImages to download: 24/50\n['241802', '248650', '248677', '260243', '261081', '273511', '273513', '283920', '305455', '285452', '296425', '300952', '308100', '322301', '326580', '334044', '342430', '342390', '415949', '363334', '363336', '371403', '371416', '371434', '371441']\n-------------------------------\nImages to download: 25/50\n['373199', '377026', '382256', '388460', '58032', '58009', '58041', '62940', '58019', '64150', '57997', '337439', '349583', '349824', '398096', '401939', '398094', '119148', '357960', '229333', '248669', '291000', '291936', '308047', '322469']\n-------------------------------\nImages to download: 26/50\n['357854', '376832', '377879', '388027', '391059', '416077', '34705', '34714', '34723', '80623', '121429', '38658', '34732', '34741', '34750', '47763', '62981', '69490', '68543', '62991', '63001', '63011', '248625', '296316', '50423']\n-------------------------------\nImages to download: 27/50\n['50457', '50466', '50485', '50504', '50522', '50540', '50551', '50564', '50573', '50582', '119178', '66034', '38706', '119180', '119182', '35882', '119186', '119188', '119190', '68114', '119209', '35927', '119195', '119196', '34813']\n-------------------------------\nImages to download: 28/50\n['119198', '34831', '34840', '119202', '119203', '38724', '119205', '63089', '55027', '296317', '223044', '223055', '223058', '223061', '238653', '296321', '248628', '255433', '255421', '265199', '312636', '312678', '322519', '337565', '371250']\n-------------------------------\nImages to download: 29/50\n['374643', '377885', '382254', '915501', '764965', '498019', '223063', '223065', '223067', '223069', '223073', '223075', '223077', '225398', '225403', '241364', '241366', '248663', '254775', '255437', '261077', '267769', '270045', '274671', '286646']\n-------------------------------\nImages to download: 30/50\n['322529', '334118', '363362', '374660', '382249', '305605', '845647', '306756', '313662', '314555', '322550', '351376', '119223', '64955', '119226', '223219', '223240', '222683', '223251', '223259', '223263', '223267', '223271', '223279', '300515']\n-------------------------------\nImages to download: 31/50\n['241377', '241403', '248636', '248634', '248648', '255405', '258717', '272712', '272714', '277671', '275763', '280556', '283938', '285484', '286083', '296336', '296300', '296327', '296329', '312749', '322625', '326503', '340527', '377166', '387761']\n-------------------------------\nImages to download: 32/50\n['119229', '119230', '119231', '119232', '119233', '119234', '49462', '63095', '119235', '63097', '63099', '223283', '223287', '223291', '223297', '223326', '223345', '248679', '254822', '258631', '261063', '263689', '263680', '263682', '267765']\n-------------------------------\nImages to download: 33/50\n['267773', '270031', '270054', '274669', '285131', '285488', '288879', '291929', '308102', '312670', '315318', '312686', '312680', '315370', '322646', '339187', '350255', '349543', '421245', '363221', '377168', '389155', '95647', '119238', '119240']\n-------------------------------\nImages to download: 34/50\n['39764', '107888', '109531', '387815', '123242', '80878', '123756', '223357', '223362', '223367', '241401', '255417', '258690', '263728', '267749', '274514', '349694', '414450', '432912', '374699', '388019', '387866', '391070', '272760', '34601']\n-------------------------------\nImages to download: 35/50\n['35815', '35823', '35831', '35839', '35847', '34522', '34535', '34544', '34561', '38768', '38780', '34573', '34581', '68579', '34589', '47951', '102032', '300278', '296532', '223458', '223462', '229339', '296345', '296347', '296349']\n-------------------------------\nImages to download: 36/50\n['248667', '254781', '260235', '261079', '283954', '283926', '286093', '291051', '295863', '350327', '414371', '424731', '766479', '236967', '290965', '290957', '300298', '305408', '362884', '351546', '362911', '362900', '371986', '371988', '369381']\n-------------------------------\nImages to download: 37/50\n['387889', '389161', '119258', '82583', '119259', '97194', '119260', '119262', '119264', '119263', '119265', '119266', '63496', '66174', '39736', '96315', '49733', '39762', '95686', '39788', '39830', '39839', '39848', '39857', '49755']\n-------------------------------\nImages to download: 38/50\n['49908', '49765', '242885', '281847', '280917', '352008', '389165', '53799', '53808', '59671', '63506', '63515', '67246', '53830', '53839', '223485', '228507', '236974', '242878', '258635', '254787', '255413', '254785', '254813', '267741']\n-------------------------------\nImages to download: 39/50\n['281425', '281407', '286637', '296584', '296402', '312655', '322343', '326508', '91106', '119268', '119269', '165341', '225427', '229341', '248656', '250621', '254811', '270052', '285119', '312845', '312849', '335975', '119365', '119367', '119368']\n-------------------------------\nImages to download: 40/50\n['119370', '119372', '119374', '80786', '90581', '68716', '119382', '119384', '119386', '68887', '119391', '68933', '119396', '69688', '69062', '119408', '119409', '119410', '90612', '69116', '94656', '223497', '223503', '223507', '223509']\n-------------------------------\nImages to download: 41/50\n['223513', '223515', '223519', '223521', '223523', '223525', '225593', '286635', '290959', '312674', '291878', '296810', '295859', '296406', '295861', '300250', '305440', '312658', '312672', '312736', '312864', '312843', '322932', '322939', '358509']\n-------------------------------\nImages to download: 42/50\n['382247', '339147', '299333', '438118', '340523', '349593', '351544', '322943', '351440', '321310', '848307', '234666', '297599', '260239', '414448', '261071', '270027', '267761', '270018', '280550', '280552', '280572', '283934', '400998', '291894']\n-------------------------------\nImages to download: 43/50\n['294875', '296408', '300302', '308045', '322951', '326532', '340500', '350510', '349785', '350508', '349560', '414602', '351548', '362848', '432883', '414452', '414454', '414456', '376955', '376957', '119481', '119487', '119504', '119511', '119521']\n-------------------------------\nImages to download: 44/50\n['119528', '51082', '51089', '119611', '40957', '119635', '40007', '119647', '119653', '263683', '263754', '267753', '272692', '280558', '283942', '290940', '291884', '297888', '300297', '305422', '305478', '305615', '305621', '322957', '337552']\n-------------------------------\nImages to download: 45/50\n['349914', '377193', '384808', '388923', '388925', '338652', '370255', '258682', '265203', '281843', '280564', '295879', '312682', '312684', '334095', '349353', '375873', '350463', '349804', '305443', '337453', '338594', '337467', '357731', '353188']\n-------------------------------\nImages to download: 46/50\n['357752', '258692', '258688', '261075', '265267', '265269', '267777', '270058', '281889', '285903', '296355', '288887', '300252', '291882', '296410', '305433', '305446', '300256', '305449', '312660', '326526', '326584', '322345', '388927', '47859']\n-------------------------------\nImages to download: 47/50\n['82730', '91229', '98882', '94785', '47078', '91251', '47112', '47868', '47709', '112290', '48570', '47700', '95702', '47746', '47710', '47720', '47730', '48579', '48588', '64433', '92644', '48597', '48606', '91301', '222640']\n-------------------------------\nImages to download: 48/50\n['225435', '238647', '258664', '260223', '274512', '277041', '277669', '280560', '305539', '312866', '322992', '334124', '342384', '223530', '223535', '296357', '248630', '248654', '250661', '254777', '254764', '254766', '254770', '265201', '270067']\n-------------------------------\nImages to download: 49/50\n['295881', '323002', '384092', '384777', '63845', '63858', '66460', '63868', '63877', '63886', '97330', '63895', '223539', '236982', '241396', '248626', '258653', '261061', '272646', '270042', '300498', '275760', '294867', '312638', '368981']\n-------------------------------\nImages to download: 50/50\n['375627']\n-------------------------------\n"
     ]
    }
   ],
   "source": [
    "max_count = len(range(0,subjects,chunks))\n",
    "for count,i in enumerate(range(0,subjects,chunks)):\n",
    "    print(f\"Images to download: {count+1}/{max_count}\")\n",
    "    print(df_mprage_subjects.iloc[i:i+chunks]['Image Data ID'].str.replace(\"I\",\"\").tolist())\n",
    "    print(\"-------------------------------\")"
   ]
  },
  {
   "cell_type": "code",
   "execution_count": 27,
   "metadata": {},
   "outputs": [
    {
     "output_type": "execute_result",
     "data": {
      "text/plain": [
       "[241350,\n",
       " 128346,\n",
       " 73322,\n",
       " 300264,\n",
       " 118668,\n",
       " 118684,\n",
       " 118694,\n",
       " 40824,\n",
       " 40838,\n",
       " 281853,\n",
       " 65559,\n",
       " 65264,\n",
       " 65863,\n",
       " 221959,\n",
       " 222697,\n",
       " 222705,\n",
       " 250649,\n",
       " 255409,\n",
       " 258694,\n",
       " 258686,\n",
       " 260229,\n",
       " 260237,\n",
       " 260241,\n",
       " 261069,\n",
       " 261067,\n",
       " 261073,\n",
       " 280562,\n",
       " 285129,\n",
       " 286639,\n",
       " 297035,\n",
       " 312646,\n",
       " 312847,\n",
       " 349888,\n",
       " 374467,\n",
       " 379928,\n",
       " 384094,\n",
       " 387732,\n",
       " 387733,\n",
       " 387734,\n",
       " 52770,\n",
       " 73500,\n",
       " 387735,\n",
       " 387736,\n",
       " 412381,\n",
       " 387737,\n",
       " 387738,\n",
       " 764998,\n",
       " 398108,\n",
       " 250657,\n",
       " 250637,\n",
       " 260245,\n",
       " 267757,\n",
       " 270043,\n",
       " 270050,\n",
       " 280570,\n",
       " 283929,\n",
       " 283956,\n",
       " 295949,\n",
       " 312648,\n",
       " 306760,\n",
       " 322531,\n",
       " 340498,\n",
       " 369218,\n",
       " 338650,\n",
       " 727838,\n",
       " 272824,\n",
       " 222736,\n",
       " 236978,\n",
       " 272728,\n",
       " 267745,\n",
       " 272772,\n",
       " 272700,\n",
       " 285480,\n",
       " 431819,\n",
       " 290967,\n",
       " 295885,\n",
       " 312755,\n",
       " 315320,\n",
       " 335416,\n",
       " 339153,\n",
       " 349550,\n",
       " 353184,\n",
       " 358355,\n",
       " 414458,\n",
       " 432901,\n",
       " 432910,\n",
       " 414460,\n",
       " 414462,\n",
       " 65573,\n",
       " 118705,\n",
       " 119024,\n",
       " 118703,\n",
       " 118702,\n",
       " 118707,\n",
       " 118704,\n",
       " 248671,\n",
       " 283940,\n",
       " 285157,\n",
       " 377155,\n",
       " 35470,\n",
       " 32231,\n",
       " 32240,\n",
       " 32249,\n",
       " 32268,\n",
       " 32304,\n",
       " 32330,\n",
       " 32370,\n",
       " 32400,\n",
       " 35480,\n",
       " 35489]"
      ]
     },
     "metadata": {},
     "execution_count": 27
    }
   ],
   "source": [
    "df_mprage_subjects.iloc[:110]['Image Data ID'].str.replace(\"I\",\"\").astype(int).tolist()"
   ]
  }
 ]
}