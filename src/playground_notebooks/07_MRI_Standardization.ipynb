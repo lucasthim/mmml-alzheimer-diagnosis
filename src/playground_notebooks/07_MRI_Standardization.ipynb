{
 "cells": [
  {
   "cell_type": "markdown",
   "metadata": {},
   "source": [
    "# Test Standardization of MRIs with Atlas"
   ]
  },
  {
   "cell_type": "markdown",
   "metadata": {},
   "source": [
    "### Steps:\n",
    "1. import registration atlas\n",
    "2. import image\n",
    "3. get registration atlas voxel intensity\n",
    "4. Select 0.02 and 0.98 intensity percentile from atlas as reference\n",
    "5. Apply MinMax scaling ? or take mean and std?. "
   ]
  },
  {
   "cell_type": "code",
   "execution_count": null,
   "metadata": {},
   "outputs": [],
   "source": []
  },
  {
   "cell_type": "code",
   "execution_count": null,
   "metadata": {},
   "outputs": [],
   "source": []
  },
  {
   "cell_type": "code",
   "execution_count": null,
   "metadata": {},
   "outputs": [],
   "source": []
  }
 ],
 "metadata": {
  "kernelspec": {
   "display_name": "Python 3.7.0 64-bit ('deepbrain': conda)",
   "name": "python370jvsc74a57bd02a1823ae6b0419025612a81f31c35e15188a782050175c44d81e3141d940b116"
  },
  "language_info": {
   "name": "python",
   "nbconvert_exporter": "python",
   "version": "3.7.0"
  },
  "orig_nbformat": 2
 },
 "nbformat": 4,
 "nbformat_minor": 2
}