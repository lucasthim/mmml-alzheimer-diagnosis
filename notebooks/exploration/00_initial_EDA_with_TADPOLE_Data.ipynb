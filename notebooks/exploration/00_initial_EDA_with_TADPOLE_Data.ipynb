{
 "cells": [
  {
   "cell_type": "code",
   "execution_count": 1,
   "metadata": {},
   "outputs": [],
   "source": [
    "import pandas as pd\n",
    "import numpy as np\n",
    "\n",
    "pd.set_option('display.max_columns', 100)\n",
    "pd.set_option('display.max_rows', 100)"
   ]
  },
  {
   "cell_type": "markdown",
   "metadata": {},
   "source": [
    "# Analysing TADPOLE  files"
   ]
  },
  {
   "cell_type": "code",
   "execution_count": 2,
   "metadata": {},
   "outputs": [
    {
     "output_type": "execute_result",
     "data": {
      "text/plain": [
       "(12741, 1907)"
      ]
     },
     "metadata": {},
     "execution_count": 2
    }
   ],
   "source": [
    "df_tadpole_d1d2 = pd.read_csv('tadpole_challenge/TADPOLE_D1_D2.csv')\n",
    "df_tadpole_d1d2.sort_values(\"RID\",inplace=True)\n",
    "df_tadpole_d1d2.shape"
   ]
  },
  {
   "cell_type": "code",
   "execution_count": 3,
   "metadata": {},
   "outputs": [
    {
     "output_type": "execute_result",
     "data": {
      "text/plain": [
       "(1918, 5)"
      ]
     },
     "metadata": {},
     "execution_count": 3
    }
   ],
   "source": [
    "df_tadpole_d1d2dict = pd.read_csv('tadpole_challenge/TADPOLE_D1_D2_Dict.csv')[[\"FLDNAME\",\"TBLNAME\",\"CRFNAME\",\"TEXT\",\"NOTES\"]]\n",
    "df_tadpole_d1d2dict.shape"
   ]
  },
  {
   "cell_type": "code",
   "execution_count": 4,
   "metadata": {},
   "outputs": [
    {
     "output_type": "execute_result",
     "data": {
      "text/plain": [
       "['analysis.py',\n",
       " 'ADNI1_Complete_1Yr_1.5T_1_23_2021.csv',\n",
       " 'freesurfer-Linux-centos6_x86_64-stable-pub-v6.0.0.tar.gz',\n",
       " 'analysis_mri_pet_metadata.ipynb',\n",
       " 'tadpole_challenge',\n",
       " '01_initial_exploratory_data_analysis.ipynb',\n",
       " 'MRIMETA.csv',\n",
       " '.ipynb_checkpoints',\n",
       " '.vscode']"
      ]
     },
     "metadata": {},
     "execution_count": 4
    }
   ],
   "source": [
    "import os\n",
    "os.listdir()"
   ]
  },
  {
   "cell_type": "code",
   "execution_count": 7,
   "metadata": {},
   "outputs": [
    {
     "output_type": "execute_result",
     "data": {
      "text/plain": [
       "       RID        PTID VISCODE  SITE  D1  D2 COLPROT ORIGPROT    EXAMDATE  \\\n",
       "0        2  011_S_0002      bl    11   1   1   ADNI1    ADNI1  2005-09-08   \n",
       "11959    2  011_S_0002    m120    11   1   1   ADNI2    ADNI1  2015-09-22   \n",
       "11571    2  011_S_0002    m108    11   1   1   ADNI2    ADNI1  2014-10-13   \n",
       "10836    2  011_S_0002    m102    11   1   1   ADNI2    ADNI1  2014-03-17   \n",
       "5731     2  011_S_0002     m96    11   1   1   ADNI2    ADNI1  2013-09-09   \n",
       "5730     2  011_S_0002     m90    11   1   1   ADNI2    ADNI1  2013-03-25   \n",
       "5729     2  011_S_0002     m84    11   1   1   ADNI2    ADNI1  2012-09-26   \n",
       "5728     2  011_S_0002     m78    11   1   1   ADNI2    ADNI1  2012-03-22   \n",
       "5726     2  011_S_0002     m66    11   1   1  ADNIGO    ADNI1  2011-03-04   \n",
       "5725     2  011_S_0002     m60    11   1   1  ADNIGO    ADNI1  2010-09-22   \n",
       "5724     2  011_S_0002     m36    11   1   1   ADNI1    ADNI1  2008-08-27   \n",
       "5723     2  011_S_0002     m06    11   1   1   ADNI1    ADNI1  2006-03-06   \n",
       "5727     2  011_S_0002     m72    11   1   1   ADNI2    ADNI1  2011-09-19   \n",
       "1        3  011_S_0003      bl    11   1   0   ADNI1    ADNI1  2005-09-12   \n",
       "2        3  011_S_0003     m06    11   1   0   ADNI1    ADNI1  2006-03-13   \n",
       "\n",
       "      DX_bl  DXCHANGE   AGE PTGENDER  PTEDUCAT         PTETHCAT PTRACCAT  \\\n",
       "0        CN       1.0  74.3     Male        16  Not Hisp/Latino    White   \n",
       "11959    CN       1.0  74.3     Male        16  Not Hisp/Latino    White   \n",
       "11571    CN       NaN  74.3     Male        16  Not Hisp/Latino    White   \n",
       "10836    CN       NaN  74.3     Male        16  Not Hisp/Latino    White   \n",
       "5731     CN       1.0  74.3     Male        16  Not Hisp/Latino    White   \n",
       "5730     CN       NaN  74.3     Male        16  Not Hisp/Latino    White   \n",
       "5729     CN       4.0  74.3     Male        16  Not Hisp/Latino    White   \n",
       "5728     CN       NaN  74.3     Male        16  Not Hisp/Latino    White   \n",
       "5726     CN       NaN  74.3     Male        16  Not Hisp/Latino    White   \n",
       "5725     CN       1.0  74.3     Male        16  Not Hisp/Latino    White   \n",
       "5724     CN       1.0  74.3     Male        16  Not Hisp/Latino    White   \n",
       "5723     CN       1.0  74.3     Male        16  Not Hisp/Latino    White   \n",
       "5727     CN       1.0  74.3     Male        16  Not Hisp/Latino    White   \n",
       "1        AD       3.0  81.3     Male        18  Not Hisp/Latino    White   \n",
       "2        AD       3.0  81.3     Male        18  Not Hisp/Latino    White   \n",
       "\n",
       "       PTMARRY  \n",
       "0      Married  \n",
       "11959  Married  \n",
       "11571  Married  \n",
       "10836  Married  \n",
       "5731   Married  \n",
       "5730   Married  \n",
       "5729   Married  \n",
       "5728   Married  \n",
       "5726   Married  \n",
       "5725   Married  \n",
       "5724   Married  \n",
       "5723   Married  \n",
       "5727   Married  \n",
       "1      Married  \n",
       "2      Married  "
      ],
      "text/html": "<div>\n<style scoped>\n    .dataframe tbody tr th:only-of-type {\n        vertical-align: middle;\n    }\n\n    .dataframe tbody tr th {\n        vertical-align: top;\n    }\n\n    .dataframe thead th {\n        text-align: right;\n    }\n</style>\n<table border=\"1\" class=\"dataframe\">\n  <thead>\n    <tr style=\"text-align: right;\">\n      <th></th>\n      <th>RID</th>\n      <th>PTID</th>\n      <th>VISCODE</th>\n      <th>SITE</th>\n      <th>D1</th>\n      <th>D2</th>\n      <th>COLPROT</th>\n      <th>ORIGPROT</th>\n      <th>EXAMDATE</th>\n      <th>DX_bl</th>\n      <th>DXCHANGE</th>\n      <th>AGE</th>\n      <th>PTGENDER</th>\n      <th>PTEDUCAT</th>\n      <th>PTETHCAT</th>\n      <th>PTRACCAT</th>\n      <th>PTMARRY</th>\n    </tr>\n  </thead>\n  <tbody>\n    <tr>\n      <th>0</th>\n      <td>2</td>\n      <td>011_S_0002</td>\n      <td>bl</td>\n      <td>11</td>\n      <td>1</td>\n      <td>1</td>\n      <td>ADNI1</td>\n      <td>ADNI1</td>\n      <td>2005-09-08</td>\n      <td>CN</td>\n      <td>1.0</td>\n      <td>74.3</td>\n      <td>Male</td>\n      <td>16</td>\n      <td>Not Hisp/Latino</td>\n      <td>White</td>\n      <td>Married</td>\n    </tr>\n    <tr>\n      <th>11959</th>\n      <td>2</td>\n      <td>011_S_0002</td>\n      <td>m120</td>\n      <td>11</td>\n      <td>1</td>\n      <td>1</td>\n      <td>ADNI2</td>\n      <td>ADNI1</td>\n      <td>2015-09-22</td>\n      <td>CN</td>\n      <td>1.0</td>\n      <td>74.3</td>\n      <td>Male</td>\n      <td>16</td>\n      <td>Not Hisp/Latino</td>\n      <td>White</td>\n      <td>Married</td>\n    </tr>\n    <tr>\n      <th>11571</th>\n      <td>2</td>\n      <td>011_S_0002</td>\n      <td>m108</td>\n      <td>11</td>\n      <td>1</td>\n      <td>1</td>\n      <td>ADNI2</td>\n      <td>ADNI1</td>\n      <td>2014-10-13</td>\n      <td>CN</td>\n      <td>NaN</td>\n      <td>74.3</td>\n      <td>Male</td>\n      <td>16</td>\n      <td>Not Hisp/Latino</td>\n      <td>White</td>\n      <td>Married</td>\n    </tr>\n    <tr>\n      <th>10836</th>\n      <td>2</td>\n      <td>011_S_0002</td>\n      <td>m102</td>\n      <td>11</td>\n      <td>1</td>\n      <td>1</td>\n      <td>ADNI2</td>\n      <td>ADNI1</td>\n      <td>2014-03-17</td>\n      <td>CN</td>\n      <td>NaN</td>\n      <td>74.3</td>\n      <td>Male</td>\n      <td>16</td>\n      <td>Not Hisp/Latino</td>\n      <td>White</td>\n      <td>Married</td>\n    </tr>\n    <tr>\n      <th>5731</th>\n      <td>2</td>\n      <td>011_S_0002</td>\n      <td>m96</td>\n      <td>11</td>\n      <td>1</td>\n      <td>1</td>\n      <td>ADNI2</td>\n      <td>ADNI1</td>\n      <td>2013-09-09</td>\n      <td>CN</td>\n      <td>1.0</td>\n      <td>74.3</td>\n      <td>Male</td>\n      <td>16</td>\n      <td>Not Hisp/Latino</td>\n      <td>White</td>\n      <td>Married</td>\n    </tr>\n    <tr>\n      <th>5730</th>\n      <td>2</td>\n      <td>011_S_0002</td>\n      <td>m90</td>\n      <td>11</td>\n      <td>1</td>\n      <td>1</td>\n      <td>ADNI2</td>\n      <td>ADNI1</td>\n      <td>2013-03-25</td>\n      <td>CN</td>\n      <td>NaN</td>\n      <td>74.3</td>\n      <td>Male</td>\n      <td>16</td>\n      <td>Not Hisp/Latino</td>\n      <td>White</td>\n      <td>Married</td>\n    </tr>\n    <tr>\n      <th>5729</th>\n      <td>2</td>\n      <td>011_S_0002</td>\n      <td>m84</td>\n      <td>11</td>\n      <td>1</td>\n      <td>1</td>\n      <td>ADNI2</td>\n      <td>ADNI1</td>\n      <td>2012-09-26</td>\n      <td>CN</td>\n      <td>4.0</td>\n      <td>74.3</td>\n      <td>Male</td>\n      <td>16</td>\n      <td>Not Hisp/Latino</td>\n      <td>White</td>\n      <td>Married</td>\n    </tr>\n    <tr>\n      <th>5728</th>\n      <td>2</td>\n      <td>011_S_0002</td>\n      <td>m78</td>\n      <td>11</td>\n      <td>1</td>\n      <td>1</td>\n      <td>ADNI2</td>\n      <td>ADNI1</td>\n      <td>2012-03-22</td>\n      <td>CN</td>\n      <td>NaN</td>\n      <td>74.3</td>\n      <td>Male</td>\n      <td>16</td>\n      <td>Not Hisp/Latino</td>\n      <td>White</td>\n      <td>Married</td>\n    </tr>\n    <tr>\n      <th>5726</th>\n      <td>2</td>\n      <td>011_S_0002</td>\n      <td>m66</td>\n      <td>11</td>\n      <td>1</td>\n      <td>1</td>\n      <td>ADNIGO</td>\n      <td>ADNI1</td>\n      <td>2011-03-04</td>\n      <td>CN</td>\n      <td>NaN</td>\n      <td>74.3</td>\n      <td>Male</td>\n      <td>16</td>\n      <td>Not Hisp/Latino</td>\n      <td>White</td>\n      <td>Married</td>\n    </tr>\n    <tr>\n      <th>5725</th>\n      <td>2</td>\n      <td>011_S_0002</td>\n      <td>m60</td>\n      <td>11</td>\n      <td>1</td>\n      <td>1</td>\n      <td>ADNIGO</td>\n      <td>ADNI1</td>\n      <td>2010-09-22</td>\n      <td>CN</td>\n      <td>1.0</td>\n      <td>74.3</td>\n      <td>Male</td>\n      <td>16</td>\n      <td>Not Hisp/Latino</td>\n      <td>White</td>\n      <td>Married</td>\n    </tr>\n    <tr>\n      <th>5724</th>\n      <td>2</td>\n      <td>011_S_0002</td>\n      <td>m36</td>\n      <td>11</td>\n      <td>1</td>\n      <td>1</td>\n      <td>ADNI1</td>\n      <td>ADNI1</td>\n      <td>2008-08-27</td>\n      <td>CN</td>\n      <td>1.0</td>\n      <td>74.3</td>\n      <td>Male</td>\n      <td>16</td>\n      <td>Not Hisp/Latino</td>\n      <td>White</td>\n      <td>Married</td>\n    </tr>\n    <tr>\n      <th>5723</th>\n      <td>2</td>\n      <td>011_S_0002</td>\n      <td>m06</td>\n      <td>11</td>\n      <td>1</td>\n      <td>1</td>\n      <td>ADNI1</td>\n      <td>ADNI1</td>\n      <td>2006-03-06</td>\n      <td>CN</td>\n      <td>1.0</td>\n      <td>74.3</td>\n      <td>Male</td>\n      <td>16</td>\n      <td>Not Hisp/Latino</td>\n      <td>White</td>\n      <td>Married</td>\n    </tr>\n    <tr>\n      <th>5727</th>\n      <td>2</td>\n      <td>011_S_0002</td>\n      <td>m72</td>\n      <td>11</td>\n      <td>1</td>\n      <td>1</td>\n      <td>ADNI2</td>\n      <td>ADNI1</td>\n      <td>2011-09-19</td>\n      <td>CN</td>\n      <td>1.0</td>\n      <td>74.3</td>\n      <td>Male</td>\n      <td>16</td>\n      <td>Not Hisp/Latino</td>\n      <td>White</td>\n      <td>Married</td>\n    </tr>\n    <tr>\n      <th>1</th>\n      <td>3</td>\n      <td>011_S_0003</td>\n      <td>bl</td>\n      <td>11</td>\n      <td>1</td>\n      <td>0</td>\n      <td>ADNI1</td>\n      <td>ADNI1</td>\n      <td>2005-09-12</td>\n      <td>AD</td>\n      <td>3.0</td>\n      <td>81.3</td>\n      <td>Male</td>\n      <td>18</td>\n      <td>Not Hisp/Latino</td>\n      <td>White</td>\n      <td>Married</td>\n    </tr>\n    <tr>\n      <th>2</th>\n      <td>3</td>\n      <td>011_S_0003</td>\n      <td>m06</td>\n      <td>11</td>\n      <td>1</td>\n      <td>0</td>\n      <td>ADNI1</td>\n      <td>ADNI1</td>\n      <td>2006-03-13</td>\n      <td>AD</td>\n      <td>3.0</td>\n      <td>81.3</td>\n      <td>Male</td>\n      <td>18</td>\n      <td>Not Hisp/Latino</td>\n      <td>White</td>\n      <td>Married</td>\n    </tr>\n  </tbody>\n</table>\n</div>"
     },
     "metadata": {},
     "execution_count": 7
    }
   ],
   "source": [
    "participant_info_cols = ['RID', 'PTID', 'VISCODE', 'SITE', 'D1', 'D2', 'COLPROT', 'ORIGPROT', 'EXAMDATE', 'DX_bl', 'DXCHANGE', 'AGE', 'PTGENDER', 'PTEDUCAT', 'PTETHCAT', 'PTRACCAT', 'PTMARRY']\n",
    "df_tadpole_participant = df_tadpole_d1d2[participant_info_cols]\n",
    "df_tadpole_participant.head(15)"
   ]
  },
  {
   "cell_type": "code",
   "execution_count": 8,
   "metadata": {},
   "outputs": [
    {
     "output_type": "execute_result",
     "data": {
      "text/plain": [
       "                           FLDNAME      TBLNAME  \\\n",
       "0                              RID    ADNIMERGE   \n",
       "1                             PTID    ADNIMERGE   \n",
       "2                          VISCODE    ADNIMERGE   \n",
       "3                               D1                \n",
       "4                               D2                \n",
       "...                            ...          ...   \n",
       "1913  RUNDATE_UPENNBIOMK9_04_19_17  UPENNBIOMK9   \n",
       "1914    ABETA_UPENNBIOMK9_04_19_17  UPENNBIOMK9   \n",
       "1915      TAU_UPENNBIOMK9_04_19_17  UPENNBIOMK9   \n",
       "1916     PTAU_UPENNBIOMK9_04_19_17  UPENNBIOMK9   \n",
       "1917  COMMENT_UPENNBIOMK9_04_19_17  UPENNBIOMK9   \n",
       "\n",
       "                                    CRFNAME  \\\n",
       "0     Key ADNI tables merged into one table   \n",
       "1     Key ADNI tables merged into one table   \n",
       "2     Key ADNI tables merged into one table   \n",
       "3                                             \n",
       "4                                             \n",
       "...                                     ...   \n",
       "1913           UPENN CSF Biomarkers Elecsys   \n",
       "1914           UPENN CSF Biomarkers Elecsys   \n",
       "1915           UPENN CSF Biomarkers Elecsys   \n",
       "1916           UPENN CSF Biomarkers Elecsys   \n",
       "1917           UPENN CSF Biomarkers Elecsys   \n",
       "\n",
       "                                                   TEXT  \\\n",
       "0                                 Participant roster ID   \n",
       "1                                        Participant ID   \n",
       "2                                            Visit code   \n",
       "3     Denotes whether participant belongs to dataset D1   \n",
       "4     Denotes whether participant belongs to dataset D2   \n",
       "...                                                 ...   \n",
       "1913                             Date of analytical run   \n",
       "1914                                             Result   \n",
       "1915                                             Result   \n",
       "1916                                             Result   \n",
       "1917                                            Comment   \n",
       "\n",
       "                                                  NOTES  \n",
       "0     The 4 digit roster ID (RID) should be used to ...  \n",
       "1     3 digit site number and 4 digit roster ID (RID...  \n",
       "2                                                  -4.0  \n",
       "3                                                        \n",
       "4                                                        \n",
       "...                                                 ...  \n",
       "1913                                                NaN  \n",
       "1914                                                NaN  \n",
       "1915                                                NaN  \n",
       "1916                                                NaN  \n",
       "1917                          Extrapolated ABETA result  \n",
       "\n",
       "[1918 rows x 5 columns]"
      ],
      "text/html": "<div>\n<style scoped>\n    .dataframe tbody tr th:only-of-type {\n        vertical-align: middle;\n    }\n\n    .dataframe tbody tr th {\n        vertical-align: top;\n    }\n\n    .dataframe thead th {\n        text-align: right;\n    }\n</style>\n<table border=\"1\" class=\"dataframe\">\n  <thead>\n    <tr style=\"text-align: right;\">\n      <th></th>\n      <th>FLDNAME</th>\n      <th>TBLNAME</th>\n      <th>CRFNAME</th>\n      <th>TEXT</th>\n      <th>NOTES</th>\n    </tr>\n  </thead>\n  <tbody>\n    <tr>\n      <th>0</th>\n      <td>RID</td>\n      <td>ADNIMERGE</td>\n      <td>Key ADNI tables merged into one table</td>\n      <td>Participant roster ID</td>\n      <td>The 4 digit roster ID (RID) should be used to ...</td>\n    </tr>\n    <tr>\n      <th>1</th>\n      <td>PTID</td>\n      <td>ADNIMERGE</td>\n      <td>Key ADNI tables merged into one table</td>\n      <td>Participant ID</td>\n      <td>3 digit site number and 4 digit roster ID (RID...</td>\n    </tr>\n    <tr>\n      <th>2</th>\n      <td>VISCODE</td>\n      <td>ADNIMERGE</td>\n      <td>Key ADNI tables merged into one table</td>\n      <td>Visit code</td>\n      <td>-4.0</td>\n    </tr>\n    <tr>\n      <th>3</th>\n      <td>D1</td>\n      <td></td>\n      <td></td>\n      <td>Denotes whether participant belongs to dataset D1</td>\n      <td></td>\n    </tr>\n    <tr>\n      <th>4</th>\n      <td>D2</td>\n      <td></td>\n      <td></td>\n      <td>Denotes whether participant belongs to dataset D2</td>\n      <td></td>\n    </tr>\n    <tr>\n      <th>...</th>\n      <td>...</td>\n      <td>...</td>\n      <td>...</td>\n      <td>...</td>\n      <td>...</td>\n    </tr>\n    <tr>\n      <th>1913</th>\n      <td>RUNDATE_UPENNBIOMK9_04_19_17</td>\n      <td>UPENNBIOMK9</td>\n      <td>UPENN CSF Biomarkers Elecsys</td>\n      <td>Date of analytical run</td>\n      <td>NaN</td>\n    </tr>\n    <tr>\n      <th>1914</th>\n      <td>ABETA_UPENNBIOMK9_04_19_17</td>\n      <td>UPENNBIOMK9</td>\n      <td>UPENN CSF Biomarkers Elecsys</td>\n      <td>Result</td>\n      <td>NaN</td>\n    </tr>\n    <tr>\n      <th>1915</th>\n      <td>TAU_UPENNBIOMK9_04_19_17</td>\n      <td>UPENNBIOMK9</td>\n      <td>UPENN CSF Biomarkers Elecsys</td>\n      <td>Result</td>\n      <td>NaN</td>\n    </tr>\n    <tr>\n      <th>1916</th>\n      <td>PTAU_UPENNBIOMK9_04_19_17</td>\n      <td>UPENNBIOMK9</td>\n      <td>UPENN CSF Biomarkers Elecsys</td>\n      <td>Result</td>\n      <td>NaN</td>\n    </tr>\n    <tr>\n      <th>1917</th>\n      <td>COMMENT_UPENNBIOMK9_04_19_17</td>\n      <td>UPENNBIOMK9</td>\n      <td>UPENN CSF Biomarkers Elecsys</td>\n      <td>Comment</td>\n      <td>Extrapolated ABETA result</td>\n    </tr>\n  </tbody>\n</table>\n<p>1918 rows × 5 columns</p>\n</div>"
     },
     "metadata": {},
     "execution_count": 8
    }
   ],
   "source": [
    "df_tadpole_d1d2dict"
   ]
  },
  {
   "cell_type": "code",
   "execution_count": 9,
   "metadata": {},
   "outputs": [
    {
     "output_type": "execute_result",
     "data": {
      "text/plain": [
       "     FLDNAME    TBLNAME                                CRFNAME  \\\n",
       "0        RID  ADNIMERGE  Key ADNI tables merged into one table   \n",
       "1       PTID  ADNIMERGE  Key ADNI tables merged into one table   \n",
       "2    VISCODE  ADNIMERGE  Key ADNI tables merged into one table   \n",
       "3         D1                                                     \n",
       "4         D2                                                     \n",
       "5   DXCHANGE                                                     \n",
       "6       SITE  ADNIMERGE  Key ADNI tables merged into one table   \n",
       "7    COLPROT  ADNIMERGE  Key ADNI tables merged into one table   \n",
       "8   ORIGPROT  ADNIMERGE  Key ADNI tables merged into one table   \n",
       "9   EXAMDATE  ADNIMERGE  Key ADNI tables merged into one table   \n",
       "10     DX_bl  ADNIMERGE  Key ADNI tables merged into one table   \n",
       "11       AGE  ADNIMERGE  Key ADNI tables merged into one table   \n",
       "12  PTGENDER  ADNIMERGE  Key ADNI tables merged into one table   \n",
       "13  PTEDUCAT  ADNIMERGE  Key ADNI tables merged into one table   \n",
       "14  PTETHCAT  ADNIMERGE  Key ADNI tables merged into one table   \n",
       "15  PTRACCAT  ADNIMERGE  Key ADNI tables merged into one table   \n",
       "16   PTMARRY  ADNIMERGE  Key ADNI tables merged into one table   \n",
       "17     APOE4  ADNIMERGE  Key ADNI tables merged into one table   \n",
       "18       FDG  ADNIMERGE  Key ADNI tables merged into one table   \n",
       "19       PIB  ADNIMERGE  Key ADNI tables merged into one table   \n",
       "\n",
       "                                                 TEXT  \\\n",
       "0                               Participant roster ID   \n",
       "1                                      Participant ID   \n",
       "2                                          Visit code   \n",
       "3   Denotes whether participant belongs to dataset D1   \n",
       "4   Denotes whether participant belongs to dataset D2   \n",
       "5   1=Stable:NL to NL, 2=Stable:MCI to MCI, 3=Stab...   \n",
       "6                                                Site   \n",
       "7             Protocol under which data was collected   \n",
       "8              Protocol from which subject originated   \n",
       "9                                    Examination Date   \n",
       "10                                        Baseline Dx   \n",
       "11                                    Age at baseline   \n",
       "12                                                Sex   \n",
       "13                                          Education   \n",
       "14                                          Ethnicity   \n",
       "15                                               Race   \n",
       "16                         Marital status at baseline   \n",
       "17                                              ApoE4   \n",
       "18  Average FDG-PET of angular, temporal, and post...   \n",
       "19  Average PIB SUVR of frontal cortex, anterior c...   \n",
       "\n",
       "                                                NOTES  \n",
       "0   The 4 digit roster ID (RID) should be used to ...  \n",
       "1   3 digit site number and 4 digit roster ID (RID...  \n",
       "2                                                -4.0  \n",
       "3                                                      \n",
       "4                                                      \n",
       "5                                                      \n",
       "6                                                -4.0  \n",
       "7                                                -4.0  \n",
       "8                                                -4.0  \n",
       "9                                 From registry table  \n",
       "10                                From studysum table  \n",
       "11                                 From ptdemog table  \n",
       "12                                 From ptdemog table  \n",
       "13                                 From ptdemog table  \n",
       "14                                 From ptdemog table  \n",
       "15                                 From ptdemog table  \n",
       "16                                 From ptdemog table  \n",
       "17                                    From apoe table  \n",
       "18                           From ucberkeleyfdg table  \n",
       "19                              From pibpetsuvr table  "
      ],
      "text/html": "<div>\n<style scoped>\n    .dataframe tbody tr th:only-of-type {\n        vertical-align: middle;\n    }\n\n    .dataframe tbody tr th {\n        vertical-align: top;\n    }\n\n    .dataframe thead th {\n        text-align: right;\n    }\n</style>\n<table border=\"1\" class=\"dataframe\">\n  <thead>\n    <tr style=\"text-align: right;\">\n      <th></th>\n      <th>FLDNAME</th>\n      <th>TBLNAME</th>\n      <th>CRFNAME</th>\n      <th>TEXT</th>\n      <th>NOTES</th>\n    </tr>\n  </thead>\n  <tbody>\n    <tr>\n      <th>0</th>\n      <td>RID</td>\n      <td>ADNIMERGE</td>\n      <td>Key ADNI tables merged into one table</td>\n      <td>Participant roster ID</td>\n      <td>The 4 digit roster ID (RID) should be used to ...</td>\n    </tr>\n    <tr>\n      <th>1</th>\n      <td>PTID</td>\n      <td>ADNIMERGE</td>\n      <td>Key ADNI tables merged into one table</td>\n      <td>Participant ID</td>\n      <td>3 digit site number and 4 digit roster ID (RID...</td>\n    </tr>\n    <tr>\n      <th>2</th>\n      <td>VISCODE</td>\n      <td>ADNIMERGE</td>\n      <td>Key ADNI tables merged into one table</td>\n      <td>Visit code</td>\n      <td>-4.0</td>\n    </tr>\n    <tr>\n      <th>3</th>\n      <td>D1</td>\n      <td></td>\n      <td></td>\n      <td>Denotes whether participant belongs to dataset D1</td>\n      <td></td>\n    </tr>\n    <tr>\n      <th>4</th>\n      <td>D2</td>\n      <td></td>\n      <td></td>\n      <td>Denotes whether participant belongs to dataset D2</td>\n      <td></td>\n    </tr>\n    <tr>\n      <th>5</th>\n      <td>DXCHANGE</td>\n      <td></td>\n      <td></td>\n      <td>1=Stable:NL to NL, 2=Stable:MCI to MCI, 3=Stab...</td>\n      <td></td>\n    </tr>\n    <tr>\n      <th>6</th>\n      <td>SITE</td>\n      <td>ADNIMERGE</td>\n      <td>Key ADNI tables merged into one table</td>\n      <td>Site</td>\n      <td>-4.0</td>\n    </tr>\n    <tr>\n      <th>7</th>\n      <td>COLPROT</td>\n      <td>ADNIMERGE</td>\n      <td>Key ADNI tables merged into one table</td>\n      <td>Protocol under which data was collected</td>\n      <td>-4.0</td>\n    </tr>\n    <tr>\n      <th>8</th>\n      <td>ORIGPROT</td>\n      <td>ADNIMERGE</td>\n      <td>Key ADNI tables merged into one table</td>\n      <td>Protocol from which subject originated</td>\n      <td>-4.0</td>\n    </tr>\n    <tr>\n      <th>9</th>\n      <td>EXAMDATE</td>\n      <td>ADNIMERGE</td>\n      <td>Key ADNI tables merged into one table</td>\n      <td>Examination Date</td>\n      <td>From registry table</td>\n    </tr>\n    <tr>\n      <th>10</th>\n      <td>DX_bl</td>\n      <td>ADNIMERGE</td>\n      <td>Key ADNI tables merged into one table</td>\n      <td>Baseline Dx</td>\n      <td>From studysum table</td>\n    </tr>\n    <tr>\n      <th>11</th>\n      <td>AGE</td>\n      <td>ADNIMERGE</td>\n      <td>Key ADNI tables merged into one table</td>\n      <td>Age at baseline</td>\n      <td>From ptdemog table</td>\n    </tr>\n    <tr>\n      <th>12</th>\n      <td>PTGENDER</td>\n      <td>ADNIMERGE</td>\n      <td>Key ADNI tables merged into one table</td>\n      <td>Sex</td>\n      <td>From ptdemog table</td>\n    </tr>\n    <tr>\n      <th>13</th>\n      <td>PTEDUCAT</td>\n      <td>ADNIMERGE</td>\n      <td>Key ADNI tables merged into one table</td>\n      <td>Education</td>\n      <td>From ptdemog table</td>\n    </tr>\n    <tr>\n      <th>14</th>\n      <td>PTETHCAT</td>\n      <td>ADNIMERGE</td>\n      <td>Key ADNI tables merged into one table</td>\n      <td>Ethnicity</td>\n      <td>From ptdemog table</td>\n    </tr>\n    <tr>\n      <th>15</th>\n      <td>PTRACCAT</td>\n      <td>ADNIMERGE</td>\n      <td>Key ADNI tables merged into one table</td>\n      <td>Race</td>\n      <td>From ptdemog table</td>\n    </tr>\n    <tr>\n      <th>16</th>\n      <td>PTMARRY</td>\n      <td>ADNIMERGE</td>\n      <td>Key ADNI tables merged into one table</td>\n      <td>Marital status at baseline</td>\n      <td>From ptdemog table</td>\n    </tr>\n    <tr>\n      <th>17</th>\n      <td>APOE4</td>\n      <td>ADNIMERGE</td>\n      <td>Key ADNI tables merged into one table</td>\n      <td>ApoE4</td>\n      <td>From apoe table</td>\n    </tr>\n    <tr>\n      <th>18</th>\n      <td>FDG</td>\n      <td>ADNIMERGE</td>\n      <td>Key ADNI tables merged into one table</td>\n      <td>Average FDG-PET of angular, temporal, and post...</td>\n      <td>From ucberkeleyfdg table</td>\n    </tr>\n    <tr>\n      <th>19</th>\n      <td>PIB</td>\n      <td>ADNIMERGE</td>\n      <td>Key ADNI tables merged into one table</td>\n      <td>Average PIB SUVR of frontal cortex, anterior c...</td>\n      <td>From pibpetsuvr table</td>\n    </tr>\n  </tbody>\n</table>\n</div>"
     },
     "metadata": {},
     "execution_count": 9
    }
   ],
   "source": [
    "df_tadpole_d1d2dict.head(20)"
   ]
  },
  {
   "cell_type": "code",
   "execution_count": 10,
   "metadata": {},
   "outputs": [
    {
     "output_type": "execute_result",
     "data": {
      "text/plain": [
       "'The 4 digit roster ID (RID) should be used to merge data'"
      ]
     },
     "metadata": {},
     "execution_count": 10
    }
   ],
   "source": [
    "df_tadpole_d1d2dict[\"NOTES\"].iloc[0]"
   ]
  },
  {
   "cell_type": "code",
   "execution_count": 11,
   "metadata": {},
   "outputs": [
    {
     "output_type": "execute_result",
     "data": {
      "text/plain": [
       "\"3 digit site number and 4 digit roster ID (RID) separated by '_S_'\""
      ]
     },
     "metadata": {},
     "execution_count": 11
    }
   ],
   "source": [
    "df_tadpole_d1d2dict[\"NOTES\"].iloc[1]"
   ]
  },
  {
   "cell_type": "code",
   "execution_count": 12,
   "metadata": {},
   "outputs": [],
   "source": [
    "for col in df_tadpole_d1d2dict.columns:\n",
    "    df_tadpole_d1d2dict[col] = df_tadpole_d1d2dict[col].str.upper()"
   ]
  },
  {
   "source": [
    "df_tadpole_d1d2dict.fillna(' ',inplace = True)"
   ],
   "cell_type": "code",
   "metadata": {},
   "execution_count": 13,
   "outputs": []
  },
  {
   "source": [
    "# Alzheimer diagnosis classes"
   ],
   "cell_type": "markdown",
   "metadata": {}
  },
  {
   "cell_type": "code",
   "execution_count": 16,
   "metadata": {},
   "outputs": [
    {
     "output_type": "execute_result",
     "data": {
      "text/plain": [
       "array(['CN', 'AD', 'LMCI', 'EMCI', 'SMC'], dtype=object)"
      ]
     },
     "metadata": {},
     "execution_count": 16
    }
   ],
   "source": [
    "df_tadpole_participant['DX_bl'].unique()"
   ]
  },
  {
   "cell_type": "code",
   "execution_count": 14,
   "metadata": {},
   "outputs": [
    {
     "output_type": "stream",
     "name": "stdout",
     "text": [
      "Number of participants with diagnosis CN: 3821\nNumber of participants with diagnosis AD: 1568\nNumber of participants with diagnosis LMCI: 4644\nNumber of participants with diagnosis EMCI: 2319\nNumber of participants with diagnosis SMC: 389\n"
     ]
    }
   ],
   "source": [
    "for diagnosis in df_tadpole_participant['DX_bl'].unique():\n",
    "    registers = df_tadpole_participant.query(\"DX_bl == @diagnosis\").shape[0]\n",
    "    print(f\"Number of participants with diagnosis {diagnosis}: {registers}\")"
   ]
  },
  {
   "source": [
    "for diagnosis in [\"CN\",\"MCI\", \"AD\"]:\n",
    "    if diagnosis == \"CN\":\n",
    "        diags = ['CN','SMC']\n",
    "    elif diagnosis == 'MCI':\n",
    "        diags = ['LMCI','EMCI']\n",
    "    else: diags = ['AD']\n",
    "    registers = df_tadpole_participant.query(\"DX_bl == @diags\").shape[0]\n",
    "    print(f\"Number of participants with diagnosis {diagnosis}: {registers}\")"
   ],
   "cell_type": "code",
   "metadata": {},
   "execution_count": 15,
   "outputs": [
    {
     "output_type": "stream",
     "name": "stdout",
     "text": [
      "Number of participants with diagnosis CN: 4210\nNumber of participants with diagnosis MCI: 6963\nNumber of participants with diagnosis AD: 1568\n"
     ]
    }
   ]
  },
  {
   "cell_type": "markdown",
   "metadata": {},
   "source": [
    "# Image related columns"
   ]
  },
  {
   "source": [
    "## MRI image columns"
   ],
   "cell_type": "markdown",
   "metadata": {}
  },
  {
   "cell_type": "code",
   "execution_count": 17,
   "metadata": {},
   "outputs": [
    {
     "output_type": "execute_result",
     "data": {
      "text/plain": [
       "                                              FLDNAME     TBLNAME  \\\n",
       "95     LONIUID_UCSFFSL_02_01_16_UCSFFSL51ALL_08_01_16     UCSFFSL   \n",
       "96    IMAGEUID_UCSFFSL_02_01_16_UCSFFSL51ALL_08_01_16     UCSFFSL   \n",
       "470       LONIUID_UCSFFSX_11_02_15_UCSFFSX51_08_01_16     UCSFFSX   \n",
       "471      IMAGEUID_UCSFFSX_11_02_15_UCSFFSX51_08_01_16     UCSFFSX   \n",
       "835                       LONIUID_BAIPETNMRC_09_12_16  BAIPETNMRC   \n",
       "1670                        LONIUID_1_DTIROI_04_30_14      DTIROI   \n",
       "1671                        LONIUID_2_DTIROI_04_30_14      DTIROI   \n",
       "1672                        LONIUID_3_DTIROI_04_30_14      DTIROI   \n",
       "1673                        LONIUID_4_DTIROI_04_30_14      DTIROI   \n",
       "\n",
       "                                                CRFNAME  \\\n",
       "95     LONGITUDINAL FREESURFER (FREESURFER VERSION 4.4)   \n",
       "96     LONGITUDINAL FREESURFER (FREESURFER VERSION 4.4)   \n",
       "470   CROSS-SECTIONAL FREESURFER (FREESURFER VERSION...   \n",
       "471   CROSS-SECTIONAL FREESURFER (FREESURFER VERSION...   \n",
       "835     BANNER ALZHEIMER'S INSTITUTE PET NMRC SUMMARIES   \n",
       "1670                           DTI ROI SUMMARY MEASURES   \n",
       "1671                           DTI ROI SUMMARY MEASURES   \n",
       "1672                           DTI ROI SUMMARY MEASURES   \n",
       "1673                           DTI ROI SUMMARY MEASURES   \n",
       "\n",
       "                                              TEXT  \\\n",
       "95    THE LONI SERIES UID FOR THE IMAGE PROCESSED.   \n",
       "96           THE IMAGEUID FOR THE IMAGE PROCESSED.   \n",
       "470   THE LONI SERIES UID FOR THE IMAGE PROCESSED.   \n",
       "471          THE IMAGEUID FOR THE IMAGE PROCESSED.   \n",
       "835                   LONI UNIQUE IMAGE IDENTIFIER   \n",
       "1670                          LONI IMAGE ID FOR FA   \n",
       "1671                          LONI IMAGE ID FOR MD   \n",
       "1672                          LONI IMAGE ID FOR RD   \n",
       "1673                          LONI IMAGE ID FOR AD   \n",
       "\n",
       "                                           NOTES  \n",
       "95                                            -4  \n",
       "96                                            -4  \n",
       "470                                           -4  \n",
       "471                                           -4  \n",
       "835   THIS IS A LONGER DESCRIPTION IF NECESSARY.  \n",
       "1670                                              \n",
       "1671                                              \n",
       "1672                                              \n",
       "1673                                              "
      ],
      "text/html": "<div>\n<style scoped>\n    .dataframe tbody tr th:only-of-type {\n        vertical-align: middle;\n    }\n\n    .dataframe tbody tr th {\n        vertical-align: top;\n    }\n\n    .dataframe thead th {\n        text-align: right;\n    }\n</style>\n<table border=\"1\" class=\"dataframe\">\n  <thead>\n    <tr style=\"text-align: right;\">\n      <th></th>\n      <th>FLDNAME</th>\n      <th>TBLNAME</th>\n      <th>CRFNAME</th>\n      <th>TEXT</th>\n      <th>NOTES</th>\n    </tr>\n  </thead>\n  <tbody>\n    <tr>\n      <th>95</th>\n      <td>LONIUID_UCSFFSL_02_01_16_UCSFFSL51ALL_08_01_16</td>\n      <td>UCSFFSL</td>\n      <td>LONGITUDINAL FREESURFER (FREESURFER VERSION 4.4)</td>\n      <td>THE LONI SERIES UID FOR THE IMAGE PROCESSED.</td>\n      <td>-4</td>\n    </tr>\n    <tr>\n      <th>96</th>\n      <td>IMAGEUID_UCSFFSL_02_01_16_UCSFFSL51ALL_08_01_16</td>\n      <td>UCSFFSL</td>\n      <td>LONGITUDINAL FREESURFER (FREESURFER VERSION 4.4)</td>\n      <td>THE IMAGEUID FOR THE IMAGE PROCESSED.</td>\n      <td>-4</td>\n    </tr>\n    <tr>\n      <th>470</th>\n      <td>LONIUID_UCSFFSX_11_02_15_UCSFFSX51_08_01_16</td>\n      <td>UCSFFSX</td>\n      <td>CROSS-SECTIONAL FREESURFER (FREESURFER VERSION...</td>\n      <td>THE LONI SERIES UID FOR THE IMAGE PROCESSED.</td>\n      <td>-4</td>\n    </tr>\n    <tr>\n      <th>471</th>\n      <td>IMAGEUID_UCSFFSX_11_02_15_UCSFFSX51_08_01_16</td>\n      <td>UCSFFSX</td>\n      <td>CROSS-SECTIONAL FREESURFER (FREESURFER VERSION...</td>\n      <td>THE IMAGEUID FOR THE IMAGE PROCESSED.</td>\n      <td>-4</td>\n    </tr>\n    <tr>\n      <th>835</th>\n      <td>LONIUID_BAIPETNMRC_09_12_16</td>\n      <td>BAIPETNMRC</td>\n      <td>BANNER ALZHEIMER'S INSTITUTE PET NMRC SUMMARIES</td>\n      <td>LONI UNIQUE IMAGE IDENTIFIER</td>\n      <td>THIS IS A LONGER DESCRIPTION IF NECESSARY.</td>\n    </tr>\n    <tr>\n      <th>1670</th>\n      <td>LONIUID_1_DTIROI_04_30_14</td>\n      <td>DTIROI</td>\n      <td>DTI ROI SUMMARY MEASURES</td>\n      <td>LONI IMAGE ID FOR FA</td>\n      <td></td>\n    </tr>\n    <tr>\n      <th>1671</th>\n      <td>LONIUID_2_DTIROI_04_30_14</td>\n      <td>DTIROI</td>\n      <td>DTI ROI SUMMARY MEASURES</td>\n      <td>LONI IMAGE ID FOR MD</td>\n      <td></td>\n    </tr>\n    <tr>\n      <th>1672</th>\n      <td>LONIUID_3_DTIROI_04_30_14</td>\n      <td>DTIROI</td>\n      <td>DTI ROI SUMMARY MEASURES</td>\n      <td>LONI IMAGE ID FOR RD</td>\n      <td></td>\n    </tr>\n    <tr>\n      <th>1673</th>\n      <td>LONIUID_4_DTIROI_04_30_14</td>\n      <td>DTIROI</td>\n      <td>DTI ROI SUMMARY MEASURES</td>\n      <td>LONI IMAGE ID FOR AD</td>\n      <td></td>\n    </tr>\n  </tbody>\n</table>\n</div>"
     },
     "metadata": {},
     "execution_count": 17
    }
   ],
   "source": [
    "df_tadpole_d1d2dict.loc[df_tadpole_d1d2dict['FLDNAME'].str.contains(\"UID\"),:]"
   ]
  },
  {
   "cell_type": "code",
   "execution_count": 18,
   "metadata": {},
   "outputs": [],
   "source": [
    "mri_images_ids = ['IMAGEUID_UCSFFSL_02_01_16_UCSFFSL51ALL_08_01_16','IMAGEUID_UCSFFSX_11_02_15_UCSFFSX51_08_01_16']"
   ]
  },
  {
   "cell_type": "code",
   "execution_count": 19,
   "metadata": {},
   "outputs": [
    {
     "output_type": "execute_result",
     "data": {
      "text/plain": [
       "        RID        PTID VISCODE  SITE  D1  D2 COLPROT ORIGPROT    EXAMDATE  \\\n",
       "0         2  011_S_0002      bl    11   1   1   ADNI1    ADNI1  2005-09-08   \n",
       "1         3  011_S_0003      bl    11   1   0   ADNI1    ADNI1  2005-09-12   \n",
       "2         3  011_S_0003     m06    11   1   0   ADNI1    ADNI1  2006-03-13   \n",
       "3         3  011_S_0003     m12    11   1   0   ADNI1    ADNI1  2006-09-12   \n",
       "4         3  011_S_0003     m24    11   1   0   ADNI1    ADNI1  2007-09-12   \n",
       "...     ...         ...     ...   ...  ..  ..     ...      ...         ...   \n",
       "12276  5292  057_S_5292     m24    57   1   1   ADNI2    ADNI2  2015-11-19   \n",
       "5588   5292  057_S_5292      bl    57   1   1   ADNI2    ADNI2  2013-11-12   \n",
       "5587   5294  051_S_5294      bl    51   1   1   ADNI2    ADNI2  2013-11-25   \n",
       "10802  5295  057_S_5295      bl    57   1   1   ADNI2    ADNI2  2013-12-11   \n",
       "10804  5296  053_S_5296      bl    53   1   1   ADNI2    ADNI2  2013-12-18   \n",
       "\n",
       "      DX_bl  DXCHANGE   AGE PTGENDER  PTEDUCAT         PTETHCAT PTRACCAT  \\\n",
       "0        CN       1.0  74.3     Male        16  Not Hisp/Latino    White   \n",
       "1        AD       3.0  81.3     Male        18  Not Hisp/Latino    White   \n",
       "2        AD       3.0  81.3     Male        18  Not Hisp/Latino    White   \n",
       "3        AD       3.0  81.3     Male        18  Not Hisp/Latino    White   \n",
       "4        AD       3.0  81.3     Male        18  Not Hisp/Latino    White   \n",
       "...     ...       ...   ...      ...       ...              ...      ...   \n",
       "12276   SMC       1.0  74.3   Female        13  Not Hisp/Latino    White   \n",
       "5588    SMC       1.0  74.3   Female        13  Not Hisp/Latino    White   \n",
       "5587    SMC       1.0  68.5     Male        18  Not Hisp/Latino    White   \n",
       "10802   SMC       1.0  75.5   Female        15  Not Hisp/Latino    White   \n",
       "10804   SMC       1.0  69.3     Male        14  Not Hisp/Latino    White   \n",
       "\n",
       "        PTMARRY IMAGEUID_UCSFFSL_02_01_16_UCSFFSL51ALL_08_01_16  \\\n",
       "0       Married                                                   \n",
       "1       Married                                           32237   \n",
       "2       Married                                                   \n",
       "3       Married                                           35576   \n",
       "4       Married                                                   \n",
       "...         ...                                             ...   \n",
       "12276   Married                                          570688   \n",
       "5588    Married                                          398341   \n",
       "5587   Divorced                                                   \n",
       "10802   Married                                                   \n",
       "10804   Married                                                   \n",
       "\n",
       "      IMAGEUID_UCSFFSX_11_02_15_UCSFFSX51_08_01_16  \n",
       "0                                            35475  \n",
       "1                                            32237  \n",
       "2                                            31863  \n",
       "3                                            35576  \n",
       "4                                            88252  \n",
       "...                                            ...  \n",
       "12276                                       570688  \n",
       "5588                                        398341  \n",
       "5587                                        398094  \n",
       "10802                                       402028  \n",
       "10804                                       416077  \n",
       "\n",
       "[7952 rows x 19 columns]"
      ],
      "text/html": "<div>\n<style scoped>\n    .dataframe tbody tr th:only-of-type {\n        vertical-align: middle;\n    }\n\n    .dataframe tbody tr th {\n        vertical-align: top;\n    }\n\n    .dataframe thead th {\n        text-align: right;\n    }\n</style>\n<table border=\"1\" class=\"dataframe\">\n  <thead>\n    <tr style=\"text-align: right;\">\n      <th></th>\n      <th>RID</th>\n      <th>PTID</th>\n      <th>VISCODE</th>\n      <th>SITE</th>\n      <th>D1</th>\n      <th>D2</th>\n      <th>COLPROT</th>\n      <th>ORIGPROT</th>\n      <th>EXAMDATE</th>\n      <th>DX_bl</th>\n      <th>DXCHANGE</th>\n      <th>AGE</th>\n      <th>PTGENDER</th>\n      <th>PTEDUCAT</th>\n      <th>PTETHCAT</th>\n      <th>PTRACCAT</th>\n      <th>PTMARRY</th>\n      <th>IMAGEUID_UCSFFSL_02_01_16_UCSFFSL51ALL_08_01_16</th>\n      <th>IMAGEUID_UCSFFSX_11_02_15_UCSFFSX51_08_01_16</th>\n    </tr>\n  </thead>\n  <tbody>\n    <tr>\n      <th>0</th>\n      <td>2</td>\n      <td>011_S_0002</td>\n      <td>bl</td>\n      <td>11</td>\n      <td>1</td>\n      <td>1</td>\n      <td>ADNI1</td>\n      <td>ADNI1</td>\n      <td>2005-09-08</td>\n      <td>CN</td>\n      <td>1.0</td>\n      <td>74.3</td>\n      <td>Male</td>\n      <td>16</td>\n      <td>Not Hisp/Latino</td>\n      <td>White</td>\n      <td>Married</td>\n      <td></td>\n      <td>35475</td>\n    </tr>\n    <tr>\n      <th>1</th>\n      <td>3</td>\n      <td>011_S_0003</td>\n      <td>bl</td>\n      <td>11</td>\n      <td>1</td>\n      <td>0</td>\n      <td>ADNI1</td>\n      <td>ADNI1</td>\n      <td>2005-09-12</td>\n      <td>AD</td>\n      <td>3.0</td>\n      <td>81.3</td>\n      <td>Male</td>\n      <td>18</td>\n      <td>Not Hisp/Latino</td>\n      <td>White</td>\n      <td>Married</td>\n      <td>32237</td>\n      <td>32237</td>\n    </tr>\n    <tr>\n      <th>2</th>\n      <td>3</td>\n      <td>011_S_0003</td>\n      <td>m06</td>\n      <td>11</td>\n      <td>1</td>\n      <td>0</td>\n      <td>ADNI1</td>\n      <td>ADNI1</td>\n      <td>2006-03-13</td>\n      <td>AD</td>\n      <td>3.0</td>\n      <td>81.3</td>\n      <td>Male</td>\n      <td>18</td>\n      <td>Not Hisp/Latino</td>\n      <td>White</td>\n      <td>Married</td>\n      <td></td>\n      <td>31863</td>\n    </tr>\n    <tr>\n      <th>3</th>\n      <td>3</td>\n      <td>011_S_0003</td>\n      <td>m12</td>\n      <td>11</td>\n      <td>1</td>\n      <td>0</td>\n      <td>ADNI1</td>\n      <td>ADNI1</td>\n      <td>2006-09-12</td>\n      <td>AD</td>\n      <td>3.0</td>\n      <td>81.3</td>\n      <td>Male</td>\n      <td>18</td>\n      <td>Not Hisp/Latino</td>\n      <td>White</td>\n      <td>Married</td>\n      <td>35576</td>\n      <td>35576</td>\n    </tr>\n    <tr>\n      <th>4</th>\n      <td>3</td>\n      <td>011_S_0003</td>\n      <td>m24</td>\n      <td>11</td>\n      <td>1</td>\n      <td>0</td>\n      <td>ADNI1</td>\n      <td>ADNI1</td>\n      <td>2007-09-12</td>\n      <td>AD</td>\n      <td>3.0</td>\n      <td>81.3</td>\n      <td>Male</td>\n      <td>18</td>\n      <td>Not Hisp/Latino</td>\n      <td>White</td>\n      <td>Married</td>\n      <td></td>\n      <td>88252</td>\n    </tr>\n    <tr>\n      <th>...</th>\n      <td>...</td>\n      <td>...</td>\n      <td>...</td>\n      <td>...</td>\n      <td>...</td>\n      <td>...</td>\n      <td>...</td>\n      <td>...</td>\n      <td>...</td>\n      <td>...</td>\n      <td>...</td>\n      <td>...</td>\n      <td>...</td>\n      <td>...</td>\n      <td>...</td>\n      <td>...</td>\n      <td>...</td>\n      <td>...</td>\n      <td>...</td>\n    </tr>\n    <tr>\n      <th>12276</th>\n      <td>5292</td>\n      <td>057_S_5292</td>\n      <td>m24</td>\n      <td>57</td>\n      <td>1</td>\n      <td>1</td>\n      <td>ADNI2</td>\n      <td>ADNI2</td>\n      <td>2015-11-19</td>\n      <td>SMC</td>\n      <td>1.0</td>\n      <td>74.3</td>\n      <td>Female</td>\n      <td>13</td>\n      <td>Not Hisp/Latino</td>\n      <td>White</td>\n      <td>Married</td>\n      <td>570688</td>\n      <td>570688</td>\n    </tr>\n    <tr>\n      <th>5588</th>\n      <td>5292</td>\n      <td>057_S_5292</td>\n      <td>bl</td>\n      <td>57</td>\n      <td>1</td>\n      <td>1</td>\n      <td>ADNI2</td>\n      <td>ADNI2</td>\n      <td>2013-11-12</td>\n      <td>SMC</td>\n      <td>1.0</td>\n      <td>74.3</td>\n      <td>Female</td>\n      <td>13</td>\n      <td>Not Hisp/Latino</td>\n      <td>White</td>\n      <td>Married</td>\n      <td>398341</td>\n      <td>398341</td>\n    </tr>\n    <tr>\n      <th>5587</th>\n      <td>5294</td>\n      <td>051_S_5294</td>\n      <td>bl</td>\n      <td>51</td>\n      <td>1</td>\n      <td>1</td>\n      <td>ADNI2</td>\n      <td>ADNI2</td>\n      <td>2013-11-25</td>\n      <td>SMC</td>\n      <td>1.0</td>\n      <td>68.5</td>\n      <td>Male</td>\n      <td>18</td>\n      <td>Not Hisp/Latino</td>\n      <td>White</td>\n      <td>Divorced</td>\n      <td></td>\n      <td>398094</td>\n    </tr>\n    <tr>\n      <th>10802</th>\n      <td>5295</td>\n      <td>057_S_5295</td>\n      <td>bl</td>\n      <td>57</td>\n      <td>1</td>\n      <td>1</td>\n      <td>ADNI2</td>\n      <td>ADNI2</td>\n      <td>2013-12-11</td>\n      <td>SMC</td>\n      <td>1.0</td>\n      <td>75.5</td>\n      <td>Female</td>\n      <td>15</td>\n      <td>Not Hisp/Latino</td>\n      <td>White</td>\n      <td>Married</td>\n      <td></td>\n      <td>402028</td>\n    </tr>\n    <tr>\n      <th>10804</th>\n      <td>5296</td>\n      <td>053_S_5296</td>\n      <td>bl</td>\n      <td>53</td>\n      <td>1</td>\n      <td>1</td>\n      <td>ADNI2</td>\n      <td>ADNI2</td>\n      <td>2013-12-18</td>\n      <td>SMC</td>\n      <td>1.0</td>\n      <td>69.3</td>\n      <td>Male</td>\n      <td>14</td>\n      <td>Not Hisp/Latino</td>\n      <td>White</td>\n      <td>Married</td>\n      <td></td>\n      <td>416077</td>\n    </tr>\n  </tbody>\n</table>\n<p>7952 rows × 19 columns</p>\n</div>"
     },
     "metadata": {},
     "execution_count": 19
    }
   ],
   "source": [
    "df_check_nulls = (df_tadpole_d1d2 != ' ')\n",
    "df_mri = df_tadpole_d1d2[df_check_nulls[mri_images_ids].any(axis = 1)][participant_info_cols + mri_images_ids]\n",
    "df_mri"
   ]
  },
  {
   "cell_type": "code",
   "execution_count": 20,
   "metadata": {},
   "outputs": [
    {
     "output_type": "stream",
     "name": "stdout",
     "text": [
      "Patients with MRI images: 1735\n"
     ]
    },
    {
     "output_type": "execute_result",
     "data": {
      "text/plain": [
       "array(['011_S_0002', '011_S_0003', '022_S_0004', ..., '051_S_5294',\n",
       "       '057_S_5295', '053_S_5296'], dtype=object)"
      ]
     },
     "metadata": {},
     "execution_count": 20
    }
   ],
   "source": [
    "participants_with_mri = df_mri['PTID'].unique()\n",
    "print('Patients with MRI images:' ,participants_with_mri.shape[0])\n",
    "participants_with_mri"
   ]
  },
  {
   "cell_type": "code",
   "execution_count": 22,
   "metadata": {},
   "outputs": [],
   "source": [
    "participants_with_mri_formatted_list = str(list(participants_with_mri)[:1500]).replace(\"'\",\"\").replace(\"[\",\"\").replace(\"]\",\"\")\n",
    "# participants_with_mri_formatted_list"
   ]
  },
  {
   "source": [
    "participants_with_mri_formatted_list = str(list(participants_with_mri)[1500:]).replace(\"'\",\"\").replace(\"[\",\"\").replace(\"]\",\"\")\n",
    "# participants_with_mri_formatted_list"
   ],
   "cell_type": "code",
   "metadata": {},
   "execution_count": 23,
   "outputs": []
  },
  {
   "source": [
    "## PET images"
   ],
   "cell_type": "markdown",
   "metadata": {}
  },
  {
   "cell_type": "code",
   "execution_count": 24,
   "metadata": {},
   "outputs": [
    {
     "output_type": "execute_result",
     "data": {
      "text/plain": [
       "                         FLDNAME     TBLNAME  \\\n",
       "835  LONIUID_BAIPETNMRC_09_12_16  BAIPETNMRC   \n",
       "\n",
       "                                             CRFNAME  \\\n",
       "835  BANNER ALZHEIMER'S INSTITUTE PET NMRC SUMMARIES   \n",
       "\n",
       "                             TEXT                                       NOTES  \n",
       "835  LONI UNIQUE IMAGE IDENTIFIER  THIS IS A LONGER DESCRIPTION IF NECESSARY.  "
      ],
      "text/html": "<div>\n<style scoped>\n    .dataframe tbody tr th:only-of-type {\n        vertical-align: middle;\n    }\n\n    .dataframe tbody tr th {\n        vertical-align: top;\n    }\n\n    .dataframe thead th {\n        text-align: right;\n    }\n</style>\n<table border=\"1\" class=\"dataframe\">\n  <thead>\n    <tr style=\"text-align: right;\">\n      <th></th>\n      <th>FLDNAME</th>\n      <th>TBLNAME</th>\n      <th>CRFNAME</th>\n      <th>TEXT</th>\n      <th>NOTES</th>\n    </tr>\n  </thead>\n  <tbody>\n    <tr>\n      <th>835</th>\n      <td>LONIUID_BAIPETNMRC_09_12_16</td>\n      <td>BAIPETNMRC</td>\n      <td>BANNER ALZHEIMER'S INSTITUTE PET NMRC SUMMARIES</td>\n      <td>LONI UNIQUE IMAGE IDENTIFIER</td>\n      <td>THIS IS A LONGER DESCRIPTION IF NECESSARY.</td>\n    </tr>\n  </tbody>\n</table>\n</div>"
     },
     "metadata": {},
     "execution_count": 24
    }
   ],
   "source": [
    "# df_tadpole_d1d2dict.loc[df_tadpole_d1d2dict['FLDNAME'].str.contains(\"PET\") & df_tadpole_d1d2dict['TEXT'].str.contains(\"IMAGE\"),:]\n",
    "df_tadpole_d1d2dict.loc[df_tadpole_d1d2dict['FLDNAME'].str.contains(\"PET\") & df_tadpole_d1d2dict['TEXT'].str.contains(\"IMAGE\"),:]"
   ]
  },
  {
   "cell_type": "code",
   "execution_count": 25,
   "metadata": {},
   "outputs": [],
   "source": [
    "pet_images_ids = ['LONIUID_BAIPETNMRC_09_12_16']"
   ]
  },
  {
   "cell_type": "code",
   "execution_count": 26,
   "metadata": {},
   "outputs": [
    {
     "output_type": "execute_result",
     "data": {
      "text/plain": [
       "                          FLDNAME     TBLNAME  \\\n",
       "835   LONIUID_BAIPETNMRC_09_12_16  BAIPETNMRC   \n",
       "1670    LONIUID_1_DTIROI_04_30_14      DTIROI   \n",
       "1671    LONIUID_2_DTIROI_04_30_14      DTIROI   \n",
       "1672    LONIUID_3_DTIROI_04_30_14      DTIROI   \n",
       "1673    LONIUID_4_DTIROI_04_30_14      DTIROI   \n",
       "\n",
       "                                              CRFNAME  \\\n",
       "835   BANNER ALZHEIMER'S INSTITUTE PET NMRC SUMMARIES   \n",
       "1670                         DTI ROI SUMMARY MEASURES   \n",
       "1671                         DTI ROI SUMMARY MEASURES   \n",
       "1672                         DTI ROI SUMMARY MEASURES   \n",
       "1673                         DTI ROI SUMMARY MEASURES   \n",
       "\n",
       "                              TEXT                                       NOTES  \n",
       "835   LONI UNIQUE IMAGE IDENTIFIER  THIS IS A LONGER DESCRIPTION IF NECESSARY.  \n",
       "1670          LONI IMAGE ID FOR FA                                              \n",
       "1671          LONI IMAGE ID FOR MD                                              \n",
       "1672          LONI IMAGE ID FOR RD                                              \n",
       "1673          LONI IMAGE ID FOR AD                                              "
      ],
      "text/html": "<div>\n<style scoped>\n    .dataframe tbody tr th:only-of-type {\n        vertical-align: middle;\n    }\n\n    .dataframe tbody tr th {\n        vertical-align: top;\n    }\n\n    .dataframe thead th {\n        text-align: right;\n    }\n</style>\n<table border=\"1\" class=\"dataframe\">\n  <thead>\n    <tr style=\"text-align: right;\">\n      <th></th>\n      <th>FLDNAME</th>\n      <th>TBLNAME</th>\n      <th>CRFNAME</th>\n      <th>TEXT</th>\n      <th>NOTES</th>\n    </tr>\n  </thead>\n  <tbody>\n    <tr>\n      <th>835</th>\n      <td>LONIUID_BAIPETNMRC_09_12_16</td>\n      <td>BAIPETNMRC</td>\n      <td>BANNER ALZHEIMER'S INSTITUTE PET NMRC SUMMARIES</td>\n      <td>LONI UNIQUE IMAGE IDENTIFIER</td>\n      <td>THIS IS A LONGER DESCRIPTION IF NECESSARY.</td>\n    </tr>\n    <tr>\n      <th>1670</th>\n      <td>LONIUID_1_DTIROI_04_30_14</td>\n      <td>DTIROI</td>\n      <td>DTI ROI SUMMARY MEASURES</td>\n      <td>LONI IMAGE ID FOR FA</td>\n      <td></td>\n    </tr>\n    <tr>\n      <th>1671</th>\n      <td>LONIUID_2_DTIROI_04_30_14</td>\n      <td>DTIROI</td>\n      <td>DTI ROI SUMMARY MEASURES</td>\n      <td>LONI IMAGE ID FOR MD</td>\n      <td></td>\n    </tr>\n    <tr>\n      <th>1672</th>\n      <td>LONIUID_3_DTIROI_04_30_14</td>\n      <td>DTIROI</td>\n      <td>DTI ROI SUMMARY MEASURES</td>\n      <td>LONI IMAGE ID FOR RD</td>\n      <td></td>\n    </tr>\n    <tr>\n      <th>1673</th>\n      <td>LONIUID_4_DTIROI_04_30_14</td>\n      <td>DTIROI</td>\n      <td>DTI ROI SUMMARY MEASURES</td>\n      <td>LONI IMAGE ID FOR AD</td>\n      <td></td>\n    </tr>\n  </tbody>\n</table>\n</div>"
     },
     "metadata": {},
     "execution_count": 26
    }
   ],
   "source": [
    "df_tadpole_d1d2dict.loc[(df_tadpole_d1d2dict['TEXT'].str.contains(\"IMAGE\")) & (~df_tadpole_d1d2dict['FLDNAME'].str.contains(\"UCSFF\") ),:]"
   ]
  },
  {
   "cell_type": "code",
   "execution_count": 27,
   "metadata": {},
   "outputs": [
    {
     "output_type": "execute_result",
     "data": {
      "text/plain": [
       "                                           FLDNAME         TBLNAME  \\\n",
       "1172               FLDNAME_UCBERKELEYAV45_10_17_16         TBLNAME   \n",
       "1173                   RID_UCBERKELEYAV45_10_17_16  UCBERKELEYAV45   \n",
       "1174               VISCODE_UCBERKELEYAV45_10_17_16  UCBERKELEYAV45   \n",
       "1175              VISCODE2_UCBERKELEYAV45_10_17_16  UCBERKELEYAV45   \n",
       "1176              EXAMDATE_UCBERKELEYAV45_10_17_16  UCBERKELEYAV45   \n",
       "1177  CEREBELLUMGREYMATTER_UCBERKELEYAV45_10_17_16  UCBERKELEYAV45   \n",
       "1178       WHOLECEREBELLUM_UCBERKELEYAV45_10_17_16  UCBERKELEYAV45   \n",
       "1179  ERODED_SUBCORTICALWM_UCBERKELEYAV45_10_17_16  UCBERKELEYAV45   \n",
       "1180         COMPOSITE_REF_UCBERKELEYAV45_10_17_16  UCBERKELEYAV45   \n",
       "1181               FRONTAL_UCBERKELEYAV45_10_17_16  UCBERKELEYAV45   \n",
       "\n",
       "                          CRFNAME  \\\n",
       "1172                      CRFNAME   \n",
       "1173  UC BERKELEY - AV45 ANALYSIS   \n",
       "1174  UC BERKELEY - AV45 ANALYSIS   \n",
       "1175  UC BERKELEY - AV45 ANALYSIS   \n",
       "1176  UC BERKELEY - AV45 ANALYSIS   \n",
       "1177  UC BERKELEY - AV45 ANALYSIS   \n",
       "1178  UC BERKELEY - AV45 ANALYSIS   \n",
       "1179  UC BERKELEY - AV45 ANALYSIS   \n",
       "1180  UC BERKELEY - AV45 ANALYSIS   \n",
       "1181  UC BERKELEY - AV45 ANALYSIS   \n",
       "\n",
       "                                                   TEXT  \\\n",
       "1172                                               TEXT   \n",
       "1173                              PARTICIPANT ROSTER ID   \n",
       "1174                                         VISIT CODE   \n",
       "1175                              TRANSLATED VISIT CODE   \n",
       "1176                                  DATE OF AV45 SCAN   \n",
       "1177  REFERENCE REGION - FLORBETAPIR MEAN OF CEREBEL...   \n",
       "1178  REFERENCE REGION - FLORBETAPIR MEAN OF WHOLE C...   \n",
       "1179  REFERENCE REGION - FLORBETAPIR MEAN OF ERODED ...   \n",
       "1180  REFERENCE REGION - FLORBETAPIR MEAN OF COMPOSI...   \n",
       "1181  WEIGHTED FLORBETAPIR MEAN IN FRONTAL REGIONS. ...   \n",
       "\n",
       "                                                  NOTES  \n",
       "1172                                              NOTES  \n",
       "1173  THE 4 DIGIT ROSTER ID (RID) SHOULD BE USED TO ...  \n",
       "1174                                                     \n",
       "1175   MONTHS FROM BASELINE ROUNDED TO NEAREST 6 MONTHS  \n",
       "1176                                                 -4  \n",
       "1177                                                 -4  \n",
       "1178                                                 -4  \n",
       "1179                                                 -4  \n",
       "1180                                                 -4  \n",
       "1181                                                 -4  "
      ],
      "text/html": "<div>\n<style scoped>\n    .dataframe tbody tr th:only-of-type {\n        vertical-align: middle;\n    }\n\n    .dataframe tbody tr th {\n        vertical-align: top;\n    }\n\n    .dataframe thead th {\n        text-align: right;\n    }\n</style>\n<table border=\"1\" class=\"dataframe\">\n  <thead>\n    <tr style=\"text-align: right;\">\n      <th></th>\n      <th>FLDNAME</th>\n      <th>TBLNAME</th>\n      <th>CRFNAME</th>\n      <th>TEXT</th>\n      <th>NOTES</th>\n    </tr>\n  </thead>\n  <tbody>\n    <tr>\n      <th>1172</th>\n      <td>FLDNAME_UCBERKELEYAV45_10_17_16</td>\n      <td>TBLNAME</td>\n      <td>CRFNAME</td>\n      <td>TEXT</td>\n      <td>NOTES</td>\n    </tr>\n    <tr>\n      <th>1173</th>\n      <td>RID_UCBERKELEYAV45_10_17_16</td>\n      <td>UCBERKELEYAV45</td>\n      <td>UC BERKELEY - AV45 ANALYSIS</td>\n      <td>PARTICIPANT ROSTER ID</td>\n      <td>THE 4 DIGIT ROSTER ID (RID) SHOULD BE USED TO ...</td>\n    </tr>\n    <tr>\n      <th>1174</th>\n      <td>VISCODE_UCBERKELEYAV45_10_17_16</td>\n      <td>UCBERKELEYAV45</td>\n      <td>UC BERKELEY - AV45 ANALYSIS</td>\n      <td>VISIT CODE</td>\n      <td></td>\n    </tr>\n    <tr>\n      <th>1175</th>\n      <td>VISCODE2_UCBERKELEYAV45_10_17_16</td>\n      <td>UCBERKELEYAV45</td>\n      <td>UC BERKELEY - AV45 ANALYSIS</td>\n      <td>TRANSLATED VISIT CODE</td>\n      <td>MONTHS FROM BASELINE ROUNDED TO NEAREST 6 MONTHS</td>\n    </tr>\n    <tr>\n      <th>1176</th>\n      <td>EXAMDATE_UCBERKELEYAV45_10_17_16</td>\n      <td>UCBERKELEYAV45</td>\n      <td>UC BERKELEY - AV45 ANALYSIS</td>\n      <td>DATE OF AV45 SCAN</td>\n      <td>-4</td>\n    </tr>\n    <tr>\n      <th>1177</th>\n      <td>CEREBELLUMGREYMATTER_UCBERKELEYAV45_10_17_16</td>\n      <td>UCBERKELEYAV45</td>\n      <td>UC BERKELEY - AV45 ANALYSIS</td>\n      <td>REFERENCE REGION - FLORBETAPIR MEAN OF CEREBEL...</td>\n      <td>-4</td>\n    </tr>\n    <tr>\n      <th>1178</th>\n      <td>WHOLECEREBELLUM_UCBERKELEYAV45_10_17_16</td>\n      <td>UCBERKELEYAV45</td>\n      <td>UC BERKELEY - AV45 ANALYSIS</td>\n      <td>REFERENCE REGION - FLORBETAPIR MEAN OF WHOLE C...</td>\n      <td>-4</td>\n    </tr>\n    <tr>\n      <th>1179</th>\n      <td>ERODED_SUBCORTICALWM_UCBERKELEYAV45_10_17_16</td>\n      <td>UCBERKELEYAV45</td>\n      <td>UC BERKELEY - AV45 ANALYSIS</td>\n      <td>REFERENCE REGION - FLORBETAPIR MEAN OF ERODED ...</td>\n      <td>-4</td>\n    </tr>\n    <tr>\n      <th>1180</th>\n      <td>COMPOSITE_REF_UCBERKELEYAV45_10_17_16</td>\n      <td>UCBERKELEYAV45</td>\n      <td>UC BERKELEY - AV45 ANALYSIS</td>\n      <td>REFERENCE REGION - FLORBETAPIR MEAN OF COMPOSI...</td>\n      <td>-4</td>\n    </tr>\n    <tr>\n      <th>1181</th>\n      <td>FRONTAL_UCBERKELEYAV45_10_17_16</td>\n      <td>UCBERKELEYAV45</td>\n      <td>UC BERKELEY - AV45 ANALYSIS</td>\n      <td>WEIGHTED FLORBETAPIR MEAN IN FRONTAL REGIONS. ...</td>\n      <td>-4</td>\n    </tr>\n  </tbody>\n</table>\n</div>"
     },
     "metadata": {},
     "execution_count": 27
    }
   ],
   "source": [
    "df_tadpole_d1d2dict.loc[(df_tadpole_d1d2dict['FLDNAME'].str.contains('UCBERK') ),:].head(10)"
   ]
  },
  {
   "cell_type": "code",
   "execution_count": 28,
   "metadata": {},
   "outputs": [
    {
     "output_type": "execute_result",
     "data": {
      "text/plain": [
       "      RID        PTID VISCODE  SITE  D1  D2 COLPROT ORIGPROT    EXAMDATE  \\\n",
       "0       2  011_S_0002      bl    11   1   1   ADNI1    ADNI1  2005-09-08   \n",
       "5723    2  011_S_0002     m06    11   1   1   ADNI1    ADNI1  2006-03-06   \n",
       "1       3  011_S_0003      bl    11   1   0   ADNI1    ADNI1  2005-09-12   \n",
       "2       3  011_S_0003     m06    11   1   0   ADNI1    ADNI1  2006-03-13   \n",
       "3       3  011_S_0003     m12    11   1   0   ADNI1    ADNI1  2006-09-12   \n",
       "4       3  011_S_0003     m24    11   1   0   ADNI1    ADNI1  2007-09-12   \n",
       "12      5  011_S_0005     m12    11   1   0   ADNI1    ADNI1  2006-09-05   \n",
       "13      5  011_S_0005     m24    11   1   0   ADNI1    ADNI1  2007-09-07   \n",
       "10      5  011_S_0005      bl    11   1   0   ADNI1    ADNI1  2005-09-07   \n",
       "11      5  011_S_0005     m06    11   1   0   ADNI1    ADNI1  2006-03-09   \n",
       "\n",
       "     DX_bl  DXCHANGE   AGE PTGENDER  PTEDUCAT         PTETHCAT PTRACCAT  \\\n",
       "0       CN       1.0  74.3     Male        16  Not Hisp/Latino    White   \n",
       "5723    CN       1.0  74.3     Male        16  Not Hisp/Latino    White   \n",
       "1       AD       3.0  81.3     Male        18  Not Hisp/Latino    White   \n",
       "2       AD       3.0  81.3     Male        18  Not Hisp/Latino    White   \n",
       "3       AD       3.0  81.3     Male        18  Not Hisp/Latino    White   \n",
       "4       AD       3.0  81.3     Male        18  Not Hisp/Latino    White   \n",
       "12      CN       1.0  73.7     Male        16  Not Hisp/Latino    White   \n",
       "13      CN       1.0  73.7     Male        16  Not Hisp/Latino    White   \n",
       "10      CN       1.0  73.7     Male        16  Not Hisp/Latino    White   \n",
       "11      CN       1.0  73.7     Male        16  Not Hisp/Latino    White   \n",
       "\n",
       "      PTMARRY  \n",
       "0     Married  \n",
       "5723  Married  \n",
       "1     Married  \n",
       "2     Married  \n",
       "3     Married  \n",
       "4     Married  \n",
       "12    Married  \n",
       "13    Married  \n",
       "10    Married  \n",
       "11    Married  "
      ],
      "text/html": "<div>\n<style scoped>\n    .dataframe tbody tr th:only-of-type {\n        vertical-align: middle;\n    }\n\n    .dataframe tbody tr th {\n        vertical-align: top;\n    }\n\n    .dataframe thead th {\n        text-align: right;\n    }\n</style>\n<table border=\"1\" class=\"dataframe\">\n  <thead>\n    <tr style=\"text-align: right;\">\n      <th></th>\n      <th>RID</th>\n      <th>PTID</th>\n      <th>VISCODE</th>\n      <th>SITE</th>\n      <th>D1</th>\n      <th>D2</th>\n      <th>COLPROT</th>\n      <th>ORIGPROT</th>\n      <th>EXAMDATE</th>\n      <th>DX_bl</th>\n      <th>DXCHANGE</th>\n      <th>AGE</th>\n      <th>PTGENDER</th>\n      <th>PTEDUCAT</th>\n      <th>PTETHCAT</th>\n      <th>PTRACCAT</th>\n      <th>PTMARRY</th>\n    </tr>\n  </thead>\n  <tbody>\n    <tr>\n      <th>0</th>\n      <td>2</td>\n      <td>011_S_0002</td>\n      <td>bl</td>\n      <td>11</td>\n      <td>1</td>\n      <td>1</td>\n      <td>ADNI1</td>\n      <td>ADNI1</td>\n      <td>2005-09-08</td>\n      <td>CN</td>\n      <td>1.0</td>\n      <td>74.3</td>\n      <td>Male</td>\n      <td>16</td>\n      <td>Not Hisp/Latino</td>\n      <td>White</td>\n      <td>Married</td>\n    </tr>\n    <tr>\n      <th>5723</th>\n      <td>2</td>\n      <td>011_S_0002</td>\n      <td>m06</td>\n      <td>11</td>\n      <td>1</td>\n      <td>1</td>\n      <td>ADNI1</td>\n      <td>ADNI1</td>\n      <td>2006-03-06</td>\n      <td>CN</td>\n      <td>1.0</td>\n      <td>74.3</td>\n      <td>Male</td>\n      <td>16</td>\n      <td>Not Hisp/Latino</td>\n      <td>White</td>\n      <td>Married</td>\n    </tr>\n    <tr>\n      <th>1</th>\n      <td>3</td>\n      <td>011_S_0003</td>\n      <td>bl</td>\n      <td>11</td>\n      <td>1</td>\n      <td>0</td>\n      <td>ADNI1</td>\n      <td>ADNI1</td>\n      <td>2005-09-12</td>\n      <td>AD</td>\n      <td>3.0</td>\n      <td>81.3</td>\n      <td>Male</td>\n      <td>18</td>\n      <td>Not Hisp/Latino</td>\n      <td>White</td>\n      <td>Married</td>\n    </tr>\n    <tr>\n      <th>2</th>\n      <td>3</td>\n      <td>011_S_0003</td>\n      <td>m06</td>\n      <td>11</td>\n      <td>1</td>\n      <td>0</td>\n      <td>ADNI1</td>\n      <td>ADNI1</td>\n      <td>2006-03-13</td>\n      <td>AD</td>\n      <td>3.0</td>\n      <td>81.3</td>\n      <td>Male</td>\n      <td>18</td>\n      <td>Not Hisp/Latino</td>\n      <td>White</td>\n      <td>Married</td>\n    </tr>\n    <tr>\n      <th>3</th>\n      <td>3</td>\n      <td>011_S_0003</td>\n      <td>m12</td>\n      <td>11</td>\n      <td>1</td>\n      <td>0</td>\n      <td>ADNI1</td>\n      <td>ADNI1</td>\n      <td>2006-09-12</td>\n      <td>AD</td>\n      <td>3.0</td>\n      <td>81.3</td>\n      <td>Male</td>\n      <td>18</td>\n      <td>Not Hisp/Latino</td>\n      <td>White</td>\n      <td>Married</td>\n    </tr>\n    <tr>\n      <th>4</th>\n      <td>3</td>\n      <td>011_S_0003</td>\n      <td>m24</td>\n      <td>11</td>\n      <td>1</td>\n      <td>0</td>\n      <td>ADNI1</td>\n      <td>ADNI1</td>\n      <td>2007-09-12</td>\n      <td>AD</td>\n      <td>3.0</td>\n      <td>81.3</td>\n      <td>Male</td>\n      <td>18</td>\n      <td>Not Hisp/Latino</td>\n      <td>White</td>\n      <td>Married</td>\n    </tr>\n    <tr>\n      <th>12</th>\n      <td>5</td>\n      <td>011_S_0005</td>\n      <td>m12</td>\n      <td>11</td>\n      <td>1</td>\n      <td>0</td>\n      <td>ADNI1</td>\n      <td>ADNI1</td>\n      <td>2006-09-05</td>\n      <td>CN</td>\n      <td>1.0</td>\n      <td>73.7</td>\n      <td>Male</td>\n      <td>16</td>\n      <td>Not Hisp/Latino</td>\n      <td>White</td>\n      <td>Married</td>\n    </tr>\n    <tr>\n      <th>13</th>\n      <td>5</td>\n      <td>011_S_0005</td>\n      <td>m24</td>\n      <td>11</td>\n      <td>1</td>\n      <td>0</td>\n      <td>ADNI1</td>\n      <td>ADNI1</td>\n      <td>2007-09-07</td>\n      <td>CN</td>\n      <td>1.0</td>\n      <td>73.7</td>\n      <td>Male</td>\n      <td>16</td>\n      <td>Not Hisp/Latino</td>\n      <td>White</td>\n      <td>Married</td>\n    </tr>\n    <tr>\n      <th>10</th>\n      <td>5</td>\n      <td>011_S_0005</td>\n      <td>bl</td>\n      <td>11</td>\n      <td>1</td>\n      <td>0</td>\n      <td>ADNI1</td>\n      <td>ADNI1</td>\n      <td>2005-09-07</td>\n      <td>CN</td>\n      <td>1.0</td>\n      <td>73.7</td>\n      <td>Male</td>\n      <td>16</td>\n      <td>Not Hisp/Latino</td>\n      <td>White</td>\n      <td>Married</td>\n    </tr>\n    <tr>\n      <th>11</th>\n      <td>5</td>\n      <td>011_S_0005</td>\n      <td>m06</td>\n      <td>11</td>\n      <td>1</td>\n      <td>0</td>\n      <td>ADNI1</td>\n      <td>ADNI1</td>\n      <td>2006-03-09</td>\n      <td>CN</td>\n      <td>1.0</td>\n      <td>73.7</td>\n      <td>Male</td>\n      <td>16</td>\n      <td>Not Hisp/Latino</td>\n      <td>White</td>\n      <td>Married</td>\n    </tr>\n  </tbody>\n</table>\n</div>"
     },
     "metadata": {},
     "execution_count": 28
    }
   ],
   "source": [
    "df_tadpole_participant.loc[df_tadpole_d1d2['LONIUID_BAIPETNMRC_09_12_16'] != ' '].iloc[:10]"
   ]
  },
  {
   "cell_type": "code",
   "execution_count": 29,
   "metadata": {},
   "outputs": [
    {
     "output_type": "execute_result",
     "data": {
      "text/plain": [
       "        RID        PTID VISCODE  SITE  D1  D2 COLPROT ORIGPROT    EXAMDATE  \\\n",
       "0         2  011_S_0002      bl    11   1   1   ADNI1    ADNI1  2005-09-08   \n",
       "5723      2  011_S_0002     m06    11   1   1   ADNI1    ADNI1  2006-03-06   \n",
       "1         3  011_S_0003      bl    11   1   0   ADNI1    ADNI1  2005-09-12   \n",
       "2         3  011_S_0003     m06    11   1   0   ADNI1    ADNI1  2006-03-13   \n",
       "3         3  011_S_0003     m12    11   1   0   ADNI1    ADNI1  2006-09-12   \n",
       "...     ...         ...     ...   ...  ..  ..     ...      ...         ...   \n",
       "12556  5294  051_S_5294     m24    51   1   1   ADNI2    ADNI2  2016-05-19   \n",
       "12277  5295  057_S_5295     m24    57   1   1   ADNI2    ADNI2  2015-12-08   \n",
       "10802  5295  057_S_5295      bl    57   1   1   ADNI2    ADNI2  2013-12-11   \n",
       "12302  5296  053_S_5296     m24    53   1   1   ADNI2    ADNI2  2015-12-17   \n",
       "10804  5296  053_S_5296      bl    53   1   1   ADNI2    ADNI2  2013-12-18   \n",
       "\n",
       "      DX_bl  DXCHANGE   AGE PTGENDER  PTEDUCAT         PTETHCAT PTRACCAT  \\\n",
       "0        CN       1.0  74.3     Male        16  Not Hisp/Latino    White   \n",
       "5723     CN       1.0  74.3     Male        16  Not Hisp/Latino    White   \n",
       "1        AD       3.0  81.3     Male        18  Not Hisp/Latino    White   \n",
       "2        AD       3.0  81.3     Male        18  Not Hisp/Latino    White   \n",
       "3        AD       3.0  81.3     Male        18  Not Hisp/Latino    White   \n",
       "...     ...       ...   ...      ...       ...              ...      ...   \n",
       "12556   SMC       1.0  68.5     Male        18  Not Hisp/Latino    White   \n",
       "12277   SMC       1.0  75.5   Female        15  Not Hisp/Latino    White   \n",
       "10802   SMC       1.0  75.5   Female        15  Not Hisp/Latino    White   \n",
       "12302   SMC       1.0  69.3     Male        14  Not Hisp/Latino    White   \n",
       "10804   SMC       1.0  69.3     Male        14  Not Hisp/Latino    White   \n",
       "\n",
       "        PTMARRY EXAMDATE_UCBERKELEYAV45_10_17_16 LONIUID_BAIPETNMRC_09_12_16  \n",
       "0       Married                                                        26812  \n",
       "5723    Married                                                        26808  \n",
       "1       Married                                                        26854  \n",
       "2       Married                                                        26850  \n",
       "3       Married                                                        26827  \n",
       "...         ...                              ...                         ...  \n",
       "12556  Divorced                       2016-05-12                              \n",
       "12277   Married                       2015-12-01                      580965  \n",
       "10802   Married                       2014-04-15                      420681  \n",
       "12302   Married                       2015-12-17                      589636  \n",
       "10804   Married                       2013-12-18                      403698  \n",
       "\n",
       "[3931 rows x 19 columns]"
      ],
      "text/html": "<div>\n<style scoped>\n    .dataframe tbody tr th:only-of-type {\n        vertical-align: middle;\n    }\n\n    .dataframe tbody tr th {\n        vertical-align: top;\n    }\n\n    .dataframe thead th {\n        text-align: right;\n    }\n</style>\n<table border=\"1\" class=\"dataframe\">\n  <thead>\n    <tr style=\"text-align: right;\">\n      <th></th>\n      <th>RID</th>\n      <th>PTID</th>\n      <th>VISCODE</th>\n      <th>SITE</th>\n      <th>D1</th>\n      <th>D2</th>\n      <th>COLPROT</th>\n      <th>ORIGPROT</th>\n      <th>EXAMDATE</th>\n      <th>DX_bl</th>\n      <th>DXCHANGE</th>\n      <th>AGE</th>\n      <th>PTGENDER</th>\n      <th>PTEDUCAT</th>\n      <th>PTETHCAT</th>\n      <th>PTRACCAT</th>\n      <th>PTMARRY</th>\n      <th>EXAMDATE_UCBERKELEYAV45_10_17_16</th>\n      <th>LONIUID_BAIPETNMRC_09_12_16</th>\n    </tr>\n  </thead>\n  <tbody>\n    <tr>\n      <th>0</th>\n      <td>2</td>\n      <td>011_S_0002</td>\n      <td>bl</td>\n      <td>11</td>\n      <td>1</td>\n      <td>1</td>\n      <td>ADNI1</td>\n      <td>ADNI1</td>\n      <td>2005-09-08</td>\n      <td>CN</td>\n      <td>1.0</td>\n      <td>74.3</td>\n      <td>Male</td>\n      <td>16</td>\n      <td>Not Hisp/Latino</td>\n      <td>White</td>\n      <td>Married</td>\n      <td></td>\n      <td>26812</td>\n    </tr>\n    <tr>\n      <th>5723</th>\n      <td>2</td>\n      <td>011_S_0002</td>\n      <td>m06</td>\n      <td>11</td>\n      <td>1</td>\n      <td>1</td>\n      <td>ADNI1</td>\n      <td>ADNI1</td>\n      <td>2006-03-06</td>\n      <td>CN</td>\n      <td>1.0</td>\n      <td>74.3</td>\n      <td>Male</td>\n      <td>16</td>\n      <td>Not Hisp/Latino</td>\n      <td>White</td>\n      <td>Married</td>\n      <td></td>\n      <td>26808</td>\n    </tr>\n    <tr>\n      <th>1</th>\n      <td>3</td>\n      <td>011_S_0003</td>\n      <td>bl</td>\n      <td>11</td>\n      <td>1</td>\n      <td>0</td>\n      <td>ADNI1</td>\n      <td>ADNI1</td>\n      <td>2005-09-12</td>\n      <td>AD</td>\n      <td>3.0</td>\n      <td>81.3</td>\n      <td>Male</td>\n      <td>18</td>\n      <td>Not Hisp/Latino</td>\n      <td>White</td>\n      <td>Married</td>\n      <td></td>\n      <td>26854</td>\n    </tr>\n    <tr>\n      <th>2</th>\n      <td>3</td>\n      <td>011_S_0003</td>\n      <td>m06</td>\n      <td>11</td>\n      <td>1</td>\n      <td>0</td>\n      <td>ADNI1</td>\n      <td>ADNI1</td>\n      <td>2006-03-13</td>\n      <td>AD</td>\n      <td>3.0</td>\n      <td>81.3</td>\n      <td>Male</td>\n      <td>18</td>\n      <td>Not Hisp/Latino</td>\n      <td>White</td>\n      <td>Married</td>\n      <td></td>\n      <td>26850</td>\n    </tr>\n    <tr>\n      <th>3</th>\n      <td>3</td>\n      <td>011_S_0003</td>\n      <td>m12</td>\n      <td>11</td>\n      <td>1</td>\n      <td>0</td>\n      <td>ADNI1</td>\n      <td>ADNI1</td>\n      <td>2006-09-12</td>\n      <td>AD</td>\n      <td>3.0</td>\n      <td>81.3</td>\n      <td>Male</td>\n      <td>18</td>\n      <td>Not Hisp/Latino</td>\n      <td>White</td>\n      <td>Married</td>\n      <td></td>\n      <td>26827</td>\n    </tr>\n    <tr>\n      <th>...</th>\n      <td>...</td>\n      <td>...</td>\n      <td>...</td>\n      <td>...</td>\n      <td>...</td>\n      <td>...</td>\n      <td>...</td>\n      <td>...</td>\n      <td>...</td>\n      <td>...</td>\n      <td>...</td>\n      <td>...</td>\n      <td>...</td>\n      <td>...</td>\n      <td>...</td>\n      <td>...</td>\n      <td>...</td>\n      <td>...</td>\n      <td>...</td>\n    </tr>\n    <tr>\n      <th>12556</th>\n      <td>5294</td>\n      <td>051_S_5294</td>\n      <td>m24</td>\n      <td>51</td>\n      <td>1</td>\n      <td>1</td>\n      <td>ADNI2</td>\n      <td>ADNI2</td>\n      <td>2016-05-19</td>\n      <td>SMC</td>\n      <td>1.0</td>\n      <td>68.5</td>\n      <td>Male</td>\n      <td>18</td>\n      <td>Not Hisp/Latino</td>\n      <td>White</td>\n      <td>Divorced</td>\n      <td>2016-05-12</td>\n      <td></td>\n    </tr>\n    <tr>\n      <th>12277</th>\n      <td>5295</td>\n      <td>057_S_5295</td>\n      <td>m24</td>\n      <td>57</td>\n      <td>1</td>\n      <td>1</td>\n      <td>ADNI2</td>\n      <td>ADNI2</td>\n      <td>2015-12-08</td>\n      <td>SMC</td>\n      <td>1.0</td>\n      <td>75.5</td>\n      <td>Female</td>\n      <td>15</td>\n      <td>Not Hisp/Latino</td>\n      <td>White</td>\n      <td>Married</td>\n      <td>2015-12-01</td>\n      <td>580965</td>\n    </tr>\n    <tr>\n      <th>10802</th>\n      <td>5295</td>\n      <td>057_S_5295</td>\n      <td>bl</td>\n      <td>57</td>\n      <td>1</td>\n      <td>1</td>\n      <td>ADNI2</td>\n      <td>ADNI2</td>\n      <td>2013-12-11</td>\n      <td>SMC</td>\n      <td>1.0</td>\n      <td>75.5</td>\n      <td>Female</td>\n      <td>15</td>\n      <td>Not Hisp/Latino</td>\n      <td>White</td>\n      <td>Married</td>\n      <td>2014-04-15</td>\n      <td>420681</td>\n    </tr>\n    <tr>\n      <th>12302</th>\n      <td>5296</td>\n      <td>053_S_5296</td>\n      <td>m24</td>\n      <td>53</td>\n      <td>1</td>\n      <td>1</td>\n      <td>ADNI2</td>\n      <td>ADNI2</td>\n      <td>2015-12-17</td>\n      <td>SMC</td>\n      <td>1.0</td>\n      <td>69.3</td>\n      <td>Male</td>\n      <td>14</td>\n      <td>Not Hisp/Latino</td>\n      <td>White</td>\n      <td>Married</td>\n      <td>2015-12-17</td>\n      <td>589636</td>\n    </tr>\n    <tr>\n      <th>10804</th>\n      <td>5296</td>\n      <td>053_S_5296</td>\n      <td>bl</td>\n      <td>53</td>\n      <td>1</td>\n      <td>1</td>\n      <td>ADNI2</td>\n      <td>ADNI2</td>\n      <td>2013-12-18</td>\n      <td>SMC</td>\n      <td>1.0</td>\n      <td>69.3</td>\n      <td>Male</td>\n      <td>14</td>\n      <td>Not Hisp/Latino</td>\n      <td>White</td>\n      <td>Married</td>\n      <td>2013-12-18</td>\n      <td>403698</td>\n    </tr>\n  </tbody>\n</table>\n<p>3931 rows × 19 columns</p>\n</div>"
     },
     "metadata": {},
     "execution_count": 29
    }
   ],
   "source": [
    "pet_images_ids = ['EXAMDATE_UCBERKELEYAV45_10_17_16','LONIUID_BAIPETNMRC_09_12_16']\n",
    "df_check_nulls = (df_tadpole_d1d2 != ' ')\n",
    "df_pet = df_tadpole_d1d2[df_check_nulls[pet_images_ids].any(axis = 1)][participant_info_cols + pet_images_ids]\n",
    "df_pet"
   ]
  },
  {
   "cell_type": "code",
   "execution_count": 30,
   "metadata": {},
   "outputs": [
    {
     "output_type": "stream",
     "name": "stdout",
     "text": [
      "Patients with PET images: 1413\n"
     ]
    }
   ],
   "source": [
    "participants_with_pet = df_pet['PTID'].unique()\n",
    "print('Patients with PET images:' ,participants_with_pet.shape[0])\n",
    "# participants_with_pet"
   ]
  },
  {
   "source": [
    "participants_with_pet_formatted_list = str(list(participants_with_pet)).replace(\"'\",\"\").replace(\"[\",\"\").replace(\"]\",\"\")\n",
    "# participants_with_pet_formatted_list"
   ],
   "cell_type": "code",
   "metadata": {},
   "execution_count": 31,
   "outputs": []
  },
  {
   "cell_type": "code",
   "execution_count": 32,
   "metadata": {},
   "outputs": [
    {
     "output_type": "stream",
     "name": "stdout",
     "text": [
      "Participants with both PET and MRI images: 1411\n"
     ]
    }
   ],
   "source": [
    "participants_with_pet_and_mri = list(set(list(participants_with_pet)) & set(list(participants_with_mri)))\n",
    "print('Participants with both PET and  MRI images:', len(participants_with_pet_and_mri))"
   ]
  }
 ],
 "metadata": {
  "kernelspec": {
   "display_name": "Python 3",
   "language": "python",
   "name": "python3"
  },
  "language_info": {
   "codemirror_mode": {
    "name": "ipython",
    "version": 3
   },
   "file_extension": ".py",
   "mimetype": "text/x-python",
   "name": "python",
   "nbconvert_exporter": "python",
   "pygments_lexer": "ipython3",
   "version": "3.8.5-final"
  }
 },
 "nbformat": 4,
 "nbformat_minor": 4
}